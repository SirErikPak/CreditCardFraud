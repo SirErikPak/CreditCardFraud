{
 "cells": [
  {
   "cell_type": "markdown",
   "id": "b8fc2936",
   "metadata": {},
   "source": [
    "## About the Dataset\n",
    "\n",
    "This is a simulated credit card transaction dataset containing legitimate and fraud transactions from the duration 1st Jan 2019 - 31st Dec 2020. It covers credit cards of 1000 customers doing transactions with a pool of 800 merchants.\n",
    "\n",
    "## Source of Simulation\n",
    "\n",
    "This was generated using Sparkov Data Generation | Github tool created by Brandon Harris. This simulation was run for the duration - 1 Jan 2019 to 31 Dec 2020. The files were combined and converted into a standard format.\n",
    "\n",
    "The simulator has certain pre-defined list of merchants, customers and transaction categories. And then using a python library called \"faker\", and with the number of customers, merchants that you mention during simulation, an intermediate list is created.\n",
    "\n",
    "After this, depending on the profile you choose for e.g. \"adults 2550 female rural.json\" (which means simulation properties of adult females in the age range of 25-50 who are from rural areas), the transactions are created. Say, for this profile, you could check \"Sparkov | Github | adults_2550_female_rural.json\", there are parameter value ranges defined in terms of min, max transactions per day, distribution of transactions across days of the week and normal distribution properties (mean, standard deviation) for amounts in various categories. Using these measures of distributions, the transactions are generated using faker.\n",
    "\n",
    "What I did was generate transactions across all profiles and then merged them together to create a more realistic representation of simulated transactions.\n",
    "\n",
    "## Acknowledgements\n",
    "\n",
    "Brandon Harris for his amazing work in creating this easy-to-use simulation tool for creating fraud transaction datasets.\n",
    "\n",
    "## Introduction\n",
    "Credit card fraud has shown a significant increase in attempted fraud, with e-commerce credit card fraud in the U.S. rising by 140%. Globally, 46% of credit card fraud occurs in the U.S., and global losses are projected to reach $43 billion by 2026, surpassing the GDP of many countries. Within ten years, these losses are expected to reach $397.4 billion, equivalent to the annual revenue of some Fortune 500 companies.\n",
    "\n",
    "The statistics paint a grim picture of the widespread nature of credit card fraud. A staggering 80% of all credit cards in circulation have been compromised, and 65% of all credit and debit cardholders have been victims of fraud. The leading type of identity theft, card-not-present fraud, accounts for 65% of losses. The average credit card fraud case reported to police is $400, with a median charge of $79. Shockingly, 20% of cardholders have experienced fraud two or more times, and 150 million Americans were victims last year. For every $1 lost to online fraud, merchants incur an [actual cost](https://merchantcostconsulting.com/lower-credit-card-processing-fees/credit-card-fraud-statistics/) of $3.75. This is not just a statistic but a call to action for all of us to be vigilant. A significant portion of the population (20% globally, 10% in the U.S. annually) has been affected by compromised records or identity theft. "
   ]
  },
  {
   "cell_type": "markdown",
   "id": "b4358746",
   "metadata": {},
   "source": [
    "### Import the necessary libraries"
   ]
  },
  {
   "cell_type": "code",
   "execution_count": 21,
   "id": "59d6065d",
   "metadata": {},
   "outputs": [
    {
     "name": "stdout",
     "output_type": "stream",
     "text": [
      "Numpy Version: 2.3.1\n",
      "Pandas Version: 2.2.3\n",
      "Seaborn Version: 0.13.2\n",
      "Matplotlib Version: 3.10.0\n",
      "Python Version: 3.13.5\n"
     ]
    }
   ],
   "source": [
    "# Path to user functions\n",
    "import sys\n",
    "sys.path.append(\"../Src/\")\n",
    "# display Python Version\n",
    "from platform import python_version\n",
    "# import libraries\n",
    "import pandas as pd\n",
    "import numpy as np\n",
    "import matplotlib.pyplot as plt\n",
    "import seaborn as sns\n",
    "from datetime import datetime\n",
    "# user functions\n",
    "import utilities as u\n",
    "\n",
    "# Initialize variables\n",
    "RANDOM_STATE = 1776\n",
    "\n",
    "# print versions\n",
    "print(\"Numpy Version: \" + np.__version__)\n",
    "print(\"Pandas Version: \" + pd.__version__)\n",
    "print(\"Seaborn Version: \" + sns.__version__)\n",
    "print(\"Matplotlib Version: \" + plt.matplotlib.__version__)\n",
    "print(\"Python Version: \" + python_version())"
   ]
  },
  {
   "cell_type": "markdown",
   "id": "5de830a6",
   "metadata": {},
   "source": [
    "### Load the dataset & Combine the train and test datasets"
   ]
  },
  {
   "cell_type": "code",
   "execution_count": 22,
   "id": "197bcfa7",
   "metadata": {},
   "outputs": [
    {
     "name": "stdout",
     "output_type": "stream",
     "text": [
      "Loading fraudTrain.csv...\n",
      "Training data shape: (1296675, 23)\n",
      "\n",
      "Loading fraudTest.csv...\n",
      "Training data shape: (1296675, 23)\n",
      "\n",
      "Loading fraudTest.csv...\n",
      "Test data shape: (555719, 23)\n",
      "\n",
      "Combining datasets...\n",
      "Combined data shape: (1852394, 23)\n",
      "Test data shape: (555719, 23)\n",
      "\n",
      "Combining datasets...\n",
      "Combined data shape: (1852394, 23)\n"
     ]
    }
   ],
   "source": [
    "# Load the CSV files\n",
    "print(\"Loading fraudTrain.csv...\")\n",
    "fraud_train = pd.read_csv(\"../Data/fraudTrain.csv\")\n",
    "print(f\"Training data shape: {fraud_train.shape}\")\n",
    "\n",
    "print(\"\\nLoading fraudTest.csv...\")\n",
    "fraud_test = pd.read_csv(\"../Data/fraudTest.csv\")\n",
    "print(f\"Test data shape: {fraud_test.shape}\")\n",
    "\n",
    "# Combine the datasets\n",
    "print(\"\\nCombining datasets...\")\n",
    "df = pd.concat([fraud_train, fraud_test], ignore_index=True)\n",
    "print(f\"Combined data shape: {df.shape}\")\n",
    "\n",
    "# reset index after concatenation\n",
    "df.reset_index(drop=True, inplace=True)"
   ]
  },
  {
   "cell_type": "code",
   "execution_count": 23,
   "id": "7d2564b8",
   "metadata": {},
   "outputs": [
    {
     "name": "stdout",
     "output_type": "stream",
     "text": [
      "<class 'pandas.core.frame.DataFrame'>\n",
      "RangeIndex: 1852394 entries, 0 to 1852393\n",
      "Data columns (total 23 columns):\n",
      " #   Column                 Dtype  \n",
      "---  ------                 -----  \n",
      " 0   Unnamed: 0             int64  \n",
      " 1   trans_date_trans_time  object \n",
      " 2   cc_num                 int64  \n",
      " 3   merchant               object \n",
      " 4   category               object \n",
      " 5   amt                    float64\n",
      " 6   first                  object \n",
      " 7   last                   object \n",
      " 8   gender                 object \n",
      " 9   street                 object \n",
      " 10  city                   object \n",
      " 11  state                  object \n",
      " 12  zip                    int64  \n",
      " 13  lat                    float64\n",
      " 14  long                   float64\n",
      " 15  city_pop               int64  \n",
      " 16  job                    object \n",
      " 17  dob                    object \n",
      " 18  trans_num              object \n",
      " 19  unix_time              int64  \n",
      " 20  merch_lat              float64\n",
      " 21  merch_long             float64\n",
      " 22  is_fraud               int64  \n",
      "dtypes: float64(5), int64(6), object(12)\n",
      "memory usage: 325.1+ MB\n"
     ]
    }
   ],
   "source": [
    "df.info()"
   ]
  },
  {
   "cell_type": "code",
   "execution_count": 24,
   "id": "5fb9c3bc",
   "metadata": {},
   "outputs": [
    {
     "data": {
      "application/vnd.microsoft.datawrangler.viewer.v0+json": {
       "columns": [
        {
         "name": "index",
         "rawType": "object",
         "type": "string"
        },
        {
         "name": "0",
         "rawType": "int64",
         "type": "integer"
        }
       ],
       "ref": "3fde130d-d4d7-4fc1-b2f6-cff00b0c1d9e",
       "rows": [
        [
         "Unnamed: 0",
         "0"
        ],
        [
         "trans_date_trans_time",
         "0"
        ],
        [
         "cc_num",
         "0"
        ],
        [
         "merchant",
         "0"
        ],
        [
         "category",
         "0"
        ],
        [
         "amt",
         "0"
        ],
        [
         "first",
         "0"
        ],
        [
         "last",
         "0"
        ],
        [
         "gender",
         "0"
        ],
        [
         "street",
         "0"
        ],
        [
         "city",
         "0"
        ],
        [
         "state",
         "0"
        ],
        [
         "zip",
         "0"
        ],
        [
         "lat",
         "0"
        ],
        [
         "long",
         "0"
        ],
        [
         "city_pop",
         "0"
        ],
        [
         "job",
         "0"
        ],
        [
         "dob",
         "0"
        ],
        [
         "trans_num",
         "0"
        ],
        [
         "unix_time",
         "0"
        ],
        [
         "merch_lat",
         "0"
        ],
        [
         "merch_long",
         "0"
        ],
        [
         "is_fraud",
         "0"
        ]
       ],
       "shape": {
        "columns": 1,
        "rows": 23
       }
      },
      "text/plain": [
       "Unnamed: 0               0\n",
       "trans_date_trans_time    0\n",
       "cc_num                   0\n",
       "merchant                 0\n",
       "category                 0\n",
       "amt                      0\n",
       "first                    0\n",
       "last                     0\n",
       "gender                   0\n",
       "street                   0\n",
       "city                     0\n",
       "state                    0\n",
       "zip                      0\n",
       "lat                      0\n",
       "long                     0\n",
       "city_pop                 0\n",
       "job                      0\n",
       "dob                      0\n",
       "trans_num                0\n",
       "unix_time                0\n",
       "merch_lat                0\n",
       "merch_long               0\n",
       "is_fraud                 0\n",
       "dtype: int64"
      ]
     },
     "execution_count": 24,
     "metadata": {},
     "output_type": "execute_result"
    }
   ],
   "source": [
    "# Checking for nulls\n",
    "df.isna().sum()"
   ]
  },
  {
   "cell_type": "code",
   "execution_count": 25,
   "id": "2890fe69",
   "metadata": {},
   "outputs": [
    {
     "data": {
      "application/vnd.microsoft.datawrangler.viewer.v0+json": {
       "columns": [
        {
         "name": "is_fraud",
         "rawType": "int64",
         "type": "integer"
        },
        {
         "name": "count",
         "rawType": "int64",
         "type": "integer"
        }
       ],
       "ref": "2c2dd49e-3051-43d5-97fc-85a457a3d9fd",
       "rows": [
        [
         "0",
         "1842743"
        ],
        [
         "1",
         "9651"
        ]
       ],
       "shape": {
        "columns": 1,
        "rows": 2
       }
      },
      "text/plain": [
       "is_fraud\n",
       "0    1842743\n",
       "1       9651\n",
       "Name: count, dtype: int64"
      ]
     },
     "execution_count": 25,
     "metadata": {},
     "output_type": "execute_result"
    }
   ],
   "source": [
    "df.is_fraud.value_counts()"
   ]
  },
  {
   "cell_type": "code",
   "execution_count": 26,
   "id": "e43a1a19",
   "metadata": {},
   "outputs": [
    {
     "data": {
      "application/vnd.microsoft.datawrangler.viewer.v0+json": {
       "columns": [
        {
         "name": "is_fraud",
         "rawType": "int64",
         "type": "integer"
        },
        {
         "name": "proportion",
         "rawType": "float64",
         "type": "float"
        }
       ],
       "ref": "c7c7cc67-e7f5-48c1-8347-47793a29f0bd",
       "rows": [
        [
         "0",
         "0.9947899852839083"
        ],
        [
         "1",
         "0.005210014716091717"
        ]
       ],
       "shape": {
        "columns": 1,
        "rows": 2
       }
      },
      "text/plain": [
       "is_fraud\n",
       "0    0.99479\n",
       "1    0.00521\n",
       "Name: proportion, dtype: float64"
      ]
     },
     "execution_count": 26,
     "metadata": {},
     "output_type": "execute_result"
    }
   ],
   "source": [
    "df.is_fraud.value_counts(normalize=True)"
   ]
  },
  {
   "cell_type": "markdown",
   "id": "f9c4cac8",
   "metadata": {},
   "source": [
    "### Observations :\n",
    "- From above we can observe that there is 23 features and 1,852,394 rows\n",
    "- This is highly imbalanced class data\n",
    "    - We can try with the imbalabnce but we need to balance the dependent variable"
   ]
  },
  {
   "cell_type": "code",
   "execution_count": 27,
   "id": "1517f0e3",
   "metadata": {},
   "outputs": [
    {
     "data": {
      "application/vnd.microsoft.datawrangler.viewer.v0+json": {
       "columns": [
        {
         "name": "index",
         "rawType": "int64",
         "type": "integer"
        },
        {
         "name": "Unnamed: 0",
         "rawType": "int64",
         "type": "integer"
        },
        {
         "name": "trans_date_trans_time",
         "rawType": "object",
         "type": "string"
        },
        {
         "name": "cc_num",
         "rawType": "int64",
         "type": "integer"
        },
        {
         "name": "merchant",
         "rawType": "object",
         "type": "string"
        },
        {
         "name": "category",
         "rawType": "object",
         "type": "string"
        },
        {
         "name": "amt",
         "rawType": "float64",
         "type": "float"
        },
        {
         "name": "first",
         "rawType": "object",
         "type": "string"
        },
        {
         "name": "last",
         "rawType": "object",
         "type": "string"
        },
        {
         "name": "gender",
         "rawType": "object",
         "type": "string"
        },
        {
         "name": "street",
         "rawType": "object",
         "type": "string"
        },
        {
         "name": "city",
         "rawType": "object",
         "type": "string"
        },
        {
         "name": "state",
         "rawType": "object",
         "type": "string"
        },
        {
         "name": "zip",
         "rawType": "int64",
         "type": "integer"
        },
        {
         "name": "lat",
         "rawType": "float64",
         "type": "float"
        },
        {
         "name": "long",
         "rawType": "float64",
         "type": "float"
        },
        {
         "name": "city_pop",
         "rawType": "int64",
         "type": "integer"
        },
        {
         "name": "job",
         "rawType": "object",
         "type": "string"
        },
        {
         "name": "dob",
         "rawType": "object",
         "type": "string"
        },
        {
         "name": "trans_num",
         "rawType": "object",
         "type": "string"
        },
        {
         "name": "unix_time",
         "rawType": "int64",
         "type": "integer"
        },
        {
         "name": "merch_lat",
         "rawType": "float64",
         "type": "float"
        },
        {
         "name": "merch_long",
         "rawType": "float64",
         "type": "float"
        },
        {
         "name": "is_fraud",
         "rawType": "int64",
         "type": "integer"
        }
       ],
       "ref": "f4564ecb-d663-4cdd-8bd2-0dcd2cfeac13",
       "rows": [
        [
         "0",
         "0",
         "2019-01-01 00:00:18",
         "2703186189652095",
         "fraud_Rippin, Kub and Mann",
         "misc_net",
         "4.97",
         "Jennifer",
         "Banks",
         "F",
         "561 Perry Cove",
         "Moravian Falls",
         "NC",
         "28654",
         "36.0788",
         "-81.1781",
         "3495",
         "Psychologist, counselling",
         "1988-03-09",
         "0b242abb623afc578575680df30655b9",
         "1325376018",
         "36.011293",
         "-82.048315",
         "0"
        ],
        [
         "1",
         "1",
         "2019-01-01 00:00:44",
         "630423337322",
         "fraud_Heller, Gutmann and Zieme",
         "grocery_pos",
         "107.23",
         "Stephanie",
         "Gill",
         "F",
         "43039 Riley Greens Suite 393",
         "Orient",
         "WA",
         "99160",
         "48.8878",
         "-118.2105",
         "149",
         "Special educational needs teacher",
         "1978-06-21",
         "1f76529f8574734946361c461b024d99",
         "1325376044",
         "49.159046999999994",
         "-118.186462",
         "0"
        ],
        [
         "2",
         "2",
         "2019-01-01 00:00:51",
         "38859492057661",
         "fraud_Lind-Buckridge",
         "entertainment",
         "220.11",
         "Edward",
         "Sanchez",
         "M",
         "594 White Dale Suite 530",
         "Malad City",
         "ID",
         "83252",
         "42.1808",
         "-112.262",
         "4154",
         "Nature conservation officer",
         "1962-01-19",
         "a1a22d70485983eac12b5b88dad1cf95",
         "1325376051",
         "43.150704",
         "-112.154481",
         "0"
        ],
        [
         "3",
         "3",
         "2019-01-01 00:01:16",
         "3534093764340240",
         "fraud_Kutch, Hermiston and Farrell",
         "gas_transport",
         "45.0",
         "Jeremy",
         "White",
         "M",
         "9443 Cynthia Court Apt. 038",
         "Boulder",
         "MT",
         "59632",
         "46.2306",
         "-112.1138",
         "1939",
         "Patent attorney",
         "1967-01-12",
         "6b849c168bdad6f867558c3793159a81",
         "1325376076",
         "47.034331",
         "-112.561071",
         "0"
        ],
        [
         "4",
         "4",
         "2019-01-01 00:03:06",
         "375534208663984",
         "fraud_Keeling-Crist",
         "misc_pos",
         "41.96",
         "Tyler",
         "Garcia",
         "M",
         "408 Bradley Rest",
         "Doe Hill",
         "VA",
         "24433",
         "38.4207",
         "-79.4629",
         "99",
         "Dance movement psychotherapist",
         "1986-03-28",
         "a41d7549acf90789359a9aa5346dcb46",
         "1325376186",
         "38.674999",
         "-78.632459",
         "0"
        ]
       ],
       "shape": {
        "columns": 23,
        "rows": 5
       }
      },
      "text/html": [
       "<div>\n",
       "<style scoped>\n",
       "    .dataframe tbody tr th:only-of-type {\n",
       "        vertical-align: middle;\n",
       "    }\n",
       "\n",
       "    .dataframe tbody tr th {\n",
       "        vertical-align: top;\n",
       "    }\n",
       "\n",
       "    .dataframe thead th {\n",
       "        text-align: right;\n",
       "    }\n",
       "</style>\n",
       "<table border=\"1\" class=\"dataframe\">\n",
       "  <thead>\n",
       "    <tr style=\"text-align: right;\">\n",
       "      <th></th>\n",
       "      <th>Unnamed: 0</th>\n",
       "      <th>trans_date_trans_time</th>\n",
       "      <th>cc_num</th>\n",
       "      <th>merchant</th>\n",
       "      <th>category</th>\n",
       "      <th>amt</th>\n",
       "      <th>first</th>\n",
       "      <th>last</th>\n",
       "      <th>gender</th>\n",
       "      <th>street</th>\n",
       "      <th>...</th>\n",
       "      <th>lat</th>\n",
       "      <th>long</th>\n",
       "      <th>city_pop</th>\n",
       "      <th>job</th>\n",
       "      <th>dob</th>\n",
       "      <th>trans_num</th>\n",
       "      <th>unix_time</th>\n",
       "      <th>merch_lat</th>\n",
       "      <th>merch_long</th>\n",
       "      <th>is_fraud</th>\n",
       "    </tr>\n",
       "  </thead>\n",
       "  <tbody>\n",
       "    <tr>\n",
       "      <th>0</th>\n",
       "      <td>0</td>\n",
       "      <td>2019-01-01 00:00:18</td>\n",
       "      <td>2703186189652095</td>\n",
       "      <td>fraud_Rippin, Kub and Mann</td>\n",
       "      <td>misc_net</td>\n",
       "      <td>4.97</td>\n",
       "      <td>Jennifer</td>\n",
       "      <td>Banks</td>\n",
       "      <td>F</td>\n",
       "      <td>561 Perry Cove</td>\n",
       "      <td>...</td>\n",
       "      <td>36.0788</td>\n",
       "      <td>-81.1781</td>\n",
       "      <td>3495</td>\n",
       "      <td>Psychologist, counselling</td>\n",
       "      <td>1988-03-09</td>\n",
       "      <td>0b242abb623afc578575680df30655b9</td>\n",
       "      <td>1325376018</td>\n",
       "      <td>36.011293</td>\n",
       "      <td>-82.048315</td>\n",
       "      <td>0</td>\n",
       "    </tr>\n",
       "    <tr>\n",
       "      <th>1</th>\n",
       "      <td>1</td>\n",
       "      <td>2019-01-01 00:00:44</td>\n",
       "      <td>630423337322</td>\n",
       "      <td>fraud_Heller, Gutmann and Zieme</td>\n",
       "      <td>grocery_pos</td>\n",
       "      <td>107.23</td>\n",
       "      <td>Stephanie</td>\n",
       "      <td>Gill</td>\n",
       "      <td>F</td>\n",
       "      <td>43039 Riley Greens Suite 393</td>\n",
       "      <td>...</td>\n",
       "      <td>48.8878</td>\n",
       "      <td>-118.2105</td>\n",
       "      <td>149</td>\n",
       "      <td>Special educational needs teacher</td>\n",
       "      <td>1978-06-21</td>\n",
       "      <td>1f76529f8574734946361c461b024d99</td>\n",
       "      <td>1325376044</td>\n",
       "      <td>49.159047</td>\n",
       "      <td>-118.186462</td>\n",
       "      <td>0</td>\n",
       "    </tr>\n",
       "    <tr>\n",
       "      <th>2</th>\n",
       "      <td>2</td>\n",
       "      <td>2019-01-01 00:00:51</td>\n",
       "      <td>38859492057661</td>\n",
       "      <td>fraud_Lind-Buckridge</td>\n",
       "      <td>entertainment</td>\n",
       "      <td>220.11</td>\n",
       "      <td>Edward</td>\n",
       "      <td>Sanchez</td>\n",
       "      <td>M</td>\n",
       "      <td>594 White Dale Suite 530</td>\n",
       "      <td>...</td>\n",
       "      <td>42.1808</td>\n",
       "      <td>-112.2620</td>\n",
       "      <td>4154</td>\n",
       "      <td>Nature conservation officer</td>\n",
       "      <td>1962-01-19</td>\n",
       "      <td>a1a22d70485983eac12b5b88dad1cf95</td>\n",
       "      <td>1325376051</td>\n",
       "      <td>43.150704</td>\n",
       "      <td>-112.154481</td>\n",
       "      <td>0</td>\n",
       "    </tr>\n",
       "    <tr>\n",
       "      <th>3</th>\n",
       "      <td>3</td>\n",
       "      <td>2019-01-01 00:01:16</td>\n",
       "      <td>3534093764340240</td>\n",
       "      <td>fraud_Kutch, Hermiston and Farrell</td>\n",
       "      <td>gas_transport</td>\n",
       "      <td>45.00</td>\n",
       "      <td>Jeremy</td>\n",
       "      <td>White</td>\n",
       "      <td>M</td>\n",
       "      <td>9443 Cynthia Court Apt. 038</td>\n",
       "      <td>...</td>\n",
       "      <td>46.2306</td>\n",
       "      <td>-112.1138</td>\n",
       "      <td>1939</td>\n",
       "      <td>Patent attorney</td>\n",
       "      <td>1967-01-12</td>\n",
       "      <td>6b849c168bdad6f867558c3793159a81</td>\n",
       "      <td>1325376076</td>\n",
       "      <td>47.034331</td>\n",
       "      <td>-112.561071</td>\n",
       "      <td>0</td>\n",
       "    </tr>\n",
       "    <tr>\n",
       "      <th>4</th>\n",
       "      <td>4</td>\n",
       "      <td>2019-01-01 00:03:06</td>\n",
       "      <td>375534208663984</td>\n",
       "      <td>fraud_Keeling-Crist</td>\n",
       "      <td>misc_pos</td>\n",
       "      <td>41.96</td>\n",
       "      <td>Tyler</td>\n",
       "      <td>Garcia</td>\n",
       "      <td>M</td>\n",
       "      <td>408 Bradley Rest</td>\n",
       "      <td>...</td>\n",
       "      <td>38.4207</td>\n",
       "      <td>-79.4629</td>\n",
       "      <td>99</td>\n",
       "      <td>Dance movement psychotherapist</td>\n",
       "      <td>1986-03-28</td>\n",
       "      <td>a41d7549acf90789359a9aa5346dcb46</td>\n",
       "      <td>1325376186</td>\n",
       "      <td>38.674999</td>\n",
       "      <td>-78.632459</td>\n",
       "      <td>0</td>\n",
       "    </tr>\n",
       "  </tbody>\n",
       "</table>\n",
       "<p>5 rows × 23 columns</p>\n",
       "</div>"
      ],
      "text/plain": [
       "   Unnamed: 0 trans_date_trans_time            cc_num  \\\n",
       "0           0   2019-01-01 00:00:18  2703186189652095   \n",
       "1           1   2019-01-01 00:00:44      630423337322   \n",
       "2           2   2019-01-01 00:00:51    38859492057661   \n",
       "3           3   2019-01-01 00:01:16  3534093764340240   \n",
       "4           4   2019-01-01 00:03:06   375534208663984   \n",
       "\n",
       "                             merchant       category     amt      first  \\\n",
       "0          fraud_Rippin, Kub and Mann       misc_net    4.97   Jennifer   \n",
       "1     fraud_Heller, Gutmann and Zieme    grocery_pos  107.23  Stephanie   \n",
       "2                fraud_Lind-Buckridge  entertainment  220.11     Edward   \n",
       "3  fraud_Kutch, Hermiston and Farrell  gas_transport   45.00     Jeremy   \n",
       "4                 fraud_Keeling-Crist       misc_pos   41.96      Tyler   \n",
       "\n",
       "      last gender                        street  ...      lat      long  \\\n",
       "0    Banks      F                561 Perry Cove  ...  36.0788  -81.1781   \n",
       "1     Gill      F  43039 Riley Greens Suite 393  ...  48.8878 -118.2105   \n",
       "2  Sanchez      M      594 White Dale Suite 530  ...  42.1808 -112.2620   \n",
       "3    White      M   9443 Cynthia Court Apt. 038  ...  46.2306 -112.1138   \n",
       "4   Garcia      M              408 Bradley Rest  ...  38.4207  -79.4629   \n",
       "\n",
       "   city_pop                                job         dob  \\\n",
       "0      3495          Psychologist, counselling  1988-03-09   \n",
       "1       149  Special educational needs teacher  1978-06-21   \n",
       "2      4154        Nature conservation officer  1962-01-19   \n",
       "3      1939                    Patent attorney  1967-01-12   \n",
       "4        99     Dance movement psychotherapist  1986-03-28   \n",
       "\n",
       "                          trans_num   unix_time  merch_lat  merch_long  \\\n",
       "0  0b242abb623afc578575680df30655b9  1325376018  36.011293  -82.048315   \n",
       "1  1f76529f8574734946361c461b024d99  1325376044  49.159047 -118.186462   \n",
       "2  a1a22d70485983eac12b5b88dad1cf95  1325376051  43.150704 -112.154481   \n",
       "3  6b849c168bdad6f867558c3793159a81  1325376076  47.034331 -112.561071   \n",
       "4  a41d7549acf90789359a9aa5346dcb46  1325376186  38.674999  -78.632459   \n",
       "\n",
       "   is_fraud  \n",
       "0         0  \n",
       "1         0  \n",
       "2         0  \n",
       "3         0  \n",
       "4         0  \n",
       "\n",
       "[5 rows x 23 columns]"
      ]
     },
     "execution_count": 27,
     "metadata": {},
     "output_type": "execute_result"
    }
   ],
   "source": [
    "df.head()"
   ]
  },
  {
   "cell_type": "markdown",
   "id": "ff9b226a",
   "metadata": {},
   "source": [
    "### Data Wrangling"
   ]
  },
  {
   "cell_type": "code",
   "execution_count": 28,
   "id": "94f3218a",
   "metadata": {},
   "outputs": [
    {
     "data": {
      "application/vnd.microsoft.datawrangler.viewer.v0+json": {
       "columns": [
        {
         "name": "index",
         "rawType": "int64",
         "type": "integer"
        },
        {
         "name": "Unnamed: 0",
         "rawType": "int64",
         "type": "integer"
        },
        {
         "name": "trans_date_trans_time",
         "rawType": "datetime64[ns]",
         "type": "datetime"
        },
        {
         "name": "cc_num",
         "rawType": "int64",
         "type": "integer"
        },
        {
         "name": "merchant",
         "rawType": "object",
         "type": "string"
        },
        {
         "name": "category",
         "rawType": "object",
         "type": "string"
        },
        {
         "name": "amt",
         "rawType": "float64",
         "type": "float"
        },
        {
         "name": "first",
         "rawType": "object",
         "type": "string"
        },
        {
         "name": "last",
         "rawType": "object",
         "type": "string"
        },
        {
         "name": "gender",
         "rawType": "object",
         "type": "string"
        },
        {
         "name": "street",
         "rawType": "object",
         "type": "string"
        },
        {
         "name": "city",
         "rawType": "object",
         "type": "string"
        },
        {
         "name": "state",
         "rawType": "object",
         "type": "string"
        },
        {
         "name": "zip",
         "rawType": "int64",
         "type": "integer"
        },
        {
         "name": "lat",
         "rawType": "float64",
         "type": "float"
        },
        {
         "name": "long",
         "rawType": "float64",
         "type": "float"
        },
        {
         "name": "city_pop",
         "rawType": "int64",
         "type": "integer"
        },
        {
         "name": "job",
         "rawType": "object",
         "type": "string"
        },
        {
         "name": "dob",
         "rawType": "datetime64[ns]",
         "type": "datetime"
        },
        {
         "name": "trans_num",
         "rawType": "object",
         "type": "string"
        },
        {
         "name": "unix_time",
         "rawType": "int64",
         "type": "integer"
        },
        {
         "name": "merch_lat",
         "rawType": "float64",
         "type": "float"
        },
        {
         "name": "merch_long",
         "rawType": "float64",
         "type": "float"
        },
        {
         "name": "is_fraud",
         "rawType": "int64",
         "type": "integer"
        }
       ],
       "ref": "b67a8edb-ebd0-4eb8-bc72-ce931430f3ab",
       "rows": [
        [
         "0",
         "0",
         "2019-01-01 00:00:18",
         "2703186189652095",
         "Rippin, Kub and Mann",
         "misc_net",
         "4.97",
         "Jennifer",
         "Banks",
         "F",
         "561 Perry Cove",
         "Moravian Falls",
         "NC",
         "28654",
         "36.0788",
         "-81.1781",
         "3495",
         "Psychologist, counselling",
         "1988-03-09 00:00:00",
         "0b242abb623afc578575680df30655b9",
         "1325376018",
         "36.011293",
         "-82.048315",
         "0"
        ],
        [
         "1",
         "1",
         "2019-01-01 00:00:44",
         "630423337322",
         "Heller, Gutmann and Zieme",
         "grocery_pos",
         "107.23",
         "Stephanie",
         "Gill",
         "F",
         "43039 Riley Greens Suite 393",
         "Orient",
         "WA",
         "99160",
         "48.8878",
         "-118.2105",
         "149",
         "Special educational needs teacher",
         "1978-06-21 00:00:00",
         "1f76529f8574734946361c461b024d99",
         "1325376044",
         "49.159046999999994",
         "-118.186462",
         "0"
        ],
        [
         "2",
         "2",
         "2019-01-01 00:00:51",
         "38859492057661",
         "Lind-Buckridge",
         "entertainment",
         "220.11",
         "Edward",
         "Sanchez",
         "M",
         "594 White Dale Suite 530",
         "Malad City",
         "ID",
         "83252",
         "42.1808",
         "-112.262",
         "4154",
         "Nature conservation officer",
         "1962-01-19 00:00:00",
         "a1a22d70485983eac12b5b88dad1cf95",
         "1325376051",
         "43.150704",
         "-112.154481",
         "0"
        ],
        [
         "3",
         "3",
         "2019-01-01 00:01:16",
         "3534093764340240",
         "Kutch, Hermiston and Farrell",
         "gas_transport",
         "45.0",
         "Jeremy",
         "White",
         "M",
         "9443 Cynthia Court Apt. 038",
         "Boulder",
         "MT",
         "59632",
         "46.2306",
         "-112.1138",
         "1939",
         "Patent attorney",
         "1967-01-12 00:00:00",
         "6b849c168bdad6f867558c3793159a81",
         "1325376076",
         "47.034331",
         "-112.561071",
         "0"
        ],
        [
         "4",
         "4",
         "2019-01-01 00:03:06",
         "375534208663984",
         "Keeling-Crist",
         "misc_pos",
         "41.96",
         "Tyler",
         "Garcia",
         "M",
         "408 Bradley Rest",
         "Doe Hill",
         "VA",
         "24433",
         "38.4207",
         "-79.4629",
         "99",
         "Dance movement psychotherapist",
         "1986-03-28 00:00:00",
         "a41d7549acf90789359a9aa5346dcb46",
         "1325376186",
         "38.674999",
         "-78.632459",
         "0"
        ]
       ],
       "shape": {
        "columns": 23,
        "rows": 5
       }
      },
      "text/html": [
       "<div>\n",
       "<style scoped>\n",
       "    .dataframe tbody tr th:only-of-type {\n",
       "        vertical-align: middle;\n",
       "    }\n",
       "\n",
       "    .dataframe tbody tr th {\n",
       "        vertical-align: top;\n",
       "    }\n",
       "\n",
       "    .dataframe thead th {\n",
       "        text-align: right;\n",
       "    }\n",
       "</style>\n",
       "<table border=\"1\" class=\"dataframe\">\n",
       "  <thead>\n",
       "    <tr style=\"text-align: right;\">\n",
       "      <th></th>\n",
       "      <th>Unnamed: 0</th>\n",
       "      <th>trans_date_trans_time</th>\n",
       "      <th>cc_num</th>\n",
       "      <th>merchant</th>\n",
       "      <th>category</th>\n",
       "      <th>amt</th>\n",
       "      <th>first</th>\n",
       "      <th>last</th>\n",
       "      <th>gender</th>\n",
       "      <th>street</th>\n",
       "      <th>...</th>\n",
       "      <th>lat</th>\n",
       "      <th>long</th>\n",
       "      <th>city_pop</th>\n",
       "      <th>job</th>\n",
       "      <th>dob</th>\n",
       "      <th>trans_num</th>\n",
       "      <th>unix_time</th>\n",
       "      <th>merch_lat</th>\n",
       "      <th>merch_long</th>\n",
       "      <th>is_fraud</th>\n",
       "    </tr>\n",
       "  </thead>\n",
       "  <tbody>\n",
       "    <tr>\n",
       "      <th>0</th>\n",
       "      <td>0</td>\n",
       "      <td>2019-01-01 00:00:18</td>\n",
       "      <td>2703186189652095</td>\n",
       "      <td>Rippin, Kub and Mann</td>\n",
       "      <td>misc_net</td>\n",
       "      <td>4.97</td>\n",
       "      <td>Jennifer</td>\n",
       "      <td>Banks</td>\n",
       "      <td>F</td>\n",
       "      <td>561 Perry Cove</td>\n",
       "      <td>...</td>\n",
       "      <td>36.0788</td>\n",
       "      <td>-81.1781</td>\n",
       "      <td>3495</td>\n",
       "      <td>Psychologist, counselling</td>\n",
       "      <td>1988-03-09</td>\n",
       "      <td>0b242abb623afc578575680df30655b9</td>\n",
       "      <td>1325376018</td>\n",
       "      <td>36.011293</td>\n",
       "      <td>-82.048315</td>\n",
       "      <td>0</td>\n",
       "    </tr>\n",
       "    <tr>\n",
       "      <th>1</th>\n",
       "      <td>1</td>\n",
       "      <td>2019-01-01 00:00:44</td>\n",
       "      <td>630423337322</td>\n",
       "      <td>Heller, Gutmann and Zieme</td>\n",
       "      <td>grocery_pos</td>\n",
       "      <td>107.23</td>\n",
       "      <td>Stephanie</td>\n",
       "      <td>Gill</td>\n",
       "      <td>F</td>\n",
       "      <td>43039 Riley Greens Suite 393</td>\n",
       "      <td>...</td>\n",
       "      <td>48.8878</td>\n",
       "      <td>-118.2105</td>\n",
       "      <td>149</td>\n",
       "      <td>Special educational needs teacher</td>\n",
       "      <td>1978-06-21</td>\n",
       "      <td>1f76529f8574734946361c461b024d99</td>\n",
       "      <td>1325376044</td>\n",
       "      <td>49.159047</td>\n",
       "      <td>-118.186462</td>\n",
       "      <td>0</td>\n",
       "    </tr>\n",
       "    <tr>\n",
       "      <th>2</th>\n",
       "      <td>2</td>\n",
       "      <td>2019-01-01 00:00:51</td>\n",
       "      <td>38859492057661</td>\n",
       "      <td>Lind-Buckridge</td>\n",
       "      <td>entertainment</td>\n",
       "      <td>220.11</td>\n",
       "      <td>Edward</td>\n",
       "      <td>Sanchez</td>\n",
       "      <td>M</td>\n",
       "      <td>594 White Dale Suite 530</td>\n",
       "      <td>...</td>\n",
       "      <td>42.1808</td>\n",
       "      <td>-112.2620</td>\n",
       "      <td>4154</td>\n",
       "      <td>Nature conservation officer</td>\n",
       "      <td>1962-01-19</td>\n",
       "      <td>a1a22d70485983eac12b5b88dad1cf95</td>\n",
       "      <td>1325376051</td>\n",
       "      <td>43.150704</td>\n",
       "      <td>-112.154481</td>\n",
       "      <td>0</td>\n",
       "    </tr>\n",
       "    <tr>\n",
       "      <th>3</th>\n",
       "      <td>3</td>\n",
       "      <td>2019-01-01 00:01:16</td>\n",
       "      <td>3534093764340240</td>\n",
       "      <td>Kutch, Hermiston and Farrell</td>\n",
       "      <td>gas_transport</td>\n",
       "      <td>45.00</td>\n",
       "      <td>Jeremy</td>\n",
       "      <td>White</td>\n",
       "      <td>M</td>\n",
       "      <td>9443 Cynthia Court Apt. 038</td>\n",
       "      <td>...</td>\n",
       "      <td>46.2306</td>\n",
       "      <td>-112.1138</td>\n",
       "      <td>1939</td>\n",
       "      <td>Patent attorney</td>\n",
       "      <td>1967-01-12</td>\n",
       "      <td>6b849c168bdad6f867558c3793159a81</td>\n",
       "      <td>1325376076</td>\n",
       "      <td>47.034331</td>\n",
       "      <td>-112.561071</td>\n",
       "      <td>0</td>\n",
       "    </tr>\n",
       "    <tr>\n",
       "      <th>4</th>\n",
       "      <td>4</td>\n",
       "      <td>2019-01-01 00:03:06</td>\n",
       "      <td>375534208663984</td>\n",
       "      <td>Keeling-Crist</td>\n",
       "      <td>misc_pos</td>\n",
       "      <td>41.96</td>\n",
       "      <td>Tyler</td>\n",
       "      <td>Garcia</td>\n",
       "      <td>M</td>\n",
       "      <td>408 Bradley Rest</td>\n",
       "      <td>...</td>\n",
       "      <td>38.4207</td>\n",
       "      <td>-79.4629</td>\n",
       "      <td>99</td>\n",
       "      <td>Dance movement psychotherapist</td>\n",
       "      <td>1986-03-28</td>\n",
       "      <td>a41d7549acf90789359a9aa5346dcb46</td>\n",
       "      <td>1325376186</td>\n",
       "      <td>38.674999</td>\n",
       "      <td>-78.632459</td>\n",
       "      <td>0</td>\n",
       "    </tr>\n",
       "  </tbody>\n",
       "</table>\n",
       "<p>5 rows × 23 columns</p>\n",
       "</div>"
      ],
      "text/plain": [
       "   Unnamed: 0 trans_date_trans_time            cc_num  \\\n",
       "0           0   2019-01-01 00:00:18  2703186189652095   \n",
       "1           1   2019-01-01 00:00:44      630423337322   \n",
       "2           2   2019-01-01 00:00:51    38859492057661   \n",
       "3           3   2019-01-01 00:01:16  3534093764340240   \n",
       "4           4   2019-01-01 00:03:06   375534208663984   \n",
       "\n",
       "                       merchant       category     amt      first     last  \\\n",
       "0          Rippin, Kub and Mann       misc_net    4.97   Jennifer    Banks   \n",
       "1     Heller, Gutmann and Zieme    grocery_pos  107.23  Stephanie     Gill   \n",
       "2                Lind-Buckridge  entertainment  220.11     Edward  Sanchez   \n",
       "3  Kutch, Hermiston and Farrell  gas_transport   45.00     Jeremy    White   \n",
       "4                 Keeling-Crist       misc_pos   41.96      Tyler   Garcia   \n",
       "\n",
       "  gender                        street  ...      lat      long  city_pop  \\\n",
       "0      F                561 Perry Cove  ...  36.0788  -81.1781      3495   \n",
       "1      F  43039 Riley Greens Suite 393  ...  48.8878 -118.2105       149   \n",
       "2      M      594 White Dale Suite 530  ...  42.1808 -112.2620      4154   \n",
       "3      M   9443 Cynthia Court Apt. 038  ...  46.2306 -112.1138      1939   \n",
       "4      M              408 Bradley Rest  ...  38.4207  -79.4629        99   \n",
       "\n",
       "                                 job        dob  \\\n",
       "0          Psychologist, counselling 1988-03-09   \n",
       "1  Special educational needs teacher 1978-06-21   \n",
       "2        Nature conservation officer 1962-01-19   \n",
       "3                    Patent attorney 1967-01-12   \n",
       "4     Dance movement psychotherapist 1986-03-28   \n",
       "\n",
       "                          trans_num   unix_time  merch_lat  merch_long  \\\n",
       "0  0b242abb623afc578575680df30655b9  1325376018  36.011293  -82.048315   \n",
       "1  1f76529f8574734946361c461b024d99  1325376044  49.159047 -118.186462   \n",
       "2  a1a22d70485983eac12b5b88dad1cf95  1325376051  43.150704 -112.154481   \n",
       "3  6b849c168bdad6f867558c3793159a81  1325376076  47.034331 -112.561071   \n",
       "4  a41d7549acf90789359a9aa5346dcb46  1325376186  38.674999  -78.632459   \n",
       "\n",
       "   is_fraud  \n",
       "0         0  \n",
       "1         0  \n",
       "2         0  \n",
       "3         0  \n",
       "4         0  \n",
       "\n",
       "[5 rows x 23 columns]"
      ]
     },
     "execution_count": 28,
     "metadata": {},
     "output_type": "execute_result"
    }
   ],
   "source": [
    "# # remove columns\n",
    "# remove_cols = ['Unnamed: 0', 'street', 'trans_num', 'unix_time', ]\n",
    "# # drop columns\n",
    "# df.drop(columns=remove_cols, inplace=True, errors='ignore')\n",
    "\n",
    "# Convert trans_date_trans_time to datetime\n",
    "df['trans_date_trans_time'] = pd.to_datetime(df['trans_date_trans_time'])\n",
    "# Convert dob to datetime\n",
    "df['dob'] = pd.to_datetime(df['dob'])\n",
    "\n",
    "# remove 'fraud_' prefix from the 'merchant' column\n",
    "df['merchant'] = df['merchant'].str.replace('^fraud_', '', regex=True)\n",
    "\n",
    "# display\n",
    "df.head()"
   ]
  },
  {
   "cell_type": "markdown",
   "id": "07430039",
   "metadata": {},
   "source": [
    "## Feature Engineering"
   ]
  },
  {
   "cell_type": "code",
   "execution_count": 39,
   "id": "79bfea2f",
   "metadata": {},
   "outputs": [
    {
     "data": {
      "application/vnd.microsoft.datawrangler.viewer.v0+json": {
       "columns": [
        {
         "name": "index",
         "rawType": "int64",
         "type": "integer"
        },
        {
         "name": "Unnamed: 0",
         "rawType": "int64",
         "type": "integer"
        },
        {
         "name": "trans_date_trans_time",
         "rawType": "datetime64[ns]",
         "type": "datetime"
        },
        {
         "name": "cc_num",
         "rawType": "int64",
         "type": "integer"
        },
        {
         "name": "merchant",
         "rawType": "category",
         "type": "unknown"
        },
        {
         "name": "category",
         "rawType": "category",
         "type": "unknown"
        },
        {
         "name": "amt",
         "rawType": "float64",
         "type": "float"
        },
        {
         "name": "first",
         "rawType": "object",
         "type": "string"
        },
        {
         "name": "last",
         "rawType": "object",
         "type": "string"
        },
        {
         "name": "gender",
         "rawType": "category",
         "type": "unknown"
        },
        {
         "name": "street",
         "rawType": "object",
         "type": "string"
        },
        {
         "name": "city",
         "rawType": "category",
         "type": "unknown"
        },
        {
         "name": "state",
         "rawType": "category",
         "type": "unknown"
        },
        {
         "name": "zip",
         "rawType": "category",
         "type": "unknown"
        },
        {
         "name": "lat",
         "rawType": "float64",
         "type": "float"
        },
        {
         "name": "long",
         "rawType": "float64",
         "type": "float"
        },
        {
         "name": "city_pop",
         "rawType": "int64",
         "type": "integer"
        },
        {
         "name": "job",
         "rawType": "category",
         "type": "unknown"
        },
        {
         "name": "dob",
         "rawType": "datetime64[ns]",
         "type": "datetime"
        },
        {
         "name": "trans_num",
         "rawType": "object",
         "type": "string"
        },
        {
         "name": "unix_time",
         "rawType": "int64",
         "type": "integer"
        },
        {
         "name": "merch_lat",
         "rawType": "float64",
         "type": "float"
        },
        {
         "name": "merch_long",
         "rawType": "float64",
         "type": "float"
        },
        {
         "name": "is_fraud",
         "rawType": "int64",
         "type": "integer"
        },
        {
         "name": "trans_month",
         "rawType": "object",
         "type": "string"
        },
        {
         "name": "trans_day_of_week",
         "rawType": "object",
         "type": "string"
        },
        {
         "name": "trans_hour",
         "rawType": "object",
         "type": "string"
        },
        {
         "name": "age",
         "rawType": "int64",
         "type": "integer"
        },
        {
         "name": "industry",
         "rawType": "category",
         "type": "unknown"
        },
        {
         "name": "cc_network",
         "rawType": "category",
         "type": "unknown"
        },
        {
         "name": "store_distance",
         "rawType": "float64",
         "type": "float"
        }
       ],
       "ref": "a61f844d-43f9-4268-a617-2bb6151c9132",
       "rows": [
        [
         "0",
         "0",
         "2019-01-01 00:00:18",
         "2703186189652095",
         "Rippin, Kub and Mann",
         "misc_net",
         "4.97",
         "Jennifer",
         "Banks",
         "F",
         "561 Perry Cove",
         "Moravian Falls",
         "NC",
         "28654",
         "36.0788",
         "-81.1781",
         "3495",
         "Psychologist, counselling",
         "1988-03-09 00:00:00",
         "0b242abb623afc578575680df30655b9",
         "1325376018",
         "36.011293",
         "-82.048315",
         "0",
         "January",
         "Tuesday",
         "00",
         "37",
         "Airlines & Financial",
         "Mastercard",
         "48.8383318796589"
        ],
        [
         "1",
         "1",
         "2019-01-01 00:00:44",
         "630423337322",
         "Heller, Gutmann and Zieme",
         "grocery_pos",
         "107.23",
         "Stephanie",
         "Gill",
         "F",
         "43039 Riley Greens Suite 393",
         "Orient",
         "WA",
         "99160",
         "48.8878",
         "-118.2105",
         "149",
         "Special educational needs teacher",
         "1978-06-21 00:00:00",
         "1f76529f8574734946361c461b024d99",
         "1325376044",
         "49.159046999999994",
         "-118.186462",
         "0",
         "January",
         "Tuesday",
         "00",
         "47",
         "Merchandising & Banking (e.g., Discover)",
         "Maestro",
         "18.77300141673363"
        ],
        [
         "2",
         "2",
         "2019-01-01 00:00:51",
         "38859492057661",
         "Lind-Buckridge",
         "entertainment",
         "220.11",
         "Edward",
         "Sanchez",
         "M",
         "594 White Dale Suite 530",
         "Malad City",
         "ID",
         "83252",
         "42.1808",
         "-112.262",
         "4154",
         "Nature conservation officer",
         "1962-01-19 00:00:00",
         "a1a22d70485983eac12b5b88dad1cf95",
         "1325376051",
         "43.150704",
         "-112.154481",
         "0",
         "January",
         "Tuesday",
         "00",
         "63",
         "Travel & Entertainment (e.g., American Express, Diners Club)",
         "Diners Club",
         "67.23623484081212"
        ],
        [
         "3",
         "3",
         "2019-01-01 00:01:16",
         "3534093764340240",
         "Kutch, Hermiston and Farrell",
         "gas_transport",
         "45.0",
         "Jeremy",
         "White",
         "M",
         "9443 Cynthia Court Apt. 038",
         "Boulder",
         "MT",
         "59632",
         "46.2306",
         "-112.1138",
         "1939",
         "Patent attorney",
         "1967-01-12 00:00:00",
         "6b849c168bdad6f867558c3793159a81",
         "1325376076",
         "47.034331",
         "-112.561071",
         "0",
         "January",
         "Tuesday",
         "00",
         "58",
         "Travel & Entertainment (e.g., American Express, Diners Club)",
         "JCB",
         "59.44867130369662"
        ],
        [
         "4",
         "4",
         "2019-01-01 00:03:06",
         "375534208663984",
         "Keeling-Crist",
         "misc_pos",
         "41.96",
         "Tyler",
         "Garcia",
         "M",
         "408 Bradley Rest",
         "Doe Hill",
         "VA",
         "24433",
         "38.4207",
         "-79.4629",
         "99",
         "Dance movement psychotherapist",
         "1986-03-28 00:00:00",
         "a41d7549acf90789359a9aa5346dcb46",
         "1325376186",
         "38.674999",
         "-78.632459",
         "0",
         "January",
         "Tuesday",
         "00",
         "39",
         "Travel & Entertainment (e.g., American Express, Diners Club)",
         "American Express",
         "48.191592406201416"
        ]
       ],
       "shape": {
        "columns": 30,
        "rows": 5
       }
      },
      "text/html": [
       "<div>\n",
       "<style scoped>\n",
       "    .dataframe tbody tr th:only-of-type {\n",
       "        vertical-align: middle;\n",
       "    }\n",
       "\n",
       "    .dataframe tbody tr th {\n",
       "        vertical-align: top;\n",
       "    }\n",
       "\n",
       "    .dataframe thead th {\n",
       "        text-align: right;\n",
       "    }\n",
       "</style>\n",
       "<table border=\"1\" class=\"dataframe\">\n",
       "  <thead>\n",
       "    <tr style=\"text-align: right;\">\n",
       "      <th></th>\n",
       "      <th>Unnamed: 0</th>\n",
       "      <th>trans_date_trans_time</th>\n",
       "      <th>cc_num</th>\n",
       "      <th>merchant</th>\n",
       "      <th>category</th>\n",
       "      <th>amt</th>\n",
       "      <th>first</th>\n",
       "      <th>last</th>\n",
       "      <th>gender</th>\n",
       "      <th>street</th>\n",
       "      <th>...</th>\n",
       "      <th>merch_lat</th>\n",
       "      <th>merch_long</th>\n",
       "      <th>is_fraud</th>\n",
       "      <th>trans_month</th>\n",
       "      <th>trans_day_of_week</th>\n",
       "      <th>trans_hour</th>\n",
       "      <th>age</th>\n",
       "      <th>industry</th>\n",
       "      <th>cc_network</th>\n",
       "      <th>store_distance</th>\n",
       "    </tr>\n",
       "  </thead>\n",
       "  <tbody>\n",
       "    <tr>\n",
       "      <th>0</th>\n",
       "      <td>0</td>\n",
       "      <td>2019-01-01 00:00:18</td>\n",
       "      <td>2703186189652095</td>\n",
       "      <td>Rippin, Kub and Mann</td>\n",
       "      <td>misc_net</td>\n",
       "      <td>4.97</td>\n",
       "      <td>Jennifer</td>\n",
       "      <td>Banks</td>\n",
       "      <td>F</td>\n",
       "      <td>561 Perry Cove</td>\n",
       "      <td>...</td>\n",
       "      <td>36.011293</td>\n",
       "      <td>-82.048315</td>\n",
       "      <td>0</td>\n",
       "      <td>January</td>\n",
       "      <td>Tuesday</td>\n",
       "      <td>00</td>\n",
       "      <td>37</td>\n",
       "      <td>Airlines &amp; Financial</td>\n",
       "      <td>Mastercard</td>\n",
       "      <td>48.838332</td>\n",
       "    </tr>\n",
       "    <tr>\n",
       "      <th>1</th>\n",
       "      <td>1</td>\n",
       "      <td>2019-01-01 00:00:44</td>\n",
       "      <td>630423337322</td>\n",
       "      <td>Heller, Gutmann and Zieme</td>\n",
       "      <td>grocery_pos</td>\n",
       "      <td>107.23</td>\n",
       "      <td>Stephanie</td>\n",
       "      <td>Gill</td>\n",
       "      <td>F</td>\n",
       "      <td>43039 Riley Greens Suite 393</td>\n",
       "      <td>...</td>\n",
       "      <td>49.159047</td>\n",
       "      <td>-118.186462</td>\n",
       "      <td>0</td>\n",
       "      <td>January</td>\n",
       "      <td>Tuesday</td>\n",
       "      <td>00</td>\n",
       "      <td>47</td>\n",
       "      <td>Merchandising &amp; Banking (e.g., Discover)</td>\n",
       "      <td>Maestro</td>\n",
       "      <td>18.773001</td>\n",
       "    </tr>\n",
       "    <tr>\n",
       "      <th>2</th>\n",
       "      <td>2</td>\n",
       "      <td>2019-01-01 00:00:51</td>\n",
       "      <td>38859492057661</td>\n",
       "      <td>Lind-Buckridge</td>\n",
       "      <td>entertainment</td>\n",
       "      <td>220.11</td>\n",
       "      <td>Edward</td>\n",
       "      <td>Sanchez</td>\n",
       "      <td>M</td>\n",
       "      <td>594 White Dale Suite 530</td>\n",
       "      <td>...</td>\n",
       "      <td>43.150704</td>\n",
       "      <td>-112.154481</td>\n",
       "      <td>0</td>\n",
       "      <td>January</td>\n",
       "      <td>Tuesday</td>\n",
       "      <td>00</td>\n",
       "      <td>63</td>\n",
       "      <td>Travel &amp; Entertainment (e.g., American Express...</td>\n",
       "      <td>Diners Club</td>\n",
       "      <td>67.236235</td>\n",
       "    </tr>\n",
       "    <tr>\n",
       "      <th>3</th>\n",
       "      <td>3</td>\n",
       "      <td>2019-01-01 00:01:16</td>\n",
       "      <td>3534093764340240</td>\n",
       "      <td>Kutch, Hermiston and Farrell</td>\n",
       "      <td>gas_transport</td>\n",
       "      <td>45.00</td>\n",
       "      <td>Jeremy</td>\n",
       "      <td>White</td>\n",
       "      <td>M</td>\n",
       "      <td>9443 Cynthia Court Apt. 038</td>\n",
       "      <td>...</td>\n",
       "      <td>47.034331</td>\n",
       "      <td>-112.561071</td>\n",
       "      <td>0</td>\n",
       "      <td>January</td>\n",
       "      <td>Tuesday</td>\n",
       "      <td>00</td>\n",
       "      <td>58</td>\n",
       "      <td>Travel &amp; Entertainment (e.g., American Express...</td>\n",
       "      <td>JCB</td>\n",
       "      <td>59.448671</td>\n",
       "    </tr>\n",
       "    <tr>\n",
       "      <th>4</th>\n",
       "      <td>4</td>\n",
       "      <td>2019-01-01 00:03:06</td>\n",
       "      <td>375534208663984</td>\n",
       "      <td>Keeling-Crist</td>\n",
       "      <td>misc_pos</td>\n",
       "      <td>41.96</td>\n",
       "      <td>Tyler</td>\n",
       "      <td>Garcia</td>\n",
       "      <td>M</td>\n",
       "      <td>408 Bradley Rest</td>\n",
       "      <td>...</td>\n",
       "      <td>38.674999</td>\n",
       "      <td>-78.632459</td>\n",
       "      <td>0</td>\n",
       "      <td>January</td>\n",
       "      <td>Tuesday</td>\n",
       "      <td>00</td>\n",
       "      <td>39</td>\n",
       "      <td>Travel &amp; Entertainment (e.g., American Express...</td>\n",
       "      <td>American Express</td>\n",
       "      <td>48.191592</td>\n",
       "    </tr>\n",
       "  </tbody>\n",
       "</table>\n",
       "<p>5 rows × 30 columns</p>\n",
       "</div>"
      ],
      "text/plain": [
       "   Unnamed: 0 trans_date_trans_time            cc_num  \\\n",
       "0           0   2019-01-01 00:00:18  2703186189652095   \n",
       "1           1   2019-01-01 00:00:44      630423337322   \n",
       "2           2   2019-01-01 00:00:51    38859492057661   \n",
       "3           3   2019-01-01 00:01:16  3534093764340240   \n",
       "4           4   2019-01-01 00:03:06   375534208663984   \n",
       "\n",
       "                       merchant       category     amt      first     last  \\\n",
       "0          Rippin, Kub and Mann       misc_net    4.97   Jennifer    Banks   \n",
       "1     Heller, Gutmann and Zieme    grocery_pos  107.23  Stephanie     Gill   \n",
       "2                Lind-Buckridge  entertainment  220.11     Edward  Sanchez   \n",
       "3  Kutch, Hermiston and Farrell  gas_transport   45.00     Jeremy    White   \n",
       "4                 Keeling-Crist       misc_pos   41.96      Tyler   Garcia   \n",
       "\n",
       "  gender                        street  ...  merch_lat  merch_long is_fraud  \\\n",
       "0      F                561 Perry Cove  ...  36.011293  -82.048315        0   \n",
       "1      F  43039 Riley Greens Suite 393  ...  49.159047 -118.186462        0   \n",
       "2      M      594 White Dale Suite 530  ...  43.150704 -112.154481        0   \n",
       "3      M   9443 Cynthia Court Apt. 038  ...  47.034331 -112.561071        0   \n",
       "4      M              408 Bradley Rest  ...  38.674999  -78.632459        0   \n",
       "\n",
       "   trans_month  trans_day_of_week  trans_hour age  \\\n",
       "0      January            Tuesday          00  37   \n",
       "1      January            Tuesday          00  47   \n",
       "2      January            Tuesday          00  63   \n",
       "3      January            Tuesday          00  58   \n",
       "4      January            Tuesday          00  39   \n",
       "\n",
       "                                            industry        cc_network  \\\n",
       "0                               Airlines & Financial        Mastercard   \n",
       "1           Merchandising & Banking (e.g., Discover)           Maestro   \n",
       "2  Travel & Entertainment (e.g., American Express...       Diners Club   \n",
       "3  Travel & Entertainment (e.g., American Express...               JCB   \n",
       "4  Travel & Entertainment (e.g., American Express...  American Express   \n",
       "\n",
       "   store_distance  \n",
       "0       48.838332  \n",
       "1       18.773001  \n",
       "2       67.236235  \n",
       "3       59.448671  \n",
       "4       48.191592  \n",
       "\n",
       "[5 rows x 30 columns]"
      ]
     },
     "execution_count": 39,
     "metadata": {},
     "output_type": "execute_result"
    }
   ],
   "source": [
    "# Current date\n",
    "today = pd.Timestamp.today()\n",
    "\n",
    "# determine month, day of the week\n",
    "df['trans_month'] = df.trans_date_trans_time.dt.month_name()\n",
    "df['trans_day_of_week'] = df.trans_date_trans_time.dt.day_name()\n",
    "df['trans_hour'] = df['trans_date_trans_time'].dt.hour.astype(str).str.zfill(2)\n",
    "\n",
    "# Calculate age\n",
    "df['age'] = df['dob'].apply(lambda x: today.year - x.year - ((today.month, today.day) < (x.month, x.day)))\n",
    "\n",
    "#\n",
    "df.head()"
   ]
  },
  {
   "cell_type": "code",
   "execution_count": 40,
   "id": "875d0e6c",
   "metadata": {},
   "outputs": [
    {
     "data": {
      "application/vnd.microsoft.datawrangler.viewer.v0+json": {
       "columns": [
        {
         "name": "index",
         "rawType": "int64",
         "type": "integer"
        },
        {
         "name": "Unnamed: 0",
         "rawType": "int64",
         "type": "integer"
        },
        {
         "name": "trans_date_trans_time",
         "rawType": "datetime64[ns]",
         "type": "datetime"
        },
        {
         "name": "cc_num",
         "rawType": "int64",
         "type": "integer"
        },
        {
         "name": "merchant",
         "rawType": "category",
         "type": "unknown"
        },
        {
         "name": "category",
         "rawType": "category",
         "type": "unknown"
        },
        {
         "name": "amt",
         "rawType": "float64",
         "type": "float"
        },
        {
         "name": "first",
         "rawType": "object",
         "type": "string"
        },
        {
         "name": "last",
         "rawType": "object",
         "type": "string"
        },
        {
         "name": "gender",
         "rawType": "category",
         "type": "unknown"
        },
        {
         "name": "street",
         "rawType": "object",
         "type": "string"
        },
        {
         "name": "city",
         "rawType": "category",
         "type": "unknown"
        },
        {
         "name": "state",
         "rawType": "category",
         "type": "unknown"
        },
        {
         "name": "zip",
         "rawType": "category",
         "type": "unknown"
        },
        {
         "name": "lat",
         "rawType": "float64",
         "type": "float"
        },
        {
         "name": "long",
         "rawType": "float64",
         "type": "float"
        },
        {
         "name": "city_pop",
         "rawType": "int64",
         "type": "integer"
        },
        {
         "name": "job",
         "rawType": "category",
         "type": "unknown"
        },
        {
         "name": "dob",
         "rawType": "datetime64[ns]",
         "type": "datetime"
        },
        {
         "name": "trans_num",
         "rawType": "object",
         "type": "string"
        },
        {
         "name": "unix_time",
         "rawType": "int64",
         "type": "integer"
        },
        {
         "name": "merch_lat",
         "rawType": "float64",
         "type": "float"
        },
        {
         "name": "merch_long",
         "rawType": "float64",
         "type": "float"
        },
        {
         "name": "is_fraud",
         "rawType": "int64",
         "type": "integer"
        },
        {
         "name": "trans_month",
         "rawType": "object",
         "type": "string"
        },
        {
         "name": "trans_day_of_week",
         "rawType": "object",
         "type": "string"
        },
        {
         "name": "trans_hour",
         "rawType": "object",
         "type": "string"
        },
        {
         "name": "age",
         "rawType": "int64",
         "type": "integer"
        },
        {
         "name": "industry",
         "rawType": "object",
         "type": "string"
        },
        {
         "name": "cc_network",
         "rawType": "object",
         "type": "string"
        },
        {
         "name": "store_distance",
         "rawType": "float64",
         "type": "float"
        }
       ],
       "ref": "64606257-9697-4a78-98ab-30b06b045001",
       "rows": [
        [
         "0",
         "0",
         "2019-01-01 00:00:18",
         "2703186189652095",
         "Rippin, Kub and Mann",
         "misc_net",
         "4.97",
         "Jennifer",
         "Banks",
         "F",
         "561 Perry Cove",
         "Moravian Falls",
         "NC",
         "28654",
         "36.0788",
         "-81.1781",
         "3495",
         "Psychologist, counselling",
         "1988-03-09 00:00:00",
         "0b242abb623afc578575680df30655b9",
         "1325376018",
         "36.011293",
         "-82.048315",
         "0",
         "January",
         "Tuesday",
         "00",
         "37",
         "Airlines & Financial",
         "Mastercard",
         "48.8383318796589"
        ],
        [
         "1",
         "1",
         "2019-01-01 00:00:44",
         "630423337322",
         "Heller, Gutmann and Zieme",
         "grocery_pos",
         "107.23",
         "Stephanie",
         "Gill",
         "F",
         "43039 Riley Greens Suite 393",
         "Orient",
         "WA",
         "99160",
         "48.8878",
         "-118.2105",
         "149",
         "Special educational needs teacher",
         "1978-06-21 00:00:00",
         "1f76529f8574734946361c461b024d99",
         "1325376044",
         "49.159046999999994",
         "-118.186462",
         "0",
         "January",
         "Tuesday",
         "00",
         "47",
         "Merchandising & Banking (e.g., Discover)",
         "Maestro",
         "18.77300141673363"
        ],
        [
         "2",
         "2",
         "2019-01-01 00:00:51",
         "38859492057661",
         "Lind-Buckridge",
         "entertainment",
         "220.11",
         "Edward",
         "Sanchez",
         "M",
         "594 White Dale Suite 530",
         "Malad City",
         "ID",
         "83252",
         "42.1808",
         "-112.262",
         "4154",
         "Nature conservation officer",
         "1962-01-19 00:00:00",
         "a1a22d70485983eac12b5b88dad1cf95",
         "1325376051",
         "43.150704",
         "-112.154481",
         "0",
         "January",
         "Tuesday",
         "00",
         "63",
         "Travel & Entertainment (e.g., American Express, Diners Club)",
         "Diners Club",
         "67.23623484081212"
        ],
        [
         "3",
         "3",
         "2019-01-01 00:01:16",
         "3534093764340240",
         "Kutch, Hermiston and Farrell",
         "gas_transport",
         "45.0",
         "Jeremy",
         "White",
         "M",
         "9443 Cynthia Court Apt. 038",
         "Boulder",
         "MT",
         "59632",
         "46.2306",
         "-112.1138",
         "1939",
         "Patent attorney",
         "1967-01-12 00:00:00",
         "6b849c168bdad6f867558c3793159a81",
         "1325376076",
         "47.034331",
         "-112.561071",
         "0",
         "January",
         "Tuesday",
         "00",
         "58",
         "Travel & Entertainment (e.g., American Express, Diners Club)",
         "JCB",
         "59.44867130369662"
        ],
        [
         "4",
         "4",
         "2019-01-01 00:03:06",
         "375534208663984",
         "Keeling-Crist",
         "misc_pos",
         "41.96",
         "Tyler",
         "Garcia",
         "M",
         "408 Bradley Rest",
         "Doe Hill",
         "VA",
         "24433",
         "38.4207",
         "-79.4629",
         "99",
         "Dance movement psychotherapist",
         "1986-03-28 00:00:00",
         "a41d7549acf90789359a9aa5346dcb46",
         "1325376186",
         "38.674999",
         "-78.632459",
         "0",
         "January",
         "Tuesday",
         "00",
         "39",
         "Travel & Entertainment (e.g., American Express, Diners Club)",
         "American Express",
         "48.191592406201416"
        ]
       ],
       "shape": {
        "columns": 30,
        "rows": 5
       }
      },
      "text/html": [
       "<div>\n",
       "<style scoped>\n",
       "    .dataframe tbody tr th:only-of-type {\n",
       "        vertical-align: middle;\n",
       "    }\n",
       "\n",
       "    .dataframe tbody tr th {\n",
       "        vertical-align: top;\n",
       "    }\n",
       "\n",
       "    .dataframe thead th {\n",
       "        text-align: right;\n",
       "    }\n",
       "</style>\n",
       "<table border=\"1\" class=\"dataframe\">\n",
       "  <thead>\n",
       "    <tr style=\"text-align: right;\">\n",
       "      <th></th>\n",
       "      <th>Unnamed: 0</th>\n",
       "      <th>trans_date_trans_time</th>\n",
       "      <th>cc_num</th>\n",
       "      <th>merchant</th>\n",
       "      <th>category</th>\n",
       "      <th>amt</th>\n",
       "      <th>first</th>\n",
       "      <th>last</th>\n",
       "      <th>gender</th>\n",
       "      <th>street</th>\n",
       "      <th>...</th>\n",
       "      <th>merch_lat</th>\n",
       "      <th>merch_long</th>\n",
       "      <th>is_fraud</th>\n",
       "      <th>trans_month</th>\n",
       "      <th>trans_day_of_week</th>\n",
       "      <th>trans_hour</th>\n",
       "      <th>age</th>\n",
       "      <th>industry</th>\n",
       "      <th>cc_network</th>\n",
       "      <th>store_distance</th>\n",
       "    </tr>\n",
       "  </thead>\n",
       "  <tbody>\n",
       "    <tr>\n",
       "      <th>0</th>\n",
       "      <td>0</td>\n",
       "      <td>2019-01-01 00:00:18</td>\n",
       "      <td>2703186189652095</td>\n",
       "      <td>Rippin, Kub and Mann</td>\n",
       "      <td>misc_net</td>\n",
       "      <td>4.97</td>\n",
       "      <td>Jennifer</td>\n",
       "      <td>Banks</td>\n",
       "      <td>F</td>\n",
       "      <td>561 Perry Cove</td>\n",
       "      <td>...</td>\n",
       "      <td>36.011293</td>\n",
       "      <td>-82.048315</td>\n",
       "      <td>0</td>\n",
       "      <td>January</td>\n",
       "      <td>Tuesday</td>\n",
       "      <td>00</td>\n",
       "      <td>37</td>\n",
       "      <td>Airlines &amp; Financial</td>\n",
       "      <td>Mastercard</td>\n",
       "      <td>48.838332</td>\n",
       "    </tr>\n",
       "    <tr>\n",
       "      <th>1</th>\n",
       "      <td>1</td>\n",
       "      <td>2019-01-01 00:00:44</td>\n",
       "      <td>630423337322</td>\n",
       "      <td>Heller, Gutmann and Zieme</td>\n",
       "      <td>grocery_pos</td>\n",
       "      <td>107.23</td>\n",
       "      <td>Stephanie</td>\n",
       "      <td>Gill</td>\n",
       "      <td>F</td>\n",
       "      <td>43039 Riley Greens Suite 393</td>\n",
       "      <td>...</td>\n",
       "      <td>49.159047</td>\n",
       "      <td>-118.186462</td>\n",
       "      <td>0</td>\n",
       "      <td>January</td>\n",
       "      <td>Tuesday</td>\n",
       "      <td>00</td>\n",
       "      <td>47</td>\n",
       "      <td>Merchandising &amp; Banking (e.g., Discover)</td>\n",
       "      <td>Maestro</td>\n",
       "      <td>18.773001</td>\n",
       "    </tr>\n",
       "    <tr>\n",
       "      <th>2</th>\n",
       "      <td>2</td>\n",
       "      <td>2019-01-01 00:00:51</td>\n",
       "      <td>38859492057661</td>\n",
       "      <td>Lind-Buckridge</td>\n",
       "      <td>entertainment</td>\n",
       "      <td>220.11</td>\n",
       "      <td>Edward</td>\n",
       "      <td>Sanchez</td>\n",
       "      <td>M</td>\n",
       "      <td>594 White Dale Suite 530</td>\n",
       "      <td>...</td>\n",
       "      <td>43.150704</td>\n",
       "      <td>-112.154481</td>\n",
       "      <td>0</td>\n",
       "      <td>January</td>\n",
       "      <td>Tuesday</td>\n",
       "      <td>00</td>\n",
       "      <td>63</td>\n",
       "      <td>Travel &amp; Entertainment (e.g., American Express...</td>\n",
       "      <td>Diners Club</td>\n",
       "      <td>67.236235</td>\n",
       "    </tr>\n",
       "    <tr>\n",
       "      <th>3</th>\n",
       "      <td>3</td>\n",
       "      <td>2019-01-01 00:01:16</td>\n",
       "      <td>3534093764340240</td>\n",
       "      <td>Kutch, Hermiston and Farrell</td>\n",
       "      <td>gas_transport</td>\n",
       "      <td>45.00</td>\n",
       "      <td>Jeremy</td>\n",
       "      <td>White</td>\n",
       "      <td>M</td>\n",
       "      <td>9443 Cynthia Court Apt. 038</td>\n",
       "      <td>...</td>\n",
       "      <td>47.034331</td>\n",
       "      <td>-112.561071</td>\n",
       "      <td>0</td>\n",
       "      <td>January</td>\n",
       "      <td>Tuesday</td>\n",
       "      <td>00</td>\n",
       "      <td>58</td>\n",
       "      <td>Travel &amp; Entertainment (e.g., American Express...</td>\n",
       "      <td>JCB</td>\n",
       "      <td>59.448671</td>\n",
       "    </tr>\n",
       "    <tr>\n",
       "      <th>4</th>\n",
       "      <td>4</td>\n",
       "      <td>2019-01-01 00:03:06</td>\n",
       "      <td>375534208663984</td>\n",
       "      <td>Keeling-Crist</td>\n",
       "      <td>misc_pos</td>\n",
       "      <td>41.96</td>\n",
       "      <td>Tyler</td>\n",
       "      <td>Garcia</td>\n",
       "      <td>M</td>\n",
       "      <td>408 Bradley Rest</td>\n",
       "      <td>...</td>\n",
       "      <td>38.674999</td>\n",
       "      <td>-78.632459</td>\n",
       "      <td>0</td>\n",
       "      <td>January</td>\n",
       "      <td>Tuesday</td>\n",
       "      <td>00</td>\n",
       "      <td>39</td>\n",
       "      <td>Travel &amp; Entertainment (e.g., American Express...</td>\n",
       "      <td>American Express</td>\n",
       "      <td>48.191592</td>\n",
       "    </tr>\n",
       "  </tbody>\n",
       "</table>\n",
       "<p>5 rows × 30 columns</p>\n",
       "</div>"
      ],
      "text/plain": [
       "   Unnamed: 0 trans_date_trans_time            cc_num  \\\n",
       "0           0   2019-01-01 00:00:18  2703186189652095   \n",
       "1           1   2019-01-01 00:00:44      630423337322   \n",
       "2           2   2019-01-01 00:00:51    38859492057661   \n",
       "3           3   2019-01-01 00:01:16  3534093764340240   \n",
       "4           4   2019-01-01 00:03:06   375534208663984   \n",
       "\n",
       "                       merchant       category     amt      first     last  \\\n",
       "0          Rippin, Kub and Mann       misc_net    4.97   Jennifer    Banks   \n",
       "1     Heller, Gutmann and Zieme    grocery_pos  107.23  Stephanie     Gill   \n",
       "2                Lind-Buckridge  entertainment  220.11     Edward  Sanchez   \n",
       "3  Kutch, Hermiston and Farrell  gas_transport   45.00     Jeremy    White   \n",
       "4                 Keeling-Crist       misc_pos   41.96      Tyler   Garcia   \n",
       "\n",
       "  gender                        street  ...  merch_lat  merch_long is_fraud  \\\n",
       "0      F                561 Perry Cove  ...  36.011293  -82.048315        0   \n",
       "1      F  43039 Riley Greens Suite 393  ...  49.159047 -118.186462        0   \n",
       "2      M      594 White Dale Suite 530  ...  43.150704 -112.154481        0   \n",
       "3      M   9443 Cynthia Court Apt. 038  ...  47.034331 -112.561071        0   \n",
       "4      M              408 Bradley Rest  ...  38.674999  -78.632459        0   \n",
       "\n",
       "   trans_month  trans_day_of_week  trans_hour age  \\\n",
       "0      January            Tuesday          00  37   \n",
       "1      January            Tuesday          00  47   \n",
       "2      January            Tuesday          00  63   \n",
       "3      January            Tuesday          00  58   \n",
       "4      January            Tuesday          00  39   \n",
       "\n",
       "                                            industry        cc_network  \\\n",
       "0                               Airlines & Financial        Mastercard   \n",
       "1           Merchandising & Banking (e.g., Discover)           Maestro   \n",
       "2  Travel & Entertainment (e.g., American Express...       Diners Club   \n",
       "3  Travel & Entertainment (e.g., American Express...               JCB   \n",
       "4  Travel & Entertainment (e.g., American Express...  American Express   \n",
       "\n",
       "   store_distance  \n",
       "0       48.838332  \n",
       "1       18.773001  \n",
       "2       67.236235  \n",
       "3       59.448671  \n",
       "4       48.191592  \n",
       "\n",
       "[5 rows x 30 columns]"
      ]
     },
     "execution_count": 40,
     "metadata": {},
     "output_type": "execute_result"
    }
   ],
   "source": [
    "# Create a mapping for industry identifier\n",
    "mii_to_industry = {\n",
    "    '1': 'Airlines',\n",
    "    '2': 'Airlines & Financial',\n",
    "    '3': 'Travel & Entertainment (e.g., American Express, Diners Club)',\n",
    "    '4': 'Banking & Financial (e.g., Visa)',\n",
    "    '5': 'Banking & Financial (e.g., Mastercard)',\n",
    "    '6': 'Merchandising & Banking (e.g., Discover)',\n",
    "    '7': 'Petroleum',\n",
    "    '8': 'Healthcare & Telecommunications',\n",
    "    '9': 'National Assignment / Other'\n",
    "}\n",
    "\n",
    "# apply lamda function to map first digit of cc_num to industry\n",
    "df['industry'] = df['cc_num'].apply(lambda x: u.map_first_digit_to_value(x, mapping_dict=mii_to_industry))\n",
    "\n",
    "# determe credit card network\n",
    "df['cc_network'] = df['cc_num'].apply(lambda x: u.get_credit_card_network(str(x)))\n",
    "\n",
    "# determine store distance\n",
    "df['store_distance'] = df.apply(\n",
    "    lambda x: u.haversine_distance_calc(x['lat'], x['long'], x['merch_lat'], x['merch_long']),\n",
    "    axis=1\n",
    ")\n",
    "\n",
    "# Display the first few rows of the updated DataFrame\n",
    "df.head()"
   ]
  },
  {
   "cell_type": "code",
   "execution_count": null,
   "id": "10fd49e4",
   "metadata": {},
   "outputs": [
    {
     "data": {
      "application/vnd.microsoft.datawrangler.viewer.v0+json": {
       "columns": [
        {
         "name": "index",
         "rawType": "int64",
         "type": "integer"
        },
        {
         "name": "Unnamed: 0",
         "rawType": "int64",
         "type": "integer"
        },
        {
         "name": "trans_date_trans_time",
         "rawType": "datetime64[ns]",
         "type": "datetime"
        },
        {
         "name": "cc_num",
         "rawType": "int64",
         "type": "integer"
        },
        {
         "name": "merchant",
         "rawType": "category",
         "type": "unknown"
        },
        {
         "name": "category",
         "rawType": "category",
         "type": "unknown"
        },
        {
         "name": "amt",
         "rawType": "float64",
         "type": "float"
        },
        {
         "name": "first",
         "rawType": "object",
         "type": "string"
        },
        {
         "name": "last",
         "rawType": "object",
         "type": "string"
        },
        {
         "name": "gender",
         "rawType": "category",
         "type": "unknown"
        },
        {
         "name": "street",
         "rawType": "object",
         "type": "string"
        },
        {
         "name": "city",
         "rawType": "category",
         "type": "unknown"
        },
        {
         "name": "state",
         "rawType": "category",
         "type": "unknown"
        },
        {
         "name": "zip",
         "rawType": "category",
         "type": "unknown"
        },
        {
         "name": "lat",
         "rawType": "float64",
         "type": "float"
        },
        {
         "name": "long",
         "rawType": "float64",
         "type": "float"
        },
        {
         "name": "city_pop",
         "rawType": "int64",
         "type": "integer"
        },
        {
         "name": "job",
         "rawType": "category",
         "type": "unknown"
        },
        {
         "name": "dob",
         "rawType": "datetime64[ns]",
         "type": "datetime"
        },
        {
         "name": "trans_num",
         "rawType": "object",
         "type": "string"
        },
        {
         "name": "unix_time",
         "rawType": "int64",
         "type": "integer"
        },
        {
         "name": "merch_lat",
         "rawType": "float64",
         "type": "float"
        },
        {
         "name": "merch_long",
         "rawType": "float64",
         "type": "float"
        },
        {
         "name": "is_fraud",
         "rawType": "int64",
         "type": "integer"
        },
        {
         "name": "trans_month",
         "rawType": "category",
         "type": "unknown"
        },
        {
         "name": "trans_day_of_week",
         "rawType": "category",
         "type": "unknown"
        },
        {
         "name": "trans_hour",
         "rawType": "category",
         "type": "unknown"
        },
        {
         "name": "age",
         "rawType": "int64",
         "type": "integer"
        },
        {
         "name": "industry",
         "rawType": "category",
         "type": "unknown"
        },
        {
         "name": "cc_network",
         "rawType": "category",
         "type": "unknown"
        },
        {
         "name": "store_distance",
         "rawType": "float64",
         "type": "float"
        }
       ],
       "ref": "2a74b5f1-1806-405f-847e-ae3ecee22045",
       "rows": [
        [
         "0",
         "0",
         "2019-01-01 00:00:18",
         "2703186189652095",
         "Rippin, Kub and Mann",
         "misc_net",
         "4.97",
         "Jennifer",
         "Banks",
         "F",
         "561 Perry Cove",
         "Moravian Falls",
         "NC",
         "28654",
         "36.0788",
         "-81.1781",
         "3495",
         "Psychologist, counselling",
         "1988-03-09 00:00:00",
         "0b242abb623afc578575680df30655b9",
         "1325376018",
         "36.011293",
         "-82.048315",
         "0",
         "January",
         "Tuesday",
         "00",
         "37",
         "Airlines & Financial",
         "Mastercard",
         "48.8383318796589"
        ],
        [
         "1",
         "1",
         "2019-01-01 00:00:44",
         "630423337322",
         "Heller, Gutmann and Zieme",
         "grocery_pos",
         "107.23",
         "Stephanie",
         "Gill",
         "F",
         "43039 Riley Greens Suite 393",
         "Orient",
         "WA",
         "99160",
         "48.8878",
         "-118.2105",
         "149",
         "Special educational needs teacher",
         "1978-06-21 00:00:00",
         "1f76529f8574734946361c461b024d99",
         "1325376044",
         "49.159046999999994",
         "-118.186462",
         "0",
         "January",
         "Tuesday",
         "00",
         "47",
         "Merchandising & Banking (e.g., Discover)",
         "Maestro",
         "18.77300141673363"
        ],
        [
         "2",
         "2",
         "2019-01-01 00:00:51",
         "38859492057661",
         "Lind-Buckridge",
         "entertainment",
         "220.11",
         "Edward",
         "Sanchez",
         "M",
         "594 White Dale Suite 530",
         "Malad City",
         "ID",
         "83252",
         "42.1808",
         "-112.262",
         "4154",
         "Nature conservation officer",
         "1962-01-19 00:00:00",
         "a1a22d70485983eac12b5b88dad1cf95",
         "1325376051",
         "43.150704",
         "-112.154481",
         "0",
         "January",
         "Tuesday",
         "00",
         "63",
         "Travel & Entertainment (e.g., American Express, Diners Club)",
         "Diners Club",
         "67.23623484081212"
        ],
        [
         "3",
         "3",
         "2019-01-01 00:01:16",
         "3534093764340240",
         "Kutch, Hermiston and Farrell",
         "gas_transport",
         "45.0",
         "Jeremy",
         "White",
         "M",
         "9443 Cynthia Court Apt. 038",
         "Boulder",
         "MT",
         "59632",
         "46.2306",
         "-112.1138",
         "1939",
         "Patent attorney",
         "1967-01-12 00:00:00",
         "6b849c168bdad6f867558c3793159a81",
         "1325376076",
         "47.034331",
         "-112.561071",
         "0",
         "January",
         "Tuesday",
         "00",
         "58",
         "Travel & Entertainment (e.g., American Express, Diners Club)",
         "JCB",
         "59.44867130369662"
        ],
        [
         "4",
         "4",
         "2019-01-01 00:03:06",
         "375534208663984",
         "Keeling-Crist",
         "misc_pos",
         "41.96",
         "Tyler",
         "Garcia",
         "M",
         "408 Bradley Rest",
         "Doe Hill",
         "VA",
         "24433",
         "38.4207",
         "-79.4629",
         "99",
         "Dance movement psychotherapist",
         "1986-03-28 00:00:00",
         "a41d7549acf90789359a9aa5346dcb46",
         "1325376186",
         "38.674999",
         "-78.632459",
         "0",
         "January",
         "Tuesday",
         "00",
         "39",
         "Travel & Entertainment (e.g., American Express, Diners Club)",
         "American Express",
         "48.191592406201416"
        ]
       ],
       "shape": {
        "columns": 30,
        "rows": 5
       }
      },
      "text/html": [
       "<div>\n",
       "<style scoped>\n",
       "    .dataframe tbody tr th:only-of-type {\n",
       "        vertical-align: middle;\n",
       "    }\n",
       "\n",
       "    .dataframe tbody tr th {\n",
       "        vertical-align: top;\n",
       "    }\n",
       "\n",
       "    .dataframe thead th {\n",
       "        text-align: right;\n",
       "    }\n",
       "</style>\n",
       "<table border=\"1\" class=\"dataframe\">\n",
       "  <thead>\n",
       "    <tr style=\"text-align: right;\">\n",
       "      <th></th>\n",
       "      <th>Unnamed: 0</th>\n",
       "      <th>trans_date_trans_time</th>\n",
       "      <th>cc_num</th>\n",
       "      <th>merchant</th>\n",
       "      <th>category</th>\n",
       "      <th>amt</th>\n",
       "      <th>first</th>\n",
       "      <th>last</th>\n",
       "      <th>gender</th>\n",
       "      <th>street</th>\n",
       "      <th>...</th>\n",
       "      <th>merch_lat</th>\n",
       "      <th>merch_long</th>\n",
       "      <th>is_fraud</th>\n",
       "      <th>trans_month</th>\n",
       "      <th>trans_day_of_week</th>\n",
       "      <th>trans_hour</th>\n",
       "      <th>age</th>\n",
       "      <th>industry</th>\n",
       "      <th>cc_network</th>\n",
       "      <th>store_distance</th>\n",
       "    </tr>\n",
       "  </thead>\n",
       "  <tbody>\n",
       "    <tr>\n",
       "      <th>0</th>\n",
       "      <td>0</td>\n",
       "      <td>2019-01-01 00:00:18</td>\n",
       "      <td>2703186189652095</td>\n",
       "      <td>Rippin, Kub and Mann</td>\n",
       "      <td>misc_net</td>\n",
       "      <td>4.97</td>\n",
       "      <td>Jennifer</td>\n",
       "      <td>Banks</td>\n",
       "      <td>F</td>\n",
       "      <td>561 Perry Cove</td>\n",
       "      <td>...</td>\n",
       "      <td>36.011293</td>\n",
       "      <td>-82.048315</td>\n",
       "      <td>0</td>\n",
       "      <td>January</td>\n",
       "      <td>Tuesday</td>\n",
       "      <td>00</td>\n",
       "      <td>37</td>\n",
       "      <td>Airlines &amp; Financial</td>\n",
       "      <td>Mastercard</td>\n",
       "      <td>48.838332</td>\n",
       "    </tr>\n",
       "    <tr>\n",
       "      <th>1</th>\n",
       "      <td>1</td>\n",
       "      <td>2019-01-01 00:00:44</td>\n",
       "      <td>630423337322</td>\n",
       "      <td>Heller, Gutmann and Zieme</td>\n",
       "      <td>grocery_pos</td>\n",
       "      <td>107.23</td>\n",
       "      <td>Stephanie</td>\n",
       "      <td>Gill</td>\n",
       "      <td>F</td>\n",
       "      <td>43039 Riley Greens Suite 393</td>\n",
       "      <td>...</td>\n",
       "      <td>49.159047</td>\n",
       "      <td>-118.186462</td>\n",
       "      <td>0</td>\n",
       "      <td>January</td>\n",
       "      <td>Tuesday</td>\n",
       "      <td>00</td>\n",
       "      <td>47</td>\n",
       "      <td>Merchandising &amp; Banking (e.g., Discover)</td>\n",
       "      <td>Maestro</td>\n",
       "      <td>18.773001</td>\n",
       "    </tr>\n",
       "    <tr>\n",
       "      <th>2</th>\n",
       "      <td>2</td>\n",
       "      <td>2019-01-01 00:00:51</td>\n",
       "      <td>38859492057661</td>\n",
       "      <td>Lind-Buckridge</td>\n",
       "      <td>entertainment</td>\n",
       "      <td>220.11</td>\n",
       "      <td>Edward</td>\n",
       "      <td>Sanchez</td>\n",
       "      <td>M</td>\n",
       "      <td>594 White Dale Suite 530</td>\n",
       "      <td>...</td>\n",
       "      <td>43.150704</td>\n",
       "      <td>-112.154481</td>\n",
       "      <td>0</td>\n",
       "      <td>January</td>\n",
       "      <td>Tuesday</td>\n",
       "      <td>00</td>\n",
       "      <td>63</td>\n",
       "      <td>Travel &amp; Entertainment (e.g., American Express...</td>\n",
       "      <td>Diners Club</td>\n",
       "      <td>67.236235</td>\n",
       "    </tr>\n",
       "    <tr>\n",
       "      <th>3</th>\n",
       "      <td>3</td>\n",
       "      <td>2019-01-01 00:01:16</td>\n",
       "      <td>3534093764340240</td>\n",
       "      <td>Kutch, Hermiston and Farrell</td>\n",
       "      <td>gas_transport</td>\n",
       "      <td>45.00</td>\n",
       "      <td>Jeremy</td>\n",
       "      <td>White</td>\n",
       "      <td>M</td>\n",
       "      <td>9443 Cynthia Court Apt. 038</td>\n",
       "      <td>...</td>\n",
       "      <td>47.034331</td>\n",
       "      <td>-112.561071</td>\n",
       "      <td>0</td>\n",
       "      <td>January</td>\n",
       "      <td>Tuesday</td>\n",
       "      <td>00</td>\n",
       "      <td>58</td>\n",
       "      <td>Travel &amp; Entertainment (e.g., American Express...</td>\n",
       "      <td>JCB</td>\n",
       "      <td>59.448671</td>\n",
       "    </tr>\n",
       "    <tr>\n",
       "      <th>4</th>\n",
       "      <td>4</td>\n",
       "      <td>2019-01-01 00:03:06</td>\n",
       "      <td>375534208663984</td>\n",
       "      <td>Keeling-Crist</td>\n",
       "      <td>misc_pos</td>\n",
       "      <td>41.96</td>\n",
       "      <td>Tyler</td>\n",
       "      <td>Garcia</td>\n",
       "      <td>M</td>\n",
       "      <td>408 Bradley Rest</td>\n",
       "      <td>...</td>\n",
       "      <td>38.674999</td>\n",
       "      <td>-78.632459</td>\n",
       "      <td>0</td>\n",
       "      <td>January</td>\n",
       "      <td>Tuesday</td>\n",
       "      <td>00</td>\n",
       "      <td>39</td>\n",
       "      <td>Travel &amp; Entertainment (e.g., American Express...</td>\n",
       "      <td>American Express</td>\n",
       "      <td>48.191592</td>\n",
       "    </tr>\n",
       "  </tbody>\n",
       "</table>\n",
       "<p>5 rows × 30 columns</p>\n",
       "</div>"
      ],
      "text/plain": [
       "   Unnamed: 0 trans_date_trans_time            cc_num  \\\n",
       "0           0   2019-01-01 00:00:18  2703186189652095   \n",
       "1           1   2019-01-01 00:00:44      630423337322   \n",
       "2           2   2019-01-01 00:00:51    38859492057661   \n",
       "3           3   2019-01-01 00:01:16  3534093764340240   \n",
       "4           4   2019-01-01 00:03:06   375534208663984   \n",
       "\n",
       "                       merchant       category     amt      first     last  \\\n",
       "0          Rippin, Kub and Mann       misc_net    4.97   Jennifer    Banks   \n",
       "1     Heller, Gutmann and Zieme    grocery_pos  107.23  Stephanie     Gill   \n",
       "2                Lind-Buckridge  entertainment  220.11     Edward  Sanchez   \n",
       "3  Kutch, Hermiston and Farrell  gas_transport   45.00     Jeremy    White   \n",
       "4                 Keeling-Crist       misc_pos   41.96      Tyler   Garcia   \n",
       "\n",
       "  gender                        street  ...  merch_lat  merch_long is_fraud  \\\n",
       "0      F                561 Perry Cove  ...  36.011293  -82.048315        0   \n",
       "1      F  43039 Riley Greens Suite 393  ...  49.159047 -118.186462        0   \n",
       "2      M      594 White Dale Suite 530  ...  43.150704 -112.154481        0   \n",
       "3      M   9443 Cynthia Court Apt. 038  ...  47.034331 -112.561071        0   \n",
       "4      M              408 Bradley Rest  ...  38.674999  -78.632459        0   \n",
       "\n",
       "   trans_month  trans_day_of_week  trans_hour age  \\\n",
       "0      January            Tuesday          00  37   \n",
       "1      January            Tuesday          00  47   \n",
       "2      January            Tuesday          00  63   \n",
       "3      January            Tuesday          00  58   \n",
       "4      January            Tuesday          00  39   \n",
       "\n",
       "                                            industry        cc_network  \\\n",
       "0                               Airlines & Financial        Mastercard   \n",
       "1           Merchandising & Banking (e.g., Discover)           Maestro   \n",
       "2  Travel & Entertainment (e.g., American Express...       Diners Club   \n",
       "3  Travel & Entertainment (e.g., American Express...               JCB   \n",
       "4  Travel & Entertainment (e.g., American Express...  American Express   \n",
       "\n",
       "   store_distance  \n",
       "0       48.838332  \n",
       "1       18.773001  \n",
       "2       67.236235  \n",
       "3       59.448671  \n",
       "4       48.191592  \n",
       "\n",
       "[5 rows x 30 columns]"
      ]
     },
     "execution_count": 47,
     "metadata": {},
     "output_type": "execute_result"
    }
   ],
   "source": [
    "# Define Non-ordered categorical columns\n",
    "cat_cols = ['merchant', 'category', 'gender', 'city','state', 'zip','job','is_fraud', 'industry', 'cc_network']\n",
    "df[cat_cols] = df[cat_cols].astype('category')\n",
    "\n",
    "# Define the order of months and days of the week for plotting\n",
    "month_order = [\"January\", \"February\", \"March\", \"April\", \"May\", \"June\",\n",
    "    \"July\", \"August\", \"September\", \"October\", \"November\", \"December\"]\n",
    "df['trans_month'] = pd.Categorical(df['trans_month'], categories=month_order, ordered=True)\n",
    "#\n",
    "day_of_week_order = [\"Monday\", \"Tuesday\", \"Wednesday\", \"Thursday\", \"Friday\", \"Saturday\", \"Sunday\"]\n",
    "df['trans_day_of_week'] = pd.Categorical(df['trans_day_of_week'], categories=day_of_week_order, ordered=True)\n",
    "#\n",
    "hour_order = [\"00\", \"01\", \"02\", \"03\", \"04\", \"05\", \"06\", \"07\", \"08\", \"09\", \"10\", \"11\", \"12\", \"13\", \"14\", \"15\", \"16\", \"17\", \"18\", \"19\", \"20\", \"21\", \"22\", \"23\"]\n",
    "df['trans_hour'] = pd.Categorical(df['trans_hour'], categories=hour_order, ordered=True)\n",
    "\n",
    "# Convert 'is_fraud' to a numeric type (int or float)\n",
    "df['is_fraud'] = df['is_fraud'].astype(int)  # or float, depending on your data\n",
    "\n",
    "\n",
    "# Create feature for fraud per population\n",
    "df['fraud_per_pop'] = df.groupby('category')['is_fraud'].transform(lambda x: x.sum() / len(x))\n",
    "\n",
    "# display\n",
    "df.head()\n",
    "\n"
   ]
  },
  {
   "cell_type": "code",
   "execution_count": 48,
   "id": "fb2e3c78",
   "metadata": {},
   "outputs": [
    {
     "data": {
      "text/plain": [
       "(906, 985, 51, 497, 693, 14)"
      ]
     },
     "execution_count": 48,
     "metadata": {},
     "output_type": "execute_result"
    }
   ],
   "source": [
    "df.city.nunique(), df.zip.nunique(), df.state.nunique(), df.job.nunique(), df.merchant.nunique(), df.category.nunique()"
   ]
  },
  {
   "cell_type": "markdown",
   "id": "f2d9cbd9",
   "metadata": {},
   "source": [
    "## Visualization"
   ]
  },
  {
   "cell_type": "code",
   "execution_count": 65,
   "id": "85f2b4cc",
   "metadata": {},
   "outputs": [
    {
     "data": {
      "image/png": "[encoded data removed]",
      "text/plain": [
       "<Figure size 1000x600 with 1 Axes>"
      ]
     },
     "metadata": {},
     "output_type": "display_data"
    }
   ],
   "source": [
    "# hour summary\n",
    "df_cat = (\n",
    "    df.groupby('trans_hour', observed=True)\n",
    "      .agg(\n",
    "          total_transactions=('is_fraud', 'count'),\n",
    "          total_fraud=('is_fraud', 'sum')\n",
    "      )\n",
    "      .sort_values(by='trans_hour')\n",
    "      .reset_index()\n",
    ")\n",
    "\n",
    "# plotting the monthly fraud count\n",
    "plt.figure(figsize=(10, 6))\n",
    "plt.plot(df_cat['trans_hour'], df_cat['total_fraud'], marker='o', label='fraud count')\n",
    "plt.title('Transaction Hour Fraud Count')\n",
    "plt.xlabel('Hour of Transaction')\n",
    "plt.ylabel('Number of Fraudulent Transactions')\n",
    "plt.xticks(rotation=45)\n",
    "plt.grid(True)\n",
    "plt.tight_layout()\n",
    "plt.legend()\n",
    "plt.show()"
   ]
  },
  {
   "cell_type": "code",
   "execution_count": null,
   "id": "e332fb35",
   "metadata": {},
   "outputs": [
    {
     "data": {
      "image/png": "[encoded data removed]",
      "text/plain": [
       "<Figure size 1000x600 with 1 Axes>"
      ]
     },
     "metadata": {},
     "output_type": "display_data"
    },
    {
     "name": "stdout",
     "output_type": "stream",
     "text": [
      "\n",
      "--- Contingency Table: Category vs. Is Fraud ---\n",
      "is_fraud       0     1\n",
      "trans_hour            \n",
      "00          0.03  0.09\n",
      "01          0.03  0.09\n",
      "02          0.03  0.08\n",
      "03          0.03  0.08\n",
      "04          0.03  0.01\n",
      "05          0.03  0.01\n",
      "06          0.03  0.01\n",
      "07          0.03  0.01\n",
      "08          0.03  0.01\n",
      "09          0.03  0.01\n",
      "10          0.03  0.01\n",
      "11          0.03  0.01\n",
      "12          0.05  0.01\n",
      "13          0.05  0.01\n",
      "14          0.05  0.01\n",
      "15          0.05  0.01\n",
      "16          0.05  0.01\n",
      "17          0.05  0.01\n",
      "18          0.05  0.01\n",
      "19          0.05  0.01\n",
      "20          0.05  0.01\n",
      "21          0.05  0.01\n",
      "22          0.05  0.26\n",
      "23          0.05  0.25\n"
     ]
    }
   ],
   "source": [
    "# Creating the Contingency Table\n",
    "contingency_table_percent_col = pd.crosstab(df['trans_hour'], df['is_fraud'], normalize='columns')\n",
    "contingency_table_percent_col.plot(\n",
    "    kind='bar',\n",
    "    stacked=True,\n",
    "    figsize=(10, 6),\n",
    "    color=['#4c72b0', '#dd8452']  # Optional: custom colors for clarity\n",
    ")\n",
    "\n",
    "plt.ylabel('Percentage')\n",
    "plt.xlabel('Hour')\n",
    "plt.title('Percentage of Transactions by Hour and Fraud Status')\n",
    "plt.legend(['Not Fraud', 'Fraud'], title='Is Fraud')\n",
    "plt.xticks(rotation=45, ha='right')\n",
    "plt.tight_layout()\n",
    "plt.show()\n",
    "\n",
    "# --- Creating the Contingency Table ---\n",
    "print(\"\\n--- Contingency Table: Category vs. Is Fraud ---\")\n",
    "print(contingency_table_percent_col.round(2))"
   ]
  },
  {
   "cell_type": "markdown",
   "id": "b179eaf2",
   "metadata": {},
   "source": [
    "#### Summary\n",
    "- Late-night hours (10 PM–11 PM) show the highest fraud percentages, far exceeding any other hour.\n",
    "- Daytime hours (4 AM–9 PM) show very low fraud levels (~0.01%) despite higher non-fraud activity.\n",
    "- Midnight to 3 AM has elevated fraud relative to non-fraud.\n",
    "- Non-fraud remains fairly evenly distributed throughout the day.\n",
    "\n",
    "#### Fraudsters are most active during late-night hours, likely exploiting reduced user vigilance and possible system oversight. Legitimate transactions peak during daytime, but that’s when fraud is least likely."
   ]
  },
  {
   "cell_type": "code",
   "execution_count": 66,
   "id": "7d8d9d28",
   "metadata": {},
   "outputs": [
    {
     "data": {
      "image/png": "[encoded data removed]",
      "text/plain": [
       "<Figure size 1000x600 with 1 Axes>"
      ]
     },
     "metadata": {},
     "output_type": "display_data"
    }
   ],
   "source": [
    "#  day of the week summary\n",
    "df_cat = (\n",
    "    df.groupby('trans_day_of_week', observed=True)\n",
    "      .agg(\n",
    "          total_transactions=('is_fraud', 'count'),\n",
    "          total_fraud=('is_fraud', 'sum')\n",
    "      )\n",
    "      .sort_values(by='trans_day_of_week')\n",
    "      .reset_index()\n",
    ")\n",
    "\n",
    "# plotting the monthly fraud count\n",
    "plt.figure(figsize=(10, 6))\n",
    "plt.plot(df_cat['trans_day_of_week'], df_cat['total_fraud'], marker='o', label='Fraud Count')\n",
    "plt.title('Day Of Week Fraud Count')\n",
    "plt.xlabel('Day Of The Week')\n",
    "plt.ylabel('Number of Fraudulent Transactions')\n",
    "plt.xticks(rotation=45)\n",
    "plt.grid(True)\n",
    "plt.tight_layout()\n",
    "plt.legend()\n",
    "plt.show()"
   ]
  },
  {
   "cell_type": "code",
   "execution_count": 67,
   "id": "414e37db",
   "metadata": {},
   "outputs": [
    {
     "data": {
      "image/png": "[encoded data removed]",
      "text/plain": [
       "<Figure size 1000x600 with 1 Axes>"
      ]
     },
     "metadata": {},
     "output_type": "display_data"
    },
    {
     "name": "stdout",
     "output_type": "stream",
     "text": [
      "\n",
      "--- Contingency Table: Category vs. Is Fraud ---\n",
      "is_fraud              0     1\n",
      "trans_day_of_week            \n",
      "Monday             0.20  0.15\n",
      "Tuesday            0.15  0.13\n",
      "Wednesday          0.10  0.12\n",
      "Thursday           0.11  0.14\n",
      "Friday             0.12  0.14\n",
      "Saturday           0.14  0.15\n",
      "Sunday             0.19  0.16\n"
     ]
    }
   ],
   "source": [
    "# --- Creating the Contingency Table ---\n",
    "contingency_table_percent_col = pd.crosstab(df['trans_day_of_week'], df['is_fraud'], normalize='columns')\n",
    "contingency_table_percent_col.plot(\n",
    "    kind='bar',\n",
    "    stacked=True,\n",
    "    figsize=(10, 6),\n",
    "    color=['#4c72b0', '#dd8452']  # Optional: custom colors for clarity\n",
    ")\n",
    "\n",
    "plt.ylabel('Percentage')\n",
    "plt.xlabel('Day of the Week')\n",
    "plt.title('Percentage of Transactions by Day and Fraud Status')\n",
    "plt.legend(['Not Fraud', 'Fraud'], title='Is Fraud')\n",
    "plt.xticks(rotation=45, ha='right')\n",
    "plt.tight_layout()\n",
    "plt.show()\n",
    "\n",
    "# --- Creating the Contingency Table ---\n",
    "print(\"\\n--- Contingency Table: Category vs. Is Fraud ---\")\n",
    "print(contingency_table_percent_col.round(2))"
   ]
  },
  {
   "cell_type": "markdown",
   "id": "98c6a847",
   "metadata": {},
   "source": [
    "#### Summary\n",
    "- Thursday and Friday have a higher share of fraud than their share of total transactions, suggesting elevated risk.\n",
    "- Monday and Sunday see less fraud than expected, given their volume of total transactions.\n",
    "- Saturday fraud is proportionate to transaction volume.\n",
    "\n",
    "#### Fraudulent activity is more concentrated toward the end of the week, especially Thursday and Friday. This could reflect behavioral patterns of fraudsters — possibly exploiting end-of-week rush or reduced oversight."
   ]
  },
  {
   "cell_type": "code",
   "execution_count": 68,
   "id": "8563d09f",
   "metadata": {},
   "outputs": [
    {
     "data": {
      "image/png": "[encoded data removed]",
      "text/plain": [
       "<Figure size 1000x600 with 1 Axes>"
      ]
     },
     "metadata": {},
     "output_type": "display_data"
    }
   ],
   "source": [
    "# monthly summary\n",
    "df_cat = (\n",
    "    df.groupby('trans_month', observed=True)\n",
    "      .agg(\n",
    "          total_transactions=('is_fraud', 'count'),\n",
    "          total_fraud=('is_fraud', 'sum')\n",
    "      )\n",
    "      .sort_values(by='trans_month')\n",
    "      .reset_index()\n",
    ")\n",
    "\n",
    "# plotting the monthly fraud count\n",
    "plt.figure(figsize=(10, 6))\n",
    "plt.plot(df_cat['trans_month'], df_cat['total_fraud'], marker='o', label='Fraud Count')\n",
    "plt.title('Monthly Fraud Count')\n",
    "plt.xlabel('Month')\n",
    "plt.ylabel('Number of Fraudulent Transactions')\n",
    "plt.xticks(rotation=45)\n",
    "plt.grid(True)\n",
    "plt.tight_layout()\n",
    "plt.legend()\n",
    "plt.show()"
   ]
  },
  {
   "cell_type": "code",
   "execution_count": 69,
   "id": "19e9d737",
   "metadata": {},
   "outputs": [
    {
     "data": {
      "image/png": "[encoded data removed]",
      "text/plain": [
       "<Figure size 1000x600 with 1 Axes>"
      ]
     },
     "metadata": {},
     "output_type": "display_data"
    },
    {
     "name": "stdout",
     "output_type": "stream",
     "text": [
      "\n",
      "--- Contingency Table: Category vs. Is Fraud ---\n",
      "is_fraud        0     1\n",
      "trans_month            \n",
      "January      0.06  0.09\n",
      "February     0.05  0.09\n",
      "March        0.08  0.10\n",
      "April        0.07  0.07\n",
      "May          0.08  0.10\n",
      "June         0.09  0.09\n",
      "July         0.09  0.07\n",
      "August       0.10  0.08\n",
      "September    0.08  0.08\n",
      "October      0.07  0.09\n",
      "November     0.08  0.07\n",
      "December     0.15  0.09\n"
     ]
    }
   ],
   "source": [
    "# Creating the Contingency Table\n",
    "contingency_table_percent_col = pd.crosstab(df['trans_month'], df['is_fraud'], normalize='columns')\n",
    "contingency_table_percent_col.plot(\n",
    "    kind='bar',\n",
    "    stacked=True,\n",
    "    figsize=(10, 6),\n",
    "    color=['#4c72b0', '#dd8452']  # Optional: custom colors for clarity\n",
    ")\n",
    "\n",
    "plt.ylabel('Percentage')\n",
    "plt.xlabel('Month')\n",
    "plt.title('Percentage of Transactions by Month and Fraud Status')\n",
    "plt.legend(['Not Fraud', 'Fraud'], title='Is Fraud')\n",
    "plt.xticks(rotation=45, ha='right')\n",
    "plt.tight_layout()\n",
    "plt.show()\n",
    "\n",
    "# --- Creating the Contingency Table ---\n",
    "print(\"\\n--- Contingency Table: Category vs. Is Fraud ---\")\n",
    "print(contingency_table_percent_col.round(2))"
   ]
  },
  {
   "cell_type": "markdown",
   "id": "25943489",
   "metadata": {},
   "source": [
    "#### Summary\n",
    "- High Fraud Months:\n",
    "    - February, January, March, and May show higher fraud rates relative to their transaction volume.\n",
    "- Balanced Months:\n",
    "    - April, June, and September show a fraud distribution that matches overall transaction activity.\n",
    "\n",
    "- Low Fraud Months:\n",
    "    - July, August, and December have lower fraud rates, especially December, which has the highest transaction volume (15%) but only 9% of fraud.\n",
    "\n",
    "#### Fraud is disproportionately higher in the early part of the year (Jan–Mar) and lower during the holiday-heavy month of December, suggesting potential seasonal fraud patterns."
   ]
  },
  {
   "cell_type": "code",
   "execution_count": 71,
   "id": "1e2c400e",
   "metadata": {},
   "outputs": [
    {
     "data": {
      "image/png": "[encoded data removed]",
      "text/plain": [
       "<Figure size 1000x600 with 1 Axes>"
      ]
     },
     "metadata": {},
     "output_type": "display_data"
    }
   ],
   "source": [
    "# monthly summary\n",
    "df_cat = (\n",
    "    df.groupby('category', observed=True)\n",
    "      .agg(\n",
    "          total_transactions=('is_fraud', 'count'),\n",
    "          total_fraud=('is_fraud', 'sum')\n",
    "      )\n",
    "      .sort_values(by='category')\n",
    "      .reset_index()\n",
    ")\n",
    "\n",
    "# plotting the monthly fraud count\n",
    "plt.figure(figsize=(10, 6))\n",
    "plt.plot(df_cat['category'], df_cat['total_fraud'], marker='o', label='Fraud Count')\n",
    "plt.title('Shopping Category Fraud Count')\n",
    "plt.xlabel('Month')\n",
    "plt.ylabel('Number of Fraudulent Transactions')\n",
    "plt.xticks(rotation=45)\n",
    "plt.grid(True)\n",
    "plt.tight_layout()\n",
    "plt.legend()\n",
    "plt.show()"
   ]
  },
  {
   "cell_type": "code",
   "execution_count": 73,
   "id": "4d682449",
   "metadata": {},
   "outputs": [
    {
     "data": {
      "image/png": "[encoded data removed]",
      "text/plain": [
       "<Figure size 1000x600 with 1 Axes>"
      ]
     },
     "metadata": {},
     "output_type": "display_data"
    },
    {
     "name": "stdout",
     "output_type": "stream",
     "text": [
      "\n",
      "--- Contingency Table: Category vs. Is Fraud ---\n",
      "is_fraud           0     1\n",
      "category                  \n",
      "entertainment   0.07  0.03\n",
      "food_dining     0.07  0.02\n",
      "gas_transport   0.10  0.08\n",
      "grocery_net     0.04  0.02\n",
      "grocery_pos     0.09  0.23\n",
      "health_fitness  0.07  0.02\n",
      "home            0.10  0.03\n",
      "kids_pets       0.09  0.03\n",
      "misc_net        0.05  0.12\n",
      "misc_pos        0.06  0.03\n",
      "personal_care   0.07  0.03\n",
      "shopping_net    0.07  0.23\n",
      "shopping_pos    0.09  0.11\n",
      "travel          0.03  0.02\n"
     ]
    }
   ],
   "source": [
    "# Creating the Contingency Table\n",
    "contingency_table_percent_col = pd.crosstab(df['category'], df['is_fraud'], normalize='columns')\n",
    "contingency_table_percent_col.plot(\n",
    "    kind='bar',\n",
    "    stacked=True,\n",
    "    figsize=(10, 6),\n",
    "    color=['#4c72b0', '#dd8452']  # Optional: custom colors for clarity\n",
    ")\n",
    "\n",
    "plt.ylabel('Percentage')\n",
    "plt.xlabel('Month')\n",
    "plt.title('Percentage of Transactions by Merchant and Fraud Status')\n",
    "plt.legend(['Not Fraud', 'Fraud'], title='Is Fraud')\n",
    "plt.xticks(rotation=45, ha='right')\n",
    "plt.tight_layout()\n",
    "plt.show()\n",
    "\n",
    "# --- Creating the Contingency Table ---\n",
    "print(\"\\n--- Contingency Table: Category vs. Is Fraud ---\")\n",
    "print(contingency_table_percent_col.round(2))"
   ]
  },
  {
   "cell_type": "markdown",
   "id": "85cdc4b9",
   "metadata": {},
   "source": [
    "#### Summary\n",
    "- High-Risk Categories:\n",
    "    - grocery_pos and shopping_net are top fraud targets, each accounting for 23% of fraud but much lower share of total transactions.\n",
    "    - misc_net also stands out with 12% of fraud from just 5% of transactions.\n",
    "\n",
    "- Low-Risk Categories:\n",
    "    - Categories like entertainment, food_dining, health_fitness, and travel show significantly less fraud than expected.\n",
    "\n",
    "#### Monitor or flag transactions in grocery_pos, shopping_net, and misc_net with higher scrutiny and consider building category-based risk features for the fraud model."
   ]
  },
  {
   "cell_type": "code",
   "execution_count": null,
   "id": "9239599a",
   "metadata": {},
   "outputs": [],
   "source": []
  }
 ],
 "metadata": {
  "kernelspec": {
   "display_name": "Project",
   "language": "python",
   "name": "python3"
  },
  "language_info": {
   "codemirror_mode": {
    "name": "ipython",
    "version": 3
   },
   "file_extension": ".py",
   "mimetype": "text/x-python",
   "name": "python",
   "nbconvert_exporter": "python",
   "pygments_lexer": "ipython3",
   "version": "3.13.5"
  }
 },
 "nbformat": 4,
 "nbformat_minor": 5
}
