{
 "cells": [
  {
   "cell_type": "markdown",
   "id": "b4358746",
   "metadata": {},
   "source": [
    "### Import the necessary libraries"
   ]
  },
  {
   "cell_type": "code",
   "execution_count": 1,
   "id": "59d6065d",
   "metadata": {},
   "outputs": [
    {
     "name": "stdout",
     "output_type": "stream",
     "text": [
      "Numpy Version: 2.3.1\n",
      "Pandas Version: 2.2.3\n",
      "Seaborn Version: 0.13.2\n",
      "Matplotlib Version: 3.10.0\n",
      "Python Version: 3.13.5\n"
     ]
    }
   ],
   "source": [
    "# Path to user functions\n",
    "import sys\n",
    "sys.path.append(\"../Src/\")\n",
    "# display Python Version\n",
    "from platform import python_version\n",
    "# import libraries\n",
    "import pandas as pd\n",
    "import numpy as np\n",
    "import matplotlib.pyplot as plt\n",
    "import seaborn as sns\n",
    "from datetime import datetime\n",
    "# user functions\n",
    "import utilities as u\n",
    "import statistical_testing as st\n",
    "import plot_function as pf\n",
    "\n",
    "# Initialize variables\n",
    "RANDOM_STATE = 1776\n",
    "\n",
    "# print versions\n",
    "print(\"Numpy Version: \" + np.__version__)\n",
    "print(\"Pandas Version: \" + pd.__version__)\n",
    "print(\"Seaborn Version: \" + sns.__version__)\n",
    "print(\"Matplotlib Version: \" + plt.matplotlib.__version__)\n",
    "print(\"Python Version: \" + python_version())"
   ]
  },
  {
   "cell_type": "markdown",
   "id": "5de830a6",
   "metadata": {},
   "source": [
    "### Load the dataset & Combine the train and test datasets"
   ]
  },
  {
   "cell_type": "code",
   "execution_count": 2,
   "id": "197bcfa7",
   "metadata": {},
   "outputs": [
    {
     "name": "stdout",
     "output_type": "stream",
     "text": [
      "Loading fraudTrain.csv...\n",
      "Training data shape: (1296675, 23)\n",
      "\n",
      "Loading fraudTest.csv...\n",
      "Training data shape: (1296675, 23)\n",
      "\n",
      "Loading fraudTest.csv...\n",
      "Test data shape: (555719, 23)\n",
      "\n",
      "Combining datasets...\n",
      "Combined data shape: (1852394, 23)\n",
      "Test data shape: (555719, 23)\n",
      "\n",
      "Combining datasets...\n",
      "Combined data shape: (1852394, 23)\n"
     ]
    }
   ],
   "source": [
    "# Load the CSV files\n",
    "print(\"Loading fraudTrain.csv...\")\n",
    "fraud_train = pd.read_csv(\"../Data/fraudTrain.csv\")\n",
    "print(f\"Training data shape: {fraud_train.shape}\")\n",
    "\n",
    "print(\"\\nLoading fraudTest.csv...\")\n",
    "fraud_test = pd.read_csv(\"../Data/fraudTest.csv\")\n",
    "print(f\"Test data shape: {fraud_test.shape}\")\n",
    "\n",
    "# Combine the datasets\n",
    "print(\"\\nCombining datasets...\")\n",
    "df = pd.concat([fraud_train, fraud_test], ignore_index=True)\n",
    "print(f\"Combined data shape: {df.shape}\")\n",
    "\n",
    "# reset index after concatenation\n",
    "df.reset_index(drop=True, inplace=True)"
   ]
  },
  {
   "cell_type": "code",
   "execution_count": 3,
   "id": "7d2564b8",
   "metadata": {},
   "outputs": [
    {
     "name": "stdout",
     "output_type": "stream",
     "text": [
      "<class 'pandas.core.frame.DataFrame'>\n",
      "RangeIndex: 1852394 entries, 0 to 1852393\n",
      "Data columns (total 23 columns):\n",
      " #   Column                 Dtype  \n",
      "---  ------                 -----  \n",
      " 0   Unnamed: 0             int64  \n",
      " 1   trans_date_trans_time  object \n",
      " 2   cc_num                 int64  \n",
      " 3   merchant               object \n",
      " 4   category               object \n",
      " 5   amt                    float64\n",
      " 6   first                  object \n",
      " 7   last                   object \n",
      " 8   gender                 object \n",
      " 9   street                 object \n",
      " 10  city                   object \n",
      " 11  state                  object \n",
      " 12  zip                    int64  \n",
      " 13  lat                    float64\n",
      " 14  long                   float64\n",
      " 15  city_pop               int64  \n",
      " 16  job                    object \n",
      " 17  dob                    object \n",
      " 18  trans_num              object \n",
      " 19  unix_time              int64  \n",
      " 20  merch_lat              float64\n",
      " 21  merch_long             float64\n",
      " 22  is_fraud               int64  \n",
      "dtypes: float64(5), int64(6), object(12)\n",
      "memory usage: 325.1+ MB\n"
     ]
    }
   ],
   "source": [
    "df.info()"
   ]
  },
  {
   "cell_type": "code",
   "execution_count": 4,
   "id": "5fb9c3bc",
   "metadata": {},
   "outputs": [
    {
     "data": {
      "application/vnd.microsoft.datawrangler.viewer.v0+json": {
       "columns": [
        {
         "name": "index",
         "rawType": "object",
         "type": "string"
        },
        {
         "name": "0",
         "rawType": "int64",
         "type": "integer"
        }
       ],
       "ref": "abb215cc-b56a-49d3-9139-19757e6eafcb",
       "rows": [
        [
         "Unnamed: 0",
         "0"
        ],
        [
         "trans_date_trans_time",
         "0"
        ],
        [
         "cc_num",
         "0"
        ],
        [
         "merchant",
         "0"
        ],
        [
         "category",
         "0"
        ],
        [
         "amt",
         "0"
        ],
        [
         "first",
         "0"
        ],
        [
         "last",
         "0"
        ],
        [
         "gender",
         "0"
        ],
        [
         "street",
         "0"
        ],
        [
         "city",
         "0"
        ],
        [
         "state",
         "0"
        ],
        [
         "zip",
         "0"
        ],
        [
         "lat",
         "0"
        ],
        [
         "long",
         "0"
        ],
        [
         "city_pop",
         "0"
        ],
        [
         "job",
         "0"
        ],
        [
         "dob",
         "0"
        ],
        [
         "trans_num",
         "0"
        ],
        [
         "unix_time",
         "0"
        ],
        [
         "merch_lat",
         "0"
        ],
        [
         "merch_long",
         "0"
        ],
        [
         "is_fraud",
         "0"
        ]
       ],
       "shape": {
        "columns": 1,
        "rows": 23
       }
      },
      "text/plain": [
       "Unnamed: 0               0\n",
       "trans_date_trans_time    0\n",
       "cc_num                   0\n",
       "merchant                 0\n",
       "category                 0\n",
       "amt                      0\n",
       "first                    0\n",
       "last                     0\n",
       "gender                   0\n",
       "street                   0\n",
       "city                     0\n",
       "state                    0\n",
       "zip                      0\n",
       "lat                      0\n",
       "long                     0\n",
       "city_pop                 0\n",
       "job                      0\n",
       "dob                      0\n",
       "trans_num                0\n",
       "unix_time                0\n",
       "merch_lat                0\n",
       "merch_long               0\n",
       "is_fraud                 0\n",
       "dtype: int64"
      ]
     },
     "execution_count": 4,
     "metadata": {},
     "output_type": "execute_result"
    }
   ],
   "source": [
    "# Checking for nulls\n",
    "df.isna().sum()"
   ]
  },
  {
   "cell_type": "code",
   "execution_count": 5,
   "id": "2890fe69",
   "metadata": {},
   "outputs": [
    {
     "data": {
      "application/vnd.microsoft.datawrangler.viewer.v0+json": {
       "columns": [
        {
         "name": "is_fraud",
         "rawType": "int64",
         "type": "integer"
        },
        {
         "name": "count",
         "rawType": "int64",
         "type": "integer"
        }
       ],
       "ref": "8f5713f1-f8b1-4e52-bca8-4f23d5770c96",
       "rows": [
        [
         "0",
         "1842743"
        ],
        [
         "1",
         "9651"
        ]
       ],
       "shape": {
        "columns": 1,
        "rows": 2
       }
      },
      "text/plain": [
       "is_fraud\n",
       "0    1842743\n",
       "1       9651\n",
       "Name: count, dtype: int64"
      ]
     },
     "execution_count": 5,
     "metadata": {},
     "output_type": "execute_result"
    }
   ],
   "source": [
    "df.is_fraud.value_counts()"
   ]
  },
  {
   "cell_type": "code",
   "execution_count": 6,
   "id": "e43a1a19",
   "metadata": {},
   "outputs": [
    {
     "data": {
      "application/vnd.microsoft.datawrangler.viewer.v0+json": {
       "columns": [
        {
         "name": "is_fraud",
         "rawType": "int64",
         "type": "integer"
        },
        {
         "name": "proportion",
         "rawType": "float64",
         "type": "float"
        }
       ],
       "ref": "4a80ba8b-7b8f-4c11-a551-1ff666c41fad",
       "rows": [
        [
         "0",
         "0.9947899852839083"
        ],
        [
         "1",
         "0.005210014716091717"
        ]
       ],
       "shape": {
        "columns": 1,
        "rows": 2
       }
      },
      "text/plain": [
       "is_fraud\n",
       "0    0.99479\n",
       "1    0.00521\n",
       "Name: proportion, dtype: float64"
      ]
     },
     "execution_count": 6,
     "metadata": {},
     "output_type": "execute_result"
    }
   ],
   "source": [
    "df.is_fraud.value_counts(normalize=True)"
   ]
  },
  {
   "cell_type": "markdown",
   "id": "f9c4cac8",
   "metadata": {},
   "source": [
    "### Observations :\n",
    "- From above we can observe that there is 23 features and 1,852,394 rows\n",
    "- This is highly imbalanced class data\n",
    "    - We can try with the imbalabnce but we need to balance the dependent variable"
   ]
  },
  {
   "cell_type": "code",
   "execution_count": 7,
   "id": "1517f0e3",
   "metadata": {},
   "outputs": [
    {
     "data": {
      "application/vnd.microsoft.datawrangler.viewer.v0+json": {
       "columns": [
        {
         "name": "index",
         "rawType": "int64",
         "type": "integer"
        },
        {
         "name": "Unnamed: 0",
         "rawType": "int64",
         "type": "integer"
        },
        {
         "name": "trans_date_trans_time",
         "rawType": "object",
         "type": "string"
        },
        {
         "name": "cc_num",
         "rawType": "int64",
         "type": "integer"
        },
        {
         "name": "merchant",
         "rawType": "object",
         "type": "string"
        },
        {
         "name": "category",
         "rawType": "object",
         "type": "string"
        },
        {
         "name": "amt",
         "rawType": "float64",
         "type": "float"
        },
        {
         "name": "first",
         "rawType": "object",
         "type": "string"
        },
        {
         "name": "last",
         "rawType": "object",
         "type": "string"
        },
        {
         "name": "gender",
         "rawType": "object",
         "type": "string"
        },
        {
         "name": "street",
         "rawType": "object",
         "type": "string"
        },
        {
         "name": "city",
         "rawType": "object",
         "type": "string"
        },
        {
         "name": "state",
         "rawType": "object",
         "type": "string"
        },
        {
         "name": "zip",
         "rawType": "int64",
         "type": "integer"
        },
        {
         "name": "lat",
         "rawType": "float64",
         "type": "float"
        },
        {
         "name": "long",
         "rawType": "float64",
         "type": "float"
        },
        {
         "name": "city_pop",
         "rawType": "int64",
         "type": "integer"
        },
        {
         "name": "job",
         "rawType": "object",
         "type": "string"
        },
        {
         "name": "dob",
         "rawType": "object",
         "type": "string"
        },
        {
         "name": "trans_num",
         "rawType": "object",
         "type": "string"
        },
        {
         "name": "unix_time",
         "rawType": "int64",
         "type": "integer"
        },
        {
         "name": "merch_lat",
         "rawType": "float64",
         "type": "float"
        },
        {
         "name": "merch_long",
         "rawType": "float64",
         "type": "float"
        },
        {
         "name": "is_fraud",
         "rawType": "int64",
         "type": "integer"
        }
       ],
       "ref": "7fec7cbf-7b33-4140-ad5a-acd6cb94b49f",
       "rows": [
        [
         "0",
         "0",
         "2019-01-01 00:00:18",
         "2703186189652095",
         "fraud_Rippin, Kub and Mann",
         "misc_net",
         "4.97",
         "Jennifer",
         "Banks",
         "F",
         "561 Perry Cove",
         "Moravian Falls",
         "NC",
         "28654",
         "36.0788",
         "-81.1781",
         "3495",
         "Psychologist, counselling",
         "1988-03-09",
         "0b242abb623afc578575680df30655b9",
         "1325376018",
         "36.011293",
         "-82.048315",
         "0"
        ],
        [
         "1",
         "1",
         "2019-01-01 00:00:44",
         "630423337322",
         "fraud_Heller, Gutmann and Zieme",
         "grocery_pos",
         "107.23",
         "Stephanie",
         "Gill",
         "F",
         "43039 Riley Greens Suite 393",
         "Orient",
         "WA",
         "99160",
         "48.8878",
         "-118.2105",
         "149",
         "Special educational needs teacher",
         "1978-06-21",
         "1f76529f8574734946361c461b024d99",
         "1325376044",
         "49.159046999999994",
         "-118.186462",
         "0"
        ],
        [
         "2",
         "2",
         "2019-01-01 00:00:51",
         "38859492057661",
         "fraud_Lind-Buckridge",
         "entertainment",
         "220.11",
         "Edward",
         "Sanchez",
         "M",
         "594 White Dale Suite 530",
         "Malad City",
         "ID",
         "83252",
         "42.1808",
         "-112.262",
         "4154",
         "Nature conservation officer",
         "1962-01-19",
         "a1a22d70485983eac12b5b88dad1cf95",
         "1325376051",
         "43.150704",
         "-112.154481",
         "0"
        ],
        [
         "3",
         "3",
         "2019-01-01 00:01:16",
         "3534093764340240",
         "fraud_Kutch, Hermiston and Farrell",
         "gas_transport",
         "45.0",
         "Jeremy",
         "White",
         "M",
         "9443 Cynthia Court Apt. 038",
         "Boulder",
         "MT",
         "59632",
         "46.2306",
         "-112.1138",
         "1939",
         "Patent attorney",
         "1967-01-12",
         "6b849c168bdad6f867558c3793159a81",
         "1325376076",
         "47.034331",
         "-112.561071",
         "0"
        ],
        [
         "4",
         "4",
         "2019-01-01 00:03:06",
         "375534208663984",
         "fraud_Keeling-Crist",
         "misc_pos",
         "41.96",
         "Tyler",
         "Garcia",
         "M",
         "408 Bradley Rest",
         "Doe Hill",
         "VA",
         "24433",
         "38.4207",
         "-79.4629",
         "99",
         "Dance movement psychotherapist",
         "1986-03-28",
         "a41d7549acf90789359a9aa5346dcb46",
         "1325376186",
         "38.674999",
         "-78.632459",
         "0"
        ]
       ],
       "shape": {
        "columns": 23,
        "rows": 5
       }
      },
      "text/html": [
       "<div>\n",
       "<style scoped>\n",
       "    .dataframe tbody tr th:only-of-type {\n",
       "        vertical-align: middle;\n",
       "    }\n",
       "\n",
       "    .dataframe tbody tr th {\n",
       "        vertical-align: top;\n",
       "    }\n",
       "\n",
       "    .dataframe thead th {\n",
       "        text-align: right;\n",
       "    }\n",
       "</style>\n",
       "<table border=\"1\" class=\"dataframe\">\n",
       "  <thead>\n",
       "    <tr style=\"text-align: right;\">\n",
       "      <th></th>\n",
       "      <th>Unnamed: 0</th>\n",
       "      <th>trans_date_trans_time</th>\n",
       "      <th>cc_num</th>\n",
       "      <th>merchant</th>\n",
       "      <th>category</th>\n",
       "      <th>amt</th>\n",
       "      <th>first</th>\n",
       "      <th>last</th>\n",
       "      <th>gender</th>\n",
       "      <th>street</th>\n",
       "      <th>...</th>\n",
       "      <th>lat</th>\n",
       "      <th>long</th>\n",
       "      <th>city_pop</th>\n",
       "      <th>job</th>\n",
       "      <th>dob</th>\n",
       "      <th>trans_num</th>\n",
       "      <th>unix_time</th>\n",
       "      <th>merch_lat</th>\n",
       "      <th>merch_long</th>\n",
       "      <th>is_fraud</th>\n",
       "    </tr>\n",
       "  </thead>\n",
       "  <tbody>\n",
       "    <tr>\n",
       "      <th>0</th>\n",
       "      <td>0</td>\n",
       "      <td>2019-01-01 00:00:18</td>\n",
       "      <td>2703186189652095</td>\n",
       "      <td>fraud_Rippin, Kub and Mann</td>\n",
       "      <td>misc_net</td>\n",
       "      <td>4.97</td>\n",
       "      <td>Jennifer</td>\n",
       "      <td>Banks</td>\n",
       "      <td>F</td>\n",
       "      <td>561 Perry Cove</td>\n",
       "      <td>...</td>\n",
       "      <td>36.0788</td>\n",
       "      <td>-81.1781</td>\n",
       "      <td>3495</td>\n",
       "      <td>Psychologist, counselling</td>\n",
       "      <td>1988-03-09</td>\n",
       "      <td>0b242abb623afc578575680df30655b9</td>\n",
       "      <td>1325376018</td>\n",
       "      <td>36.011293</td>\n",
       "      <td>-82.048315</td>\n",
       "      <td>0</td>\n",
       "    </tr>\n",
       "    <tr>\n",
       "      <th>1</th>\n",
       "      <td>1</td>\n",
       "      <td>2019-01-01 00:00:44</td>\n",
       "      <td>630423337322</td>\n",
       "      <td>fraud_Heller, Gutmann and Zieme</td>\n",
       "      <td>grocery_pos</td>\n",
       "      <td>107.23</td>\n",
       "      <td>Stephanie</td>\n",
       "      <td>Gill</td>\n",
       "      <td>F</td>\n",
       "      <td>43039 Riley Greens Suite 393</td>\n",
       "      <td>...</td>\n",
       "      <td>48.8878</td>\n",
       "      <td>-118.2105</td>\n",
       "      <td>149</td>\n",
       "      <td>Special educational needs teacher</td>\n",
       "      <td>1978-06-21</td>\n",
       "      <td>1f76529f8574734946361c461b024d99</td>\n",
       "      <td>1325376044</td>\n",
       "      <td>49.159047</td>\n",
       "      <td>-118.186462</td>\n",
       "      <td>0</td>\n",
       "    </tr>\n",
       "    <tr>\n",
       "      <th>2</th>\n",
       "      <td>2</td>\n",
       "      <td>2019-01-01 00:00:51</td>\n",
       "      <td>38859492057661</td>\n",
       "      <td>fraud_Lind-Buckridge</td>\n",
       "      <td>entertainment</td>\n",
       "      <td>220.11</td>\n",
       "      <td>Edward</td>\n",
       "      <td>Sanchez</td>\n",
       "      <td>M</td>\n",
       "      <td>594 White Dale Suite 530</td>\n",
       "      <td>...</td>\n",
       "      <td>42.1808</td>\n",
       "      <td>-112.2620</td>\n",
       "      <td>4154</td>\n",
       "      <td>Nature conservation officer</td>\n",
       "      <td>1962-01-19</td>\n",
       "      <td>a1a22d70485983eac12b5b88dad1cf95</td>\n",
       "      <td>1325376051</td>\n",
       "      <td>43.150704</td>\n",
       "      <td>-112.154481</td>\n",
       "      <td>0</td>\n",
       "    </tr>\n",
       "    <tr>\n",
       "      <th>3</th>\n",
       "      <td>3</td>\n",
       "      <td>2019-01-01 00:01:16</td>\n",
       "      <td>3534093764340240</td>\n",
       "      <td>fraud_Kutch, Hermiston and Farrell</td>\n",
       "      <td>gas_transport</td>\n",
       "      <td>45.00</td>\n",
       "      <td>Jeremy</td>\n",
       "      <td>White</td>\n",
       "      <td>M</td>\n",
       "      <td>9443 Cynthia Court Apt. 038</td>\n",
       "      <td>...</td>\n",
       "      <td>46.2306</td>\n",
       "      <td>-112.1138</td>\n",
       "      <td>1939</td>\n",
       "      <td>Patent attorney</td>\n",
       "      <td>1967-01-12</td>\n",
       "      <td>6b849c168bdad6f867558c3793159a81</td>\n",
       "      <td>1325376076</td>\n",
       "      <td>47.034331</td>\n",
       "      <td>-112.561071</td>\n",
       "      <td>0</td>\n",
       "    </tr>\n",
       "    <tr>\n",
       "      <th>4</th>\n",
       "      <td>4</td>\n",
       "      <td>2019-01-01 00:03:06</td>\n",
       "      <td>375534208663984</td>\n",
       "      <td>fraud_Keeling-Crist</td>\n",
       "      <td>misc_pos</td>\n",
       "      <td>41.96</td>\n",
       "      <td>Tyler</td>\n",
       "      <td>Garcia</td>\n",
       "      <td>M</td>\n",
       "      <td>408 Bradley Rest</td>\n",
       "      <td>...</td>\n",
       "      <td>38.4207</td>\n",
       "      <td>-79.4629</td>\n",
       "      <td>99</td>\n",
       "      <td>Dance movement psychotherapist</td>\n",
       "      <td>1986-03-28</td>\n",
       "      <td>a41d7549acf90789359a9aa5346dcb46</td>\n",
       "      <td>1325376186</td>\n",
       "      <td>38.674999</td>\n",
       "      <td>-78.632459</td>\n",
       "      <td>0</td>\n",
       "    </tr>\n",
       "  </tbody>\n",
       "</table>\n",
       "<p>5 rows × 23 columns</p>\n",
       "</div>"
      ],
      "text/plain": [
       "   Unnamed: 0 trans_date_trans_time            cc_num  \\\n",
       "0           0   2019-01-01 00:00:18  2703186189652095   \n",
       "1           1   2019-01-01 00:00:44      630423337322   \n",
       "2           2   2019-01-01 00:00:51    38859492057661   \n",
       "3           3   2019-01-01 00:01:16  3534093764340240   \n",
       "4           4   2019-01-01 00:03:06   375534208663984   \n",
       "\n",
       "                             merchant       category     amt      first  \\\n",
       "0          fraud_Rippin, Kub and Mann       misc_net    4.97   Jennifer   \n",
       "1     fraud_Heller, Gutmann and Zieme    grocery_pos  107.23  Stephanie   \n",
       "2                fraud_Lind-Buckridge  entertainment  220.11     Edward   \n",
       "3  fraud_Kutch, Hermiston and Farrell  gas_transport   45.00     Jeremy   \n",
       "4                 fraud_Keeling-Crist       misc_pos   41.96      Tyler   \n",
       "\n",
       "      last gender                        street  ...      lat      long  \\\n",
       "0    Banks      F                561 Perry Cove  ...  36.0788  -81.1781   \n",
       "1     Gill      F  43039 Riley Greens Suite 393  ...  48.8878 -118.2105   \n",
       "2  Sanchez      M      594 White Dale Suite 530  ...  42.1808 -112.2620   \n",
       "3    White      M   9443 Cynthia Court Apt. 038  ...  46.2306 -112.1138   \n",
       "4   Garcia      M              408 Bradley Rest  ...  38.4207  -79.4629   \n",
       "\n",
       "   city_pop                                job         dob  \\\n",
       "0      3495          Psychologist, counselling  1988-03-09   \n",
       "1       149  Special educational needs teacher  1978-06-21   \n",
       "2      4154        Nature conservation officer  1962-01-19   \n",
       "3      1939                    Patent attorney  1967-01-12   \n",
       "4        99     Dance movement psychotherapist  1986-03-28   \n",
       "\n",
       "                          trans_num   unix_time  merch_lat  merch_long  \\\n",
       "0  0b242abb623afc578575680df30655b9  1325376018  36.011293  -82.048315   \n",
       "1  1f76529f8574734946361c461b024d99  1325376044  49.159047 -118.186462   \n",
       "2  a1a22d70485983eac12b5b88dad1cf95  1325376051  43.150704 -112.154481   \n",
       "3  6b849c168bdad6f867558c3793159a81  1325376076  47.034331 -112.561071   \n",
       "4  a41d7549acf90789359a9aa5346dcb46  1325376186  38.674999  -78.632459   \n",
       "\n",
       "   is_fraud  \n",
       "0         0  \n",
       "1         0  \n",
       "2         0  \n",
       "3         0  \n",
       "4         0  \n",
       "\n",
       "[5 rows x 23 columns]"
      ]
     },
     "execution_count": 7,
     "metadata": {},
     "output_type": "execute_result"
    }
   ],
   "source": [
    "df.head()"
   ]
  },
  {
   "cell_type": "markdown",
   "id": "ff9b226a",
   "metadata": {},
   "source": [
    "### Data Wrangling"
   ]
  },
  {
   "cell_type": "code",
   "execution_count": 8,
   "id": "94f3218a",
   "metadata": {},
   "outputs": [
    {
     "data": {
      "application/vnd.microsoft.datawrangler.viewer.v0+json": {
       "columns": [
        {
         "name": "index",
         "rawType": "int64",
         "type": "integer"
        },
        {
         "name": "Unnamed: 0",
         "rawType": "int64",
         "type": "integer"
        },
        {
         "name": "trans_date_trans_time",
         "rawType": "datetime64[ns]",
         "type": "datetime"
        },
        {
         "name": "cc_num",
         "rawType": "int64",
         "type": "integer"
        },
        {
         "name": "merchant",
         "rawType": "object",
         "type": "string"
        },
        {
         "name": "category",
         "rawType": "object",
         "type": "string"
        },
        {
         "name": "amt",
         "rawType": "float64",
         "type": "float"
        },
        {
         "name": "first",
         "rawType": "object",
         "type": "string"
        },
        {
         "name": "last",
         "rawType": "object",
         "type": "string"
        },
        {
         "name": "gender",
         "rawType": "object",
         "type": "string"
        },
        {
         "name": "street",
         "rawType": "object",
         "type": "string"
        },
        {
         "name": "city",
         "rawType": "object",
         "type": "string"
        },
        {
         "name": "state",
         "rawType": "object",
         "type": "string"
        },
        {
         "name": "zip",
         "rawType": "int64",
         "type": "integer"
        },
        {
         "name": "lat",
         "rawType": "float64",
         "type": "float"
        },
        {
         "name": "long",
         "rawType": "float64",
         "type": "float"
        },
        {
         "name": "city_pop",
         "rawType": "int64",
         "type": "integer"
        },
        {
         "name": "job",
         "rawType": "object",
         "type": "string"
        },
        {
         "name": "dob",
         "rawType": "datetime64[ns]",
         "type": "datetime"
        },
        {
         "name": "trans_num",
         "rawType": "object",
         "type": "string"
        },
        {
         "name": "unix_time",
         "rawType": "int64",
         "type": "integer"
        },
        {
         "name": "merch_lat",
         "rawType": "float64",
         "type": "float"
        },
        {
         "name": "merch_long",
         "rawType": "float64",
         "type": "float"
        },
        {
         "name": "is_fraud",
         "rawType": "int64",
         "type": "integer"
        }
       ],
       "ref": "6f936fe0-6bc9-4e43-9480-062d5f7035ae",
       "rows": [
        [
         "0",
         "0",
         "2019-01-01 00:00:18",
         "2703186189652095",
         "Rippin, Kub and Mann",
         "misc_net",
         "4.97",
         "Jennifer",
         "Banks",
         "F",
         "561 Perry Cove",
         "Moravian Falls",
         "NC",
         "28654",
         "36.0788",
         "-81.1781",
         "3495",
         "Psychologist, counselling",
         "1988-03-09 00:00:00",
         "0b242abb623afc578575680df30655b9",
         "1325376018",
         "36.011293",
         "-82.048315",
         "0"
        ],
        [
         "1",
         "1",
         "2019-01-01 00:00:44",
         "630423337322",
         "Heller, Gutmann and Zieme",
         "grocery_pos",
         "107.23",
         "Stephanie",
         "Gill",
         "F",
         "43039 Riley Greens Suite 393",
         "Orient",
         "WA",
         "99160",
         "48.8878",
         "-118.2105",
         "149",
         "Special educational needs teacher",
         "1978-06-21 00:00:00",
         "1f76529f8574734946361c461b024d99",
         "1325376044",
         "49.159046999999994",
         "-118.186462",
         "0"
        ],
        [
         "2",
         "2",
         "2019-01-01 00:00:51",
         "38859492057661",
         "Lind-Buckridge",
         "entertainment",
         "220.11",
         "Edward",
         "Sanchez",
         "M",
         "594 White Dale Suite 530",
         "Malad City",
         "ID",
         "83252",
         "42.1808",
         "-112.262",
         "4154",
         "Nature conservation officer",
         "1962-01-19 00:00:00",
         "a1a22d70485983eac12b5b88dad1cf95",
         "1325376051",
         "43.150704",
         "-112.154481",
         "0"
        ],
        [
         "3",
         "3",
         "2019-01-01 00:01:16",
         "3534093764340240",
         "Kutch, Hermiston and Farrell",
         "gas_transport",
         "45.0",
         "Jeremy",
         "White",
         "M",
         "9443 Cynthia Court Apt. 038",
         "Boulder",
         "MT",
         "59632",
         "46.2306",
         "-112.1138",
         "1939",
         "Patent attorney",
         "1967-01-12 00:00:00",
         "6b849c168bdad6f867558c3793159a81",
         "1325376076",
         "47.034331",
         "-112.561071",
         "0"
        ],
        [
         "4",
         "4",
         "2019-01-01 00:03:06",
         "375534208663984",
         "Keeling-Crist",
         "misc_pos",
         "41.96",
         "Tyler",
         "Garcia",
         "M",
         "408 Bradley Rest",
         "Doe Hill",
         "VA",
         "24433",
         "38.4207",
         "-79.4629",
         "99",
         "Dance movement psychotherapist",
         "1986-03-28 00:00:00",
         "a41d7549acf90789359a9aa5346dcb46",
         "1325376186",
         "38.674999",
         "-78.632459",
         "0"
        ]
       ],
       "shape": {
        "columns": 23,
        "rows": 5
       }
      },
      "text/html": [
       "<div>\n",
       "<style scoped>\n",
       "    .dataframe tbody tr th:only-of-type {\n",
       "        vertical-align: middle;\n",
       "    }\n",
       "\n",
       "    .dataframe tbody tr th {\n",
       "        vertical-align: top;\n",
       "    }\n",
       "\n",
       "    .dataframe thead th {\n",
       "        text-align: right;\n",
       "    }\n",
       "</style>\n",
       "<table border=\"1\" class=\"dataframe\">\n",
       "  <thead>\n",
       "    <tr style=\"text-align: right;\">\n",
       "      <th></th>\n",
       "      <th>Unnamed: 0</th>\n",
       "      <th>trans_date_trans_time</th>\n",
       "      <th>cc_num</th>\n",
       "      <th>merchant</th>\n",
       "      <th>category</th>\n",
       "      <th>amt</th>\n",
       "      <th>first</th>\n",
       "      <th>last</th>\n",
       "      <th>gender</th>\n",
       "      <th>street</th>\n",
       "      <th>...</th>\n",
       "      <th>lat</th>\n",
       "      <th>long</th>\n",
       "      <th>city_pop</th>\n",
       "      <th>job</th>\n",
       "      <th>dob</th>\n",
       "      <th>trans_num</th>\n",
       "      <th>unix_time</th>\n",
       "      <th>merch_lat</th>\n",
       "      <th>merch_long</th>\n",
       "      <th>is_fraud</th>\n",
       "    </tr>\n",
       "  </thead>\n",
       "  <tbody>\n",
       "    <tr>\n",
       "      <th>0</th>\n",
       "      <td>0</td>\n",
       "      <td>2019-01-01 00:00:18</td>\n",
       "      <td>2703186189652095</td>\n",
       "      <td>Rippin, Kub and Mann</td>\n",
       "      <td>misc_net</td>\n",
       "      <td>4.97</td>\n",
       "      <td>Jennifer</td>\n",
       "      <td>Banks</td>\n",
       "      <td>F</td>\n",
       "      <td>561 Perry Cove</td>\n",
       "      <td>...</td>\n",
       "      <td>36.0788</td>\n",
       "      <td>-81.1781</td>\n",
       "      <td>3495</td>\n",
       "      <td>Psychologist, counselling</td>\n",
       "      <td>1988-03-09</td>\n",
       "      <td>0b242abb623afc578575680df30655b9</td>\n",
       "      <td>1325376018</td>\n",
       "      <td>36.011293</td>\n",
       "      <td>-82.048315</td>\n",
       "      <td>0</td>\n",
       "    </tr>\n",
       "    <tr>\n",
       "      <th>1</th>\n",
       "      <td>1</td>\n",
       "      <td>2019-01-01 00:00:44</td>\n",
       "      <td>630423337322</td>\n",
       "      <td>Heller, Gutmann and Zieme</td>\n",
       "      <td>grocery_pos</td>\n",
       "      <td>107.23</td>\n",
       "      <td>Stephanie</td>\n",
       "      <td>Gill</td>\n",
       "      <td>F</td>\n",
       "      <td>43039 Riley Greens Suite 393</td>\n",
       "      <td>...</td>\n",
       "      <td>48.8878</td>\n",
       "      <td>-118.2105</td>\n",
       "      <td>149</td>\n",
       "      <td>Special educational needs teacher</td>\n",
       "      <td>1978-06-21</td>\n",
       "      <td>1f76529f8574734946361c461b024d99</td>\n",
       "      <td>1325376044</td>\n",
       "      <td>49.159047</td>\n",
       "      <td>-118.186462</td>\n",
       "      <td>0</td>\n",
       "    </tr>\n",
       "    <tr>\n",
       "      <th>2</th>\n",
       "      <td>2</td>\n",
       "      <td>2019-01-01 00:00:51</td>\n",
       "      <td>38859492057661</td>\n",
       "      <td>Lind-Buckridge</td>\n",
       "      <td>entertainment</td>\n",
       "      <td>220.11</td>\n",
       "      <td>Edward</td>\n",
       "      <td>Sanchez</td>\n",
       "      <td>M</td>\n",
       "      <td>594 White Dale Suite 530</td>\n",
       "      <td>...</td>\n",
       "      <td>42.1808</td>\n",
       "      <td>-112.2620</td>\n",
       "      <td>4154</td>\n",
       "      <td>Nature conservation officer</td>\n",
       "      <td>1962-01-19</td>\n",
       "      <td>a1a22d70485983eac12b5b88dad1cf95</td>\n",
       "      <td>1325376051</td>\n",
       "      <td>43.150704</td>\n",
       "      <td>-112.154481</td>\n",
       "      <td>0</td>\n",
       "    </tr>\n",
       "    <tr>\n",
       "      <th>3</th>\n",
       "      <td>3</td>\n",
       "      <td>2019-01-01 00:01:16</td>\n",
       "      <td>3534093764340240</td>\n",
       "      <td>Kutch, Hermiston and Farrell</td>\n",
       "      <td>gas_transport</td>\n",
       "      <td>45.00</td>\n",
       "      <td>Jeremy</td>\n",
       "      <td>White</td>\n",
       "      <td>M</td>\n",
       "      <td>9443 Cynthia Court Apt. 038</td>\n",
       "      <td>...</td>\n",
       "      <td>46.2306</td>\n",
       "      <td>-112.1138</td>\n",
       "      <td>1939</td>\n",
       "      <td>Patent attorney</td>\n",
       "      <td>1967-01-12</td>\n",
       "      <td>6b849c168bdad6f867558c3793159a81</td>\n",
       "      <td>1325376076</td>\n",
       "      <td>47.034331</td>\n",
       "      <td>-112.561071</td>\n",
       "      <td>0</td>\n",
       "    </tr>\n",
       "    <tr>\n",
       "      <th>4</th>\n",
       "      <td>4</td>\n",
       "      <td>2019-01-01 00:03:06</td>\n",
       "      <td>375534208663984</td>\n",
       "      <td>Keeling-Crist</td>\n",
       "      <td>misc_pos</td>\n",
       "      <td>41.96</td>\n",
       "      <td>Tyler</td>\n",
       "      <td>Garcia</td>\n",
       "      <td>M</td>\n",
       "      <td>408 Bradley Rest</td>\n",
       "      <td>...</td>\n",
       "      <td>38.4207</td>\n",
       "      <td>-79.4629</td>\n",
       "      <td>99</td>\n",
       "      <td>Dance movement psychotherapist</td>\n",
       "      <td>1986-03-28</td>\n",
       "      <td>a41d7549acf90789359a9aa5346dcb46</td>\n",
       "      <td>1325376186</td>\n",
       "      <td>38.674999</td>\n",
       "      <td>-78.632459</td>\n",
       "      <td>0</td>\n",
       "    </tr>\n",
       "  </tbody>\n",
       "</table>\n",
       "<p>5 rows × 23 columns</p>\n",
       "</div>"
      ],
      "text/plain": [
       "   Unnamed: 0 trans_date_trans_time            cc_num  \\\n",
       "0           0   2019-01-01 00:00:18  2703186189652095   \n",
       "1           1   2019-01-01 00:00:44      630423337322   \n",
       "2           2   2019-01-01 00:00:51    38859492057661   \n",
       "3           3   2019-01-01 00:01:16  3534093764340240   \n",
       "4           4   2019-01-01 00:03:06   375534208663984   \n",
       "\n",
       "                       merchant       category     amt      first     last  \\\n",
       "0          Rippin, Kub and Mann       misc_net    4.97   Jennifer    Banks   \n",
       "1     Heller, Gutmann and Zieme    grocery_pos  107.23  Stephanie     Gill   \n",
       "2                Lind-Buckridge  entertainment  220.11     Edward  Sanchez   \n",
       "3  Kutch, Hermiston and Farrell  gas_transport   45.00     Jeremy    White   \n",
       "4                 Keeling-Crist       misc_pos   41.96      Tyler   Garcia   \n",
       "\n",
       "  gender                        street  ...      lat      long  city_pop  \\\n",
       "0      F                561 Perry Cove  ...  36.0788  -81.1781      3495   \n",
       "1      F  43039 Riley Greens Suite 393  ...  48.8878 -118.2105       149   \n",
       "2      M      594 White Dale Suite 530  ...  42.1808 -112.2620      4154   \n",
       "3      M   9443 Cynthia Court Apt. 038  ...  46.2306 -112.1138      1939   \n",
       "4      M              408 Bradley Rest  ...  38.4207  -79.4629        99   \n",
       "\n",
       "                                 job        dob  \\\n",
       "0          Psychologist, counselling 1988-03-09   \n",
       "1  Special educational needs teacher 1978-06-21   \n",
       "2        Nature conservation officer 1962-01-19   \n",
       "3                    Patent attorney 1967-01-12   \n",
       "4     Dance movement psychotherapist 1986-03-28   \n",
       "\n",
       "                          trans_num   unix_time  merch_lat  merch_long  \\\n",
       "0  0b242abb623afc578575680df30655b9  1325376018  36.011293  -82.048315   \n",
       "1  1f76529f8574734946361c461b024d99  1325376044  49.159047 -118.186462   \n",
       "2  a1a22d70485983eac12b5b88dad1cf95  1325376051  43.150704 -112.154481   \n",
       "3  6b849c168bdad6f867558c3793159a81  1325376076  47.034331 -112.561071   \n",
       "4  a41d7549acf90789359a9aa5346dcb46  1325376186  38.674999  -78.632459   \n",
       "\n",
       "   is_fraud  \n",
       "0         0  \n",
       "1         0  \n",
       "2         0  \n",
       "3         0  \n",
       "4         0  \n",
       "\n",
       "[5 rows x 23 columns]"
      ]
     },
     "execution_count": 8,
     "metadata": {},
     "output_type": "execute_result"
    }
   ],
   "source": [
    "# # remove columns\n",
    "# remove_cols = ['Unnamed: 0', 'street', 'trans_num', 'unix_time', ]\n",
    "# # drop columns\n",
    "# df.drop(columns=remove_cols, inplace=True, errors='ignore')\n",
    "\n",
    "# Convert trans_date_trans_time to datetime\n",
    "df['trans_date_trans_time'] = pd.to_datetime(df['trans_date_trans_time'])\n",
    "# Convert dob to datetime\n",
    "df['dob'] = pd.to_datetime(df['dob'])\n",
    "\n",
    "# remove 'fraud_' prefix from the 'merchant' column\n",
    "df['merchant'] = df['merchant'].str.replace('^fraud_', '', regex=True)\n",
    "\n",
    "# display\n",
    "df.head()"
   ]
  },
  {
   "cell_type": "markdown",
   "id": "07430039",
   "metadata": {},
   "source": [
    "## Feature Engineering"
   ]
  },
  {
   "cell_type": "code",
   "execution_count": 9,
   "id": "79bfea2f",
   "metadata": {},
   "outputs": [
    {
     "data": {
      "application/vnd.microsoft.datawrangler.viewer.v0+json": {
       "columns": [
        {
         "name": "index",
         "rawType": "int64",
         "type": "integer"
        },
        {
         "name": "Unnamed: 0",
         "rawType": "int64",
         "type": "integer"
        },
        {
         "name": "trans_date_trans_time",
         "rawType": "datetime64[ns]",
         "type": "datetime"
        },
        {
         "name": "cc_num",
         "rawType": "int64",
         "type": "integer"
        },
        {
         "name": "merchant",
         "rawType": "object",
         "type": "string"
        },
        {
         "name": "category",
         "rawType": "object",
         "type": "string"
        },
        {
         "name": "amt",
         "rawType": "float64",
         "type": "float"
        },
        {
         "name": "first",
         "rawType": "object",
         "type": "string"
        },
        {
         "name": "last",
         "rawType": "object",
         "type": "string"
        },
        {
         "name": "gender",
         "rawType": "object",
         "type": "string"
        },
        {
         "name": "street",
         "rawType": "object",
         "type": "string"
        },
        {
         "name": "city",
         "rawType": "object",
         "type": "string"
        },
        {
         "name": "state",
         "rawType": "object",
         "type": "string"
        },
        {
         "name": "zip",
         "rawType": "int64",
         "type": "integer"
        },
        {
         "name": "lat",
         "rawType": "float64",
         "type": "float"
        },
        {
         "name": "long",
         "rawType": "float64",
         "type": "float"
        },
        {
         "name": "city_pop",
         "rawType": "int64",
         "type": "integer"
        },
        {
         "name": "job",
         "rawType": "object",
         "type": "string"
        },
        {
         "name": "dob",
         "rawType": "datetime64[ns]",
         "type": "datetime"
        },
        {
         "name": "trans_num",
         "rawType": "object",
         "type": "string"
        },
        {
         "name": "unix_time",
         "rawType": "int64",
         "type": "integer"
        },
        {
         "name": "merch_lat",
         "rawType": "float64",
         "type": "float"
        },
        {
         "name": "merch_long",
         "rawType": "float64",
         "type": "float"
        },
        {
         "name": "is_fraud",
         "rawType": "int64",
         "type": "integer"
        },
        {
         "name": "trans_qtr",
         "rawType": "int32",
         "type": "integer"
        },
        {
         "name": "trans_month",
         "rawType": "int32",
         "type": "integer"
        },
        {
         "name": "trans_day",
         "rawType": "int32",
         "type": "integer"
        },
        {
         "name": "trans_day_of_week",
         "rawType": "int32",
         "type": "integer"
        },
        {
         "name": "trans_hour",
         "rawType": "int32",
         "type": "integer"
        },
        {
         "name": "trans_week_of_year",
         "rawType": "UInt32",
         "type": "integer"
        },
        {
         "name": "is_weekend",
         "rawType": "bool",
         "type": "boolean"
        },
        {
         "name": "trans_hour_sin",
         "rawType": "float64",
         "type": "float"
        },
        {
         "name": "trans_hour_cos",
         "rawType": "float64",
         "type": "float"
        },
        {
         "name": "trans_month_sin",
         "rawType": "float64",
         "type": "float"
        },
        {
         "name": "trans_month_cos",
         "rawType": "float64",
         "type": "float"
        },
        {
         "name": "trans_day_of_week_sin",
         "rawType": "float64",
         "type": "float"
        },
        {
         "name": "trans_day_of_week_cos",
         "rawType": "float64",
         "type": "float"
        },
        {
         "name": "age",
         "rawType": "int64",
         "type": "integer"
        }
       ],
       "ref": "c8f067b2-df6a-4851-9830-469505b21c03",
       "rows": [
        [
         "0",
         "0",
         "2019-01-01 00:00:18",
         "2703186189652095",
         "Rippin, Kub and Mann",
         "misc_net",
         "4.97",
         "Jennifer",
         "Banks",
         "F",
         "561 Perry Cove",
         "Moravian Falls",
         "NC",
         "28654",
         "36.0788",
         "-81.1781",
         "3495",
         "Psychologist, counselling",
         "1988-03-09 00:00:00",
         "0b242abb623afc578575680df30655b9",
         "1325376018",
         "36.011293",
         "-82.048315",
         "0",
         "1",
         "1",
         "1",
         "1",
         "0",
         "1",
         "False",
         "0.0",
         "1.0",
         "0.49999999999999994",
         "0.8660254037844387",
         "0.7818314824680298",
         "0.6234898018587336",
         "37"
        ],
        [
         "1",
         "1",
         "2019-01-01 00:00:44",
         "630423337322",
         "Heller, Gutmann and Zieme",
         "grocery_pos",
         "107.23",
         "Stephanie",
         "Gill",
         "F",
         "43039 Riley Greens Suite 393",
         "Orient",
         "WA",
         "99160",
         "48.8878",
         "-118.2105",
         "149",
         "Special educational needs teacher",
         "1978-06-21 00:00:00",
         "1f76529f8574734946361c461b024d99",
         "1325376044",
         "49.159046999999994",
         "-118.186462",
         "0",
         "1",
         "1",
         "1",
         "1",
         "0",
         "1",
         "False",
         "0.0",
         "1.0",
         "0.49999999999999994",
         "0.8660254037844387",
         "0.7818314824680298",
         "0.6234898018587336",
         "47"
        ],
        [
         "2",
         "2",
         "2019-01-01 00:00:51",
         "38859492057661",
         "Lind-Buckridge",
         "entertainment",
         "220.11",
         "Edward",
         "Sanchez",
         "M",
         "594 White Dale Suite 530",
         "Malad City",
         "ID",
         "83252",
         "42.1808",
         "-112.262",
         "4154",
         "Nature conservation officer",
         "1962-01-19 00:00:00",
         "a1a22d70485983eac12b5b88dad1cf95",
         "1325376051",
         "43.150704",
         "-112.154481",
         "0",
         "1",
         "1",
         "1",
         "1",
         "0",
         "1",
         "False",
         "0.0",
         "1.0",
         "0.49999999999999994",
         "0.8660254037844387",
         "0.7818314824680298",
         "0.6234898018587336",
         "63"
        ],
        [
         "3",
         "3",
         "2019-01-01 00:01:16",
         "3534093764340240",
         "Kutch, Hermiston and Farrell",
         "gas_transport",
         "45.0",
         "Jeremy",
         "White",
         "M",
         "9443 Cynthia Court Apt. 038",
         "Boulder",
         "MT",
         "59632",
         "46.2306",
         "-112.1138",
         "1939",
         "Patent attorney",
         "1967-01-12 00:00:00",
         "6b849c168bdad6f867558c3793159a81",
         "1325376076",
         "47.034331",
         "-112.561071",
         "0",
         "1",
         "1",
         "1",
         "1",
         "0",
         "1",
         "False",
         "0.0",
         "1.0",
         "0.49999999999999994",
         "0.8660254037844387",
         "0.7818314824680298",
         "0.6234898018587336",
         "58"
        ],
        [
         "4",
         "4",
         "2019-01-01 00:03:06",
         "375534208663984",
         "Keeling-Crist",
         "misc_pos",
         "41.96",
         "Tyler",
         "Garcia",
         "M",
         "408 Bradley Rest",
         "Doe Hill",
         "VA",
         "24433",
         "38.4207",
         "-79.4629",
         "99",
         "Dance movement psychotherapist",
         "1986-03-28 00:00:00",
         "a41d7549acf90789359a9aa5346dcb46",
         "1325376186",
         "38.674999",
         "-78.632459",
         "0",
         "1",
         "1",
         "1",
         "1",
         "0",
         "1",
         "False",
         "0.0",
         "1.0",
         "0.49999999999999994",
         "0.8660254037844387",
         "0.7818314824680298",
         "0.6234898018587336",
         "39"
        ]
       ],
       "shape": {
        "columns": 37,
        "rows": 5
       }
      },
      "text/html": [
       "<div>\n",
       "<style scoped>\n",
       "    .dataframe tbody tr th:only-of-type {\n",
       "        vertical-align: middle;\n",
       "    }\n",
       "\n",
       "    .dataframe tbody tr th {\n",
       "        vertical-align: top;\n",
       "    }\n",
       "\n",
       "    .dataframe thead th {\n",
       "        text-align: right;\n",
       "    }\n",
       "</style>\n",
       "<table border=\"1\" class=\"dataframe\">\n",
       "  <thead>\n",
       "    <tr style=\"text-align: right;\">\n",
       "      <th></th>\n",
       "      <th>Unnamed: 0</th>\n",
       "      <th>trans_date_trans_time</th>\n",
       "      <th>cc_num</th>\n",
       "      <th>merchant</th>\n",
       "      <th>category</th>\n",
       "      <th>amt</th>\n",
       "      <th>first</th>\n",
       "      <th>last</th>\n",
       "      <th>gender</th>\n",
       "      <th>street</th>\n",
       "      <th>...</th>\n",
       "      <th>trans_hour</th>\n",
       "      <th>trans_week_of_year</th>\n",
       "      <th>is_weekend</th>\n",
       "      <th>trans_hour_sin</th>\n",
       "      <th>trans_hour_cos</th>\n",
       "      <th>trans_month_sin</th>\n",
       "      <th>trans_month_cos</th>\n",
       "      <th>trans_day_of_week_sin</th>\n",
       "      <th>trans_day_of_week_cos</th>\n",
       "      <th>age</th>\n",
       "    </tr>\n",
       "  </thead>\n",
       "  <tbody>\n",
       "    <tr>\n",
       "      <th>0</th>\n",
       "      <td>0</td>\n",
       "      <td>2019-01-01 00:00:18</td>\n",
       "      <td>2703186189652095</td>\n",
       "      <td>Rippin, Kub and Mann</td>\n",
       "      <td>misc_net</td>\n",
       "      <td>4.97</td>\n",
       "      <td>Jennifer</td>\n",
       "      <td>Banks</td>\n",
       "      <td>F</td>\n",
       "      <td>561 Perry Cove</td>\n",
       "      <td>...</td>\n",
       "      <td>0</td>\n",
       "      <td>1</td>\n",
       "      <td>False</td>\n",
       "      <td>0.0</td>\n",
       "      <td>1.0</td>\n",
       "      <td>0.5</td>\n",
       "      <td>0.866025</td>\n",
       "      <td>0.781831</td>\n",
       "      <td>0.62349</td>\n",
       "      <td>37</td>\n",
       "    </tr>\n",
       "    <tr>\n",
       "      <th>1</th>\n",
       "      <td>1</td>\n",
       "      <td>2019-01-01 00:00:44</td>\n",
       "      <td>630423337322</td>\n",
       "      <td>Heller, Gutmann and Zieme</td>\n",
       "      <td>grocery_pos</td>\n",
       "      <td>107.23</td>\n",
       "      <td>Stephanie</td>\n",
       "      <td>Gill</td>\n",
       "      <td>F</td>\n",
       "      <td>43039 Riley Greens Suite 393</td>\n",
       "      <td>...</td>\n",
       "      <td>0</td>\n",
       "      <td>1</td>\n",
       "      <td>False</td>\n",
       "      <td>0.0</td>\n",
       "      <td>1.0</td>\n",
       "      <td>0.5</td>\n",
       "      <td>0.866025</td>\n",
       "      <td>0.781831</td>\n",
       "      <td>0.62349</td>\n",
       "      <td>47</td>\n",
       "    </tr>\n",
       "    <tr>\n",
       "      <th>2</th>\n",
       "      <td>2</td>\n",
       "      <td>2019-01-01 00:00:51</td>\n",
       "      <td>38859492057661</td>\n",
       "      <td>Lind-Buckridge</td>\n",
       "      <td>entertainment</td>\n",
       "      <td>220.11</td>\n",
       "      <td>Edward</td>\n",
       "      <td>Sanchez</td>\n",
       "      <td>M</td>\n",
       "      <td>594 White Dale Suite 530</td>\n",
       "      <td>...</td>\n",
       "      <td>0</td>\n",
       "      <td>1</td>\n",
       "      <td>False</td>\n",
       "      <td>0.0</td>\n",
       "      <td>1.0</td>\n",
       "      <td>0.5</td>\n",
       "      <td>0.866025</td>\n",
       "      <td>0.781831</td>\n",
       "      <td>0.62349</td>\n",
       "      <td>63</td>\n",
       "    </tr>\n",
       "    <tr>\n",
       "      <th>3</th>\n",
       "      <td>3</td>\n",
       "      <td>2019-01-01 00:01:16</td>\n",
       "      <td>3534093764340240</td>\n",
       "      <td>Kutch, Hermiston and Farrell</td>\n",
       "      <td>gas_transport</td>\n",
       "      <td>45.00</td>\n",
       "      <td>Jeremy</td>\n",
       "      <td>White</td>\n",
       "      <td>M</td>\n",
       "      <td>9443 Cynthia Court Apt. 038</td>\n",
       "      <td>...</td>\n",
       "      <td>0</td>\n",
       "      <td>1</td>\n",
       "      <td>False</td>\n",
       "      <td>0.0</td>\n",
       "      <td>1.0</td>\n",
       "      <td>0.5</td>\n",
       "      <td>0.866025</td>\n",
       "      <td>0.781831</td>\n",
       "      <td>0.62349</td>\n",
       "      <td>58</td>\n",
       "    </tr>\n",
       "    <tr>\n",
       "      <th>4</th>\n",
       "      <td>4</td>\n",
       "      <td>2019-01-01 00:03:06</td>\n",
       "      <td>375534208663984</td>\n",
       "      <td>Keeling-Crist</td>\n",
       "      <td>misc_pos</td>\n",
       "      <td>41.96</td>\n",
       "      <td>Tyler</td>\n",
       "      <td>Garcia</td>\n",
       "      <td>M</td>\n",
       "      <td>408 Bradley Rest</td>\n",
       "      <td>...</td>\n",
       "      <td>0</td>\n",
       "      <td>1</td>\n",
       "      <td>False</td>\n",
       "      <td>0.0</td>\n",
       "      <td>1.0</td>\n",
       "      <td>0.5</td>\n",
       "      <td>0.866025</td>\n",
       "      <td>0.781831</td>\n",
       "      <td>0.62349</td>\n",
       "      <td>39</td>\n",
       "    </tr>\n",
       "  </tbody>\n",
       "</table>\n",
       "<p>5 rows × 37 columns</p>\n",
       "</div>"
      ],
      "text/plain": [
       "   Unnamed: 0 trans_date_trans_time            cc_num  \\\n",
       "0           0   2019-01-01 00:00:18  2703186189652095   \n",
       "1           1   2019-01-01 00:00:44      630423337322   \n",
       "2           2   2019-01-01 00:00:51    38859492057661   \n",
       "3           3   2019-01-01 00:01:16  3534093764340240   \n",
       "4           4   2019-01-01 00:03:06   375534208663984   \n",
       "\n",
       "                       merchant       category     amt      first     last  \\\n",
       "0          Rippin, Kub and Mann       misc_net    4.97   Jennifer    Banks   \n",
       "1     Heller, Gutmann and Zieme    grocery_pos  107.23  Stephanie     Gill   \n",
       "2                Lind-Buckridge  entertainment  220.11     Edward  Sanchez   \n",
       "3  Kutch, Hermiston and Farrell  gas_transport   45.00     Jeremy    White   \n",
       "4                 Keeling-Crist       misc_pos   41.96      Tyler   Garcia   \n",
       "\n",
       "  gender                        street  ... trans_hour trans_week_of_year  \\\n",
       "0      F                561 Perry Cove  ...          0                  1   \n",
       "1      F  43039 Riley Greens Suite 393  ...          0                  1   \n",
       "2      M      594 White Dale Suite 530  ...          0                  1   \n",
       "3      M   9443 Cynthia Court Apt. 038  ...          0                  1   \n",
       "4      M              408 Bradley Rest  ...          0                  1   \n",
       "\n",
       "   is_weekend  trans_hour_sin  trans_hour_cos  trans_month_sin  \\\n",
       "0       False             0.0             1.0              0.5   \n",
       "1       False             0.0             1.0              0.5   \n",
       "2       False             0.0             1.0              0.5   \n",
       "3       False             0.0             1.0              0.5   \n",
       "4       False             0.0             1.0              0.5   \n",
       "\n",
       "  trans_month_cos trans_day_of_week_sin trans_day_of_week_cos  age  \n",
       "0        0.866025              0.781831               0.62349   37  \n",
       "1        0.866025              0.781831               0.62349   47  \n",
       "2        0.866025              0.781831               0.62349   63  \n",
       "3        0.866025              0.781831               0.62349   58  \n",
       "4        0.866025              0.781831               0.62349   39  \n",
       "\n",
       "[5 rows x 37 columns]"
      ]
     },
     "execution_count": 9,
     "metadata": {},
     "output_type": "execute_result"
    }
   ],
   "source": [
    "# Current date\n",
    "today = pd.Timestamp.today()\n",
    "\n",
    "# determine month, day of the week\n",
    "df['trans_qtr'] = df.trans_date_trans_time.dt.quarter\n",
    "df['trans_month'] = df.trans_date_trans_time.dt.month\n",
    "df['trans_day'] = df.trans_date_trans_time.dt.day\n",
    "df['trans_day_of_week'] = df.trans_date_trans_time.dt.dayofweek\n",
    "df['trans_hour'] = df['trans_date_trans_time'].dt.hour\n",
    "df['trans_week_of_year'] = df['trans_date_trans_time'].dt.isocalendar().week\n",
    "df['is_weekend'] = df['trans_day_of_week'].isin(['Saturday', 'Sunday'])\n",
    "\n",
    "# For cyclical features like month, day_of_week, hour_of_day, consider sine and cosine transformations to preserve their cyclical nature \n",
    "# (e.g., 23:00 is closer to 00:00 than to 12:00).\n",
    "# For example, you can create sine and cosine transformations for the hour of the day:\n",
    "df['trans_hour_sin'] = np.sin(2 * np.pi * df['trans_hour'].astype(int) / 24)\n",
    "df['trans_hour_cos'] = np.cos(2 * np.pi * df['trans_hour'].astype(int) / 24)\n",
    "\n",
    "df['trans_month_sin'] = np.sin(2 * np.pi * df['trans_month'].astype(int) / 12)\n",
    "df['trans_month_cos'] = np.cos(2 * np.pi * df['trans_month'].astype(int) / 12)\n",
    "\n",
    "df['trans_day_of_week_sin'] = np.sin(2 * np.pi * df['trans_day_of_week'].astype(int) / 7)\n",
    "df['trans_day_of_week_cos'] = np.cos(2 * np.pi * df['trans_day_of_week'].astype(int) / 7)\n",
    "\n",
    "# Calculate age\n",
    "df['age'] = df['dob'].apply(lambda x: today.year - x.year - ((today.month, today.day) < (x.month, x.day)))\n",
    "\n",
    "#\n",
    "df.head()"
   ]
  },
  {
   "cell_type": "markdown",
   "id": "99221099",
   "metadata": {},
   "source": [
    "### New Features"
   ]
  },
  {
   "cell_type": "code",
   "execution_count": 10,
   "id": "875d0e6c",
   "metadata": {},
   "outputs": [
    {
     "data": {
      "application/vnd.microsoft.datawrangler.viewer.v0+json": {
       "columns": [
        {
         "name": "index",
         "rawType": "int64",
         "type": "integer"
        },
        {
         "name": "Unnamed: 0",
         "rawType": "int64",
         "type": "integer"
        },
        {
         "name": "trans_date_trans_time",
         "rawType": "datetime64[ns]",
         "type": "datetime"
        },
        {
         "name": "cc_num",
         "rawType": "int64",
         "type": "integer"
        },
        {
         "name": "merchant",
         "rawType": "category",
         "type": "unknown"
        },
        {
         "name": "category",
         "rawType": "category",
         "type": "unknown"
        },
        {
         "name": "amt",
         "rawType": "float64",
         "type": "float"
        },
        {
         "name": "first",
         "rawType": "object",
         "type": "string"
        },
        {
         "name": "last",
         "rawType": "object",
         "type": "string"
        },
        {
         "name": "gender",
         "rawType": "category",
         "type": "unknown"
        },
        {
         "name": "street",
         "rawType": "object",
         "type": "string"
        },
        {
         "name": "city",
         "rawType": "category",
         "type": "unknown"
        },
        {
         "name": "state",
         "rawType": "category",
         "type": "unknown"
        },
        {
         "name": "zip",
         "rawType": "category",
         "type": "unknown"
        },
        {
         "name": "lat",
         "rawType": "float64",
         "type": "float"
        },
        {
         "name": "long",
         "rawType": "float64",
         "type": "float"
        },
        {
         "name": "city_pop",
         "rawType": "int64",
         "type": "integer"
        },
        {
         "name": "job",
         "rawType": "category",
         "type": "unknown"
        },
        {
         "name": "dob",
         "rawType": "datetime64[ns]",
         "type": "datetime"
        },
        {
         "name": "trans_num",
         "rawType": "object",
         "type": "string"
        },
        {
         "name": "unix_time",
         "rawType": "int64",
         "type": "integer"
        },
        {
         "name": "merch_lat",
         "rawType": "float64",
         "type": "float"
        },
        {
         "name": "merch_long",
         "rawType": "float64",
         "type": "float"
        },
        {
         "name": "is_fraud",
         "rawType": "category",
         "type": "unknown"
        },
        {
         "name": "trans_qtr",
         "rawType": "category",
         "type": "unknown"
        },
        {
         "name": "trans_month",
         "rawType": "category",
         "type": "unknown"
        },
        {
         "name": "trans_day",
         "rawType": "category",
         "type": "unknown"
        },
        {
         "name": "trans_day_of_week",
         "rawType": "category",
         "type": "unknown"
        },
        {
         "name": "trans_hour",
         "rawType": "category",
         "type": "unknown"
        },
        {
         "name": "trans_week_of_year",
         "rawType": "category",
         "type": "unknown"
        },
        {
         "name": "is_weekend",
         "rawType": "bool",
         "type": "boolean"
        },
        {
         "name": "trans_hour_sin",
         "rawType": "float64",
         "type": "float"
        },
        {
         "name": "trans_hour_cos",
         "rawType": "float64",
         "type": "float"
        },
        {
         "name": "trans_month_sin",
         "rawType": "float64",
         "type": "float"
        },
        {
         "name": "trans_month_cos",
         "rawType": "float64",
         "type": "float"
        },
        {
         "name": "trans_day_of_week_sin",
         "rawType": "float64",
         "type": "float"
        },
        {
         "name": "trans_day_of_week_cos",
         "rawType": "float64",
         "type": "float"
        },
        {
         "name": "age",
         "rawType": "int64",
         "type": "integer"
        },
        {
         "name": "industry",
         "rawType": "category",
         "type": "unknown"
        },
        {
         "name": "cc_network",
         "rawType": "category",
         "type": "unknown"
        },
        {
         "name": "store_distance",
         "rawType": "float64",
         "type": "float"
        },
        {
         "name": "amt_log",
         "rawType": "float64",
         "type": "float"
        }
       ],
       "ref": "61a9dfac-b7f3-4341-8b8e-45d93be6ddf0",
       "rows": [
        [
         "0",
         "0",
         "2019-01-01 00:00:18",
         "2703186189652095",
         "Rippin, Kub and Mann",
         "misc_net",
         "4.97",
         "Jennifer",
         "Banks",
         "F",
         "561 Perry Cove",
         "Moravian Falls",
         "NC",
         "28654",
         "36.0788",
         "-81.1781",
         "3495",
         "Psychologist, counselling",
         "1988-03-09 00:00:00",
         "0b242abb623afc578575680df30655b9",
         "1325376018",
         "36.011293",
         "-82.048315",
         "0",
         "1",
         "1",
         "1",
         "1",
         "0",
         "1",
         "False",
         "0.0",
         "1.0",
         "0.49999999999999994",
         "0.8660254037844387",
         "0.7818314824680298",
         "0.6234898018587336",
         "37",
         "Airlines & Financial",
         "Mastercard",
         "48.8383318796589",
         "1.7867469274045107"
        ],
        [
         "1",
         "1",
         "2019-01-01 00:00:44",
         "630423337322",
         "Heller, Gutmann and Zieme",
         "grocery_pos",
         "107.23",
         "Stephanie",
         "Gill",
         "F",
         "43039 Riley Greens Suite 393",
         "Orient",
         "WA",
         "99160",
         "48.8878",
         "-118.2105",
         "149",
         "Special educational needs teacher",
         "1978-06-21 00:00:00",
         "1f76529f8574734946361c461b024d99",
         "1325376044",
         "49.159046999999994",
         "-118.186462",
         "0",
         "1",
         "1",
         "1",
         "1",
         "0",
         "1",
         "False",
         "0.0",
         "1.0",
         "0.49999999999999994",
         "0.8660254037844387",
         "0.7818314824680298",
         "0.6234898018587336",
         "47",
         "Merchandising & Banking (e.g., Discover)",
         "Maestro",
         "18.77300141673363",
         "4.684258592307055"
        ],
        [
         "2",
         "2",
         "2019-01-01 00:00:51",
         "38859492057661",
         "Lind-Buckridge",
         "entertainment",
         "220.11",
         "Edward",
         "Sanchez",
         "M",
         "594 White Dale Suite 530",
         "Malad City",
         "ID",
         "83252",
         "42.1808",
         "-112.262",
         "4154",
         "Nature conservation officer",
         "1962-01-19 00:00:00",
         "a1a22d70485983eac12b5b88dad1cf95",
         "1325376051",
         "43.150704",
         "-112.154481",
         "0",
         "1",
         "1",
         "1",
         "1",
         "0",
         "1",
         "False",
         "0.0",
         "1.0",
         "0.49999999999999994",
         "0.8660254037844387",
         "0.7818314824680298",
         "0.6234898018587336",
         "63",
         "Travel & Entertainment (e.g., American Express, Diners Club)",
         "Diners Club",
         "67.23623484081212",
         "5.398660315244064"
        ],
        [
         "3",
         "3",
         "2019-01-01 00:01:16",
         "3534093764340240",
         "Kutch, Hermiston and Farrell",
         "gas_transport",
         "45.0",
         "Jeremy",
         "White",
         "M",
         "9443 Cynthia Court Apt. 038",
         "Boulder",
         "MT",
         "59632",
         "46.2306",
         "-112.1138",
         "1939",
         "Patent attorney",
         "1967-01-12 00:00:00",
         "6b849c168bdad6f867558c3793159a81",
         "1325376076",
         "47.034331",
         "-112.561071",
         "0",
         "1",
         "1",
         "1",
         "1",
         "0",
         "1",
         "False",
         "0.0",
         "1.0",
         "0.49999999999999994",
         "0.8660254037844387",
         "0.7818314824680298",
         "0.6234898018587336",
         "58",
         "Travel & Entertainment (e.g., American Express, Diners Club)",
         "JCB",
         "59.44867130369662",
         "3.828641396489095"
        ],
        [
         "4",
         "4",
         "2019-01-01 00:03:06",
         "375534208663984",
         "Keeling-Crist",
         "misc_pos",
         "41.96",
         "Tyler",
         "Garcia",
         "M",
         "408 Bradley Rest",
         "Doe Hill",
         "VA",
         "24433",
         "38.4207",
         "-79.4629",
         "99",
         "Dance movement psychotherapist",
         "1986-03-28 00:00:00",
         "a41d7549acf90789359a9aa5346dcb46",
         "1325376186",
         "38.674999",
         "-78.632459",
         "0",
         "1",
         "1",
         "1",
         "1",
         "0",
         "1",
         "False",
         "0.0",
         "1.0",
         "0.49999999999999994",
         "0.8660254037844387",
         "0.7818314824680298",
         "0.6234898018587336",
         "39",
         "Travel & Entertainment (e.g., American Express, Diners Club)",
         "American Express",
         "48.191592406201416",
         "3.7602694502006093"
        ]
       ],
       "shape": {
        "columns": 41,
        "rows": 5
       }
      },
      "text/html": [
       "<div>\n",
       "<style scoped>\n",
       "    .dataframe tbody tr th:only-of-type {\n",
       "        vertical-align: middle;\n",
       "    }\n",
       "\n",
       "    .dataframe tbody tr th {\n",
       "        vertical-align: top;\n",
       "    }\n",
       "\n",
       "    .dataframe thead th {\n",
       "        text-align: right;\n",
       "    }\n",
       "</style>\n",
       "<table border=\"1\" class=\"dataframe\">\n",
       "  <thead>\n",
       "    <tr style=\"text-align: right;\">\n",
       "      <th></th>\n",
       "      <th>Unnamed: 0</th>\n",
       "      <th>trans_date_trans_time</th>\n",
       "      <th>cc_num</th>\n",
       "      <th>merchant</th>\n",
       "      <th>category</th>\n",
       "      <th>amt</th>\n",
       "      <th>first</th>\n",
       "      <th>last</th>\n",
       "      <th>gender</th>\n",
       "      <th>street</th>\n",
       "      <th>...</th>\n",
       "      <th>trans_hour_cos</th>\n",
       "      <th>trans_month_sin</th>\n",
       "      <th>trans_month_cos</th>\n",
       "      <th>trans_day_of_week_sin</th>\n",
       "      <th>trans_day_of_week_cos</th>\n",
       "      <th>age</th>\n",
       "      <th>industry</th>\n",
       "      <th>cc_network</th>\n",
       "      <th>store_distance</th>\n",
       "      <th>amt_log</th>\n",
       "    </tr>\n",
       "  </thead>\n",
       "  <tbody>\n",
       "    <tr>\n",
       "      <th>0</th>\n",
       "      <td>0</td>\n",
       "      <td>2019-01-01 00:00:18</td>\n",
       "      <td>2703186189652095</td>\n",
       "      <td>Rippin, Kub and Mann</td>\n",
       "      <td>misc_net</td>\n",
       "      <td>4.97</td>\n",
       "      <td>Jennifer</td>\n",
       "      <td>Banks</td>\n",
       "      <td>F</td>\n",
       "      <td>561 Perry Cove</td>\n",
       "      <td>...</td>\n",
       "      <td>1.0</td>\n",
       "      <td>0.5</td>\n",
       "      <td>0.866025</td>\n",
       "      <td>0.781831</td>\n",
       "      <td>0.62349</td>\n",
       "      <td>37</td>\n",
       "      <td>Airlines &amp; Financial</td>\n",
       "      <td>Mastercard</td>\n",
       "      <td>48.838332</td>\n",
       "      <td>1.786747</td>\n",
       "    </tr>\n",
       "    <tr>\n",
       "      <th>1</th>\n",
       "      <td>1</td>\n",
       "      <td>2019-01-01 00:00:44</td>\n",
       "      <td>630423337322</td>\n",
       "      <td>Heller, Gutmann and Zieme</td>\n",
       "      <td>grocery_pos</td>\n",
       "      <td>107.23</td>\n",
       "      <td>Stephanie</td>\n",
       "      <td>Gill</td>\n",
       "      <td>F</td>\n",
       "      <td>43039 Riley Greens Suite 393</td>\n",
       "      <td>...</td>\n",
       "      <td>1.0</td>\n",
       "      <td>0.5</td>\n",
       "      <td>0.866025</td>\n",
       "      <td>0.781831</td>\n",
       "      <td>0.62349</td>\n",
       "      <td>47</td>\n",
       "      <td>Merchandising &amp; Banking (e.g., Discover)</td>\n",
       "      <td>Maestro</td>\n",
       "      <td>18.773001</td>\n",
       "      <td>4.684259</td>\n",
       "    </tr>\n",
       "    <tr>\n",
       "      <th>2</th>\n",
       "      <td>2</td>\n",
       "      <td>2019-01-01 00:00:51</td>\n",
       "      <td>38859492057661</td>\n",
       "      <td>Lind-Buckridge</td>\n",
       "      <td>entertainment</td>\n",
       "      <td>220.11</td>\n",
       "      <td>Edward</td>\n",
       "      <td>Sanchez</td>\n",
       "      <td>M</td>\n",
       "      <td>594 White Dale Suite 530</td>\n",
       "      <td>...</td>\n",
       "      <td>1.0</td>\n",
       "      <td>0.5</td>\n",
       "      <td>0.866025</td>\n",
       "      <td>0.781831</td>\n",
       "      <td>0.62349</td>\n",
       "      <td>63</td>\n",
       "      <td>Travel &amp; Entertainment (e.g., American Express...</td>\n",
       "      <td>Diners Club</td>\n",
       "      <td>67.236235</td>\n",
       "      <td>5.398660</td>\n",
       "    </tr>\n",
       "    <tr>\n",
       "      <th>3</th>\n",
       "      <td>3</td>\n",
       "      <td>2019-01-01 00:01:16</td>\n",
       "      <td>3534093764340240</td>\n",
       "      <td>Kutch, Hermiston and Farrell</td>\n",
       "      <td>gas_transport</td>\n",
       "      <td>45.00</td>\n",
       "      <td>Jeremy</td>\n",
       "      <td>White</td>\n",
       "      <td>M</td>\n",
       "      <td>9443 Cynthia Court Apt. 038</td>\n",
       "      <td>...</td>\n",
       "      <td>1.0</td>\n",
       "      <td>0.5</td>\n",
       "      <td>0.866025</td>\n",
       "      <td>0.781831</td>\n",
       "      <td>0.62349</td>\n",
       "      <td>58</td>\n",
       "      <td>Travel &amp; Entertainment (e.g., American Express...</td>\n",
       "      <td>JCB</td>\n",
       "      <td>59.448671</td>\n",
       "      <td>3.828641</td>\n",
       "    </tr>\n",
       "    <tr>\n",
       "      <th>4</th>\n",
       "      <td>4</td>\n",
       "      <td>2019-01-01 00:03:06</td>\n",
       "      <td>375534208663984</td>\n",
       "      <td>Keeling-Crist</td>\n",
       "      <td>misc_pos</td>\n",
       "      <td>41.96</td>\n",
       "      <td>Tyler</td>\n",
       "      <td>Garcia</td>\n",
       "      <td>M</td>\n",
       "      <td>408 Bradley Rest</td>\n",
       "      <td>...</td>\n",
       "      <td>1.0</td>\n",
       "      <td>0.5</td>\n",
       "      <td>0.866025</td>\n",
       "      <td>0.781831</td>\n",
       "      <td>0.62349</td>\n",
       "      <td>39</td>\n",
       "      <td>Travel &amp; Entertainment (e.g., American Express...</td>\n",
       "      <td>American Express</td>\n",
       "      <td>48.191592</td>\n",
       "      <td>3.760269</td>\n",
       "    </tr>\n",
       "  </tbody>\n",
       "</table>\n",
       "<p>5 rows × 41 columns</p>\n",
       "</div>"
      ],
      "text/plain": [
       "   Unnamed: 0 trans_date_trans_time            cc_num  \\\n",
       "0           0   2019-01-01 00:00:18  2703186189652095   \n",
       "1           1   2019-01-01 00:00:44      630423337322   \n",
       "2           2   2019-01-01 00:00:51    38859492057661   \n",
       "3           3   2019-01-01 00:01:16  3534093764340240   \n",
       "4           4   2019-01-01 00:03:06   375534208663984   \n",
       "\n",
       "                       merchant       category     amt      first     last  \\\n",
       "0          Rippin, Kub and Mann       misc_net    4.97   Jennifer    Banks   \n",
       "1     Heller, Gutmann and Zieme    grocery_pos  107.23  Stephanie     Gill   \n",
       "2                Lind-Buckridge  entertainment  220.11     Edward  Sanchez   \n",
       "3  Kutch, Hermiston and Farrell  gas_transport   45.00     Jeremy    White   \n",
       "4                 Keeling-Crist       misc_pos   41.96      Tyler   Garcia   \n",
       "\n",
       "  gender                        street  ... trans_hour_cos trans_month_sin  \\\n",
       "0      F                561 Perry Cove  ...            1.0             0.5   \n",
       "1      F  43039 Riley Greens Suite 393  ...            1.0             0.5   \n",
       "2      M      594 White Dale Suite 530  ...            1.0             0.5   \n",
       "3      M   9443 Cynthia Court Apt. 038  ...            1.0             0.5   \n",
       "4      M              408 Bradley Rest  ...            1.0             0.5   \n",
       "\n",
       "  trans_month_cos  trans_day_of_week_sin  trans_day_of_week_cos  age  \\\n",
       "0        0.866025               0.781831                0.62349   37   \n",
       "1        0.866025               0.781831                0.62349   47   \n",
       "2        0.866025               0.781831                0.62349   63   \n",
       "3        0.866025               0.781831                0.62349   58   \n",
       "4        0.866025               0.781831                0.62349   39   \n",
       "\n",
       "                                            industry        cc_network  \\\n",
       "0                               Airlines & Financial        Mastercard   \n",
       "1           Merchandising & Banking (e.g., Discover)           Maestro   \n",
       "2  Travel & Entertainment (e.g., American Express...       Diners Club   \n",
       "3  Travel & Entertainment (e.g., American Express...               JCB   \n",
       "4  Travel & Entertainment (e.g., American Express...  American Express   \n",
       "\n",
       "  store_distance   amt_log  \n",
       "0      48.838332  1.786747  \n",
       "1      18.773001  4.684259  \n",
       "2      67.236235  5.398660  \n",
       "3      59.448671  3.828641  \n",
       "4      48.191592  3.760269  \n",
       "\n",
       "[5 rows x 41 columns]"
      ]
     },
     "execution_count": 10,
     "metadata": {},
     "output_type": "execute_result"
    }
   ],
   "source": [
    "# Create a mapping for industry identifier\n",
    "mii_to_industry = {\n",
    "    '1': 'Airlines',\n",
    "    '2': 'Airlines & Financial',\n",
    "    '3': 'Travel & Entertainment (e.g., American Express, Diners Club)',\n",
    "    '4': 'Banking & Financial (e.g., Visa)',\n",
    "    '5': 'Banking & Financial (e.g., Mastercard)',\n",
    "    '6': 'Merchandising & Banking (e.g., Discover)',\n",
    "    '7': 'Petroleum',\n",
    "    '8': 'Healthcare & Telecommunications',\n",
    "    '9': 'National Assignment / Other'\n",
    "}\n",
    "\n",
    "# apply lamda function to map first digit of cc_num to industry\n",
    "df['industry'] = df['cc_num'].apply(lambda x: u.map_first_digit_to_value(x, mapping_dict=mii_to_industry))\n",
    "\n",
    "# determe credit card network\n",
    "df['cc_network'] = df['cc_num'].apply(lambda x: u.get_credit_card_network(str(x)))\n",
    "\n",
    "# determine store distance\n",
    "df['store_distance'] = df.apply(\n",
    "    lambda x: u.haversine_distance_calc(x['lat'], x['long'], x['merch_lat'], x['merch_long']),\n",
    "    axis=1\n",
    ")\n",
    "\n",
    "# convert amount to log scale\n",
    "df['amt_log'] = np.log1p(df['amt'])  # Using log1p\n",
    "\n",
    "# Convert 'is_fraud' to a numeric type (int or float)\n",
    "df['is_fraud'] = df['is_fraud'].astype(int)  # or float, depending on your data\n",
    "\n",
    "\n",
    "# Define Non-ordered categorical columns\n",
    "cat_cols = ['merchant', 'category', 'gender', 'city', 'state', 'zip', 'job', 'is_fraud', 'trans_qtr', 'trans_month', 'trans_day',  \n",
    "            'trans_day_of_week', 'trans_hour', 'trans_week_of_year', 'industry', 'cc_network']\n",
    "df[cat_cols] = df[cat_cols].astype('category')\n",
    "\n",
    "\n",
    "# Display the first few rows of the updated DataFrame\n",
    "df.head()"
   ]
  },
  {
   "cell_type": "code",
   "execution_count": 11,
   "id": "733af819",
   "metadata": {},
   "outputs": [
    {
     "data": {
      "application/vnd.microsoft.datawrangler.viewer.v0+json": {
       "columns": [
        {
         "name": "index",
         "rawType": "int64",
         "type": "integer"
        },
        {
         "name": "Unnamed: 0",
         "rawType": "int64",
         "type": "integer"
        },
        {
         "name": "trans_date_trans_time",
         "rawType": "datetime64[ns]",
         "type": "datetime"
        },
        {
         "name": "cc_num",
         "rawType": "int64",
         "type": "integer"
        },
        {
         "name": "merchant",
         "rawType": "category",
         "type": "unknown"
        },
        {
         "name": "category",
         "rawType": "category",
         "type": "unknown"
        },
        {
         "name": "amt",
         "rawType": "float64",
         "type": "float"
        },
        {
         "name": "first",
         "rawType": "object",
         "type": "string"
        },
        {
         "name": "last",
         "rawType": "object",
         "type": "string"
        },
        {
         "name": "gender",
         "rawType": "category",
         "type": "unknown"
        },
        {
         "name": "street",
         "rawType": "object",
         "type": "string"
        },
        {
         "name": "city",
         "rawType": "category",
         "type": "unknown"
        },
        {
         "name": "state",
         "rawType": "category",
         "type": "unknown"
        },
        {
         "name": "zip",
         "rawType": "category",
         "type": "unknown"
        },
        {
         "name": "lat",
         "rawType": "float64",
         "type": "float"
        },
        {
         "name": "long",
         "rawType": "float64",
         "type": "float"
        },
        {
         "name": "city_pop",
         "rawType": "int64",
         "type": "integer"
        },
        {
         "name": "job",
         "rawType": "category",
         "type": "unknown"
        },
        {
         "name": "dob",
         "rawType": "datetime64[ns]",
         "type": "datetime"
        },
        {
         "name": "trans_num",
         "rawType": "object",
         "type": "string"
        },
        {
         "name": "unix_time",
         "rawType": "int64",
         "type": "integer"
        },
        {
         "name": "merch_lat",
         "rawType": "float64",
         "type": "float"
        },
        {
         "name": "merch_long",
         "rawType": "float64",
         "type": "float"
        },
        {
         "name": "is_fraud",
         "rawType": "category",
         "type": "unknown"
        },
        {
         "name": "trans_qtr",
         "rawType": "category",
         "type": "unknown"
        },
        {
         "name": "trans_month",
         "rawType": "category",
         "type": "unknown"
        },
        {
         "name": "trans_day",
         "rawType": "category",
         "type": "unknown"
        },
        {
         "name": "trans_day_of_week",
         "rawType": "category",
         "type": "unknown"
        },
        {
         "name": "trans_hour",
         "rawType": "category",
         "type": "unknown"
        },
        {
         "name": "trans_week_of_year",
         "rawType": "category",
         "type": "unknown"
        },
        {
         "name": "is_weekend",
         "rawType": "bool",
         "type": "boolean"
        },
        {
         "name": "trans_hour_sin",
         "rawType": "float64",
         "type": "float"
        },
        {
         "name": "trans_hour_cos",
         "rawType": "float64",
         "type": "float"
        },
        {
         "name": "trans_month_sin",
         "rawType": "float64",
         "type": "float"
        },
        {
         "name": "trans_month_cos",
         "rawType": "float64",
         "type": "float"
        },
        {
         "name": "trans_day_of_week_sin",
         "rawType": "float64",
         "type": "float"
        },
        {
         "name": "trans_day_of_week_cos",
         "rawType": "float64",
         "type": "float"
        },
        {
         "name": "age",
         "rawType": "int64",
         "type": "integer"
        },
        {
         "name": "industry",
         "rawType": "category",
         "type": "unknown"
        },
        {
         "name": "cc_network",
         "rawType": "category",
         "type": "unknown"
        },
        {
         "name": "store_distance",
         "rawType": "float64",
         "type": "float"
        },
        {
         "name": "amt_log",
         "rawType": "float64",
         "type": "float"
        }
       ],
       "ref": "399b3759-7348-4e6e-b66c-6259648c23eb",
       "rows": [
        [
         "0",
         "0",
         "2019-01-01 00:00:18",
         "2703186189652095",
         "Rippin, Kub and Mann",
         "misc_net",
         "4.97",
         "Jennifer",
         "Banks",
         "F",
         "561 Perry Cove",
         "Moravian Falls",
         "NC",
         "28654",
         "36.0788",
         "-81.1781",
         "3495",
         "Psychologist, counselling",
         "1988-03-09 00:00:00",
         "0b242abb623afc578575680df30655b9",
         "1325376018",
         "36.011293",
         "-82.048315",
         "0",
         "1",
         "1",
         "1",
         "1",
         "0",
         "1",
         "False",
         "0.0",
         "1.0",
         "0.49999999999999994",
         "0.8660254037844387",
         "0.7818314824680298",
         "0.6234898018587336",
         "37",
         "Airlines & Financial",
         "Mastercard",
         "48.8383318796589",
         "1.7867469274045107"
        ],
        [
         "1",
         "1",
         "2019-01-01 00:00:44",
         "630423337322",
         "Heller, Gutmann and Zieme",
         "grocery_pos",
         "107.23",
         "Stephanie",
         "Gill",
         "F",
         "43039 Riley Greens Suite 393",
         "Orient",
         "WA",
         "99160",
         "48.8878",
         "-118.2105",
         "149",
         "Special educational needs teacher",
         "1978-06-21 00:00:00",
         "1f76529f8574734946361c461b024d99",
         "1325376044",
         "49.159046999999994",
         "-118.186462",
         "0",
         "1",
         "1",
         "1",
         "1",
         "0",
         "1",
         "False",
         "0.0",
         "1.0",
         "0.49999999999999994",
         "0.8660254037844387",
         "0.7818314824680298",
         "0.6234898018587336",
         "47",
         "Merchandising & Banking (e.g., Discover)",
         "Maestro",
         "18.77300141673363",
         "4.684258592307055"
        ],
        [
         "2",
         "2",
         "2019-01-01 00:00:51",
         "38859492057661",
         "Lind-Buckridge",
         "entertainment",
         "220.11",
         "Edward",
         "Sanchez",
         "M",
         "594 White Dale Suite 530",
         "Malad City",
         "ID",
         "83252",
         "42.1808",
         "-112.262",
         "4154",
         "Nature conservation officer",
         "1962-01-19 00:00:00",
         "a1a22d70485983eac12b5b88dad1cf95",
         "1325376051",
         "43.150704",
         "-112.154481",
         "0",
         "1",
         "1",
         "1",
         "1",
         "0",
         "1",
         "False",
         "0.0",
         "1.0",
         "0.49999999999999994",
         "0.8660254037844387",
         "0.7818314824680298",
         "0.6234898018587336",
         "63",
         "Travel & Entertainment (e.g., American Express, Diners Club)",
         "Diners Club",
         "67.23623484081212",
         "5.398660315244064"
        ],
        [
         "3",
         "3",
         "2019-01-01 00:01:16",
         "3534093764340240",
         "Kutch, Hermiston and Farrell",
         "gas_transport",
         "45.0",
         "Jeremy",
         "White",
         "M",
         "9443 Cynthia Court Apt. 038",
         "Boulder",
         "MT",
         "59632",
         "46.2306",
         "-112.1138",
         "1939",
         "Patent attorney",
         "1967-01-12 00:00:00",
         "6b849c168bdad6f867558c3793159a81",
         "1325376076",
         "47.034331",
         "-112.561071",
         "0",
         "1",
         "1",
         "1",
         "1",
         "0",
         "1",
         "False",
         "0.0",
         "1.0",
         "0.49999999999999994",
         "0.8660254037844387",
         "0.7818314824680298",
         "0.6234898018587336",
         "58",
         "Travel & Entertainment (e.g., American Express, Diners Club)",
         "JCB",
         "59.44867130369662",
         "3.828641396489095"
        ],
        [
         "4",
         "4",
         "2019-01-01 00:03:06",
         "375534208663984",
         "Keeling-Crist",
         "misc_pos",
         "41.96",
         "Tyler",
         "Garcia",
         "M",
         "408 Bradley Rest",
         "Doe Hill",
         "VA",
         "24433",
         "38.4207",
         "-79.4629",
         "99",
         "Dance movement psychotherapist",
         "1986-03-28 00:00:00",
         "a41d7549acf90789359a9aa5346dcb46",
         "1325376186",
         "38.674999",
         "-78.632459",
         "0",
         "1",
         "1",
         "1",
         "1",
         "0",
         "1",
         "False",
         "0.0",
         "1.0",
         "0.49999999999999994",
         "0.8660254037844387",
         "0.7818314824680298",
         "0.6234898018587336",
         "39",
         "Travel & Entertainment (e.g., American Express, Diners Club)",
         "American Express",
         "48.191592406201416",
         "3.7602694502006093"
        ]
       ],
       "shape": {
        "columns": 41,
        "rows": 5
       }
      },
      "text/html": [
       "<div>\n",
       "<style scoped>\n",
       "    .dataframe tbody tr th:only-of-type {\n",
       "        vertical-align: middle;\n",
       "    }\n",
       "\n",
       "    .dataframe tbody tr th {\n",
       "        vertical-align: top;\n",
       "    }\n",
       "\n",
       "    .dataframe thead th {\n",
       "        text-align: right;\n",
       "    }\n",
       "</style>\n",
       "<table border=\"1\" class=\"dataframe\">\n",
       "  <thead>\n",
       "    <tr style=\"text-align: right;\">\n",
       "      <th></th>\n",
       "      <th>Unnamed: 0</th>\n",
       "      <th>trans_date_trans_time</th>\n",
       "      <th>cc_num</th>\n",
       "      <th>merchant</th>\n",
       "      <th>category</th>\n",
       "      <th>amt</th>\n",
       "      <th>first</th>\n",
       "      <th>last</th>\n",
       "      <th>gender</th>\n",
       "      <th>street</th>\n",
       "      <th>...</th>\n",
       "      <th>trans_hour_cos</th>\n",
       "      <th>trans_month_sin</th>\n",
       "      <th>trans_month_cos</th>\n",
       "      <th>trans_day_of_week_sin</th>\n",
       "      <th>trans_day_of_week_cos</th>\n",
       "      <th>age</th>\n",
       "      <th>industry</th>\n",
       "      <th>cc_network</th>\n",
       "      <th>store_distance</th>\n",
       "      <th>amt_log</th>\n",
       "    </tr>\n",
       "  </thead>\n",
       "  <tbody>\n",
       "    <tr>\n",
       "      <th>0</th>\n",
       "      <td>0</td>\n",
       "      <td>2019-01-01 00:00:18</td>\n",
       "      <td>2703186189652095</td>\n",
       "      <td>Rippin, Kub and Mann</td>\n",
       "      <td>misc_net</td>\n",
       "      <td>4.97</td>\n",
       "      <td>Jennifer</td>\n",
       "      <td>Banks</td>\n",
       "      <td>F</td>\n",
       "      <td>561 Perry Cove</td>\n",
       "      <td>...</td>\n",
       "      <td>1.0</td>\n",
       "      <td>0.5</td>\n",
       "      <td>0.866025</td>\n",
       "      <td>0.781831</td>\n",
       "      <td>0.62349</td>\n",
       "      <td>37</td>\n",
       "      <td>Airlines &amp; Financial</td>\n",
       "      <td>Mastercard</td>\n",
       "      <td>48.838332</td>\n",
       "      <td>1.786747</td>\n",
       "    </tr>\n",
       "    <tr>\n",
       "      <th>1</th>\n",
       "      <td>1</td>\n",
       "      <td>2019-01-01 00:00:44</td>\n",
       "      <td>630423337322</td>\n",
       "      <td>Heller, Gutmann and Zieme</td>\n",
       "      <td>grocery_pos</td>\n",
       "      <td>107.23</td>\n",
       "      <td>Stephanie</td>\n",
       "      <td>Gill</td>\n",
       "      <td>F</td>\n",
       "      <td>43039 Riley Greens Suite 393</td>\n",
       "      <td>...</td>\n",
       "      <td>1.0</td>\n",
       "      <td>0.5</td>\n",
       "      <td>0.866025</td>\n",
       "      <td>0.781831</td>\n",
       "      <td>0.62349</td>\n",
       "      <td>47</td>\n",
       "      <td>Merchandising &amp; Banking (e.g., Discover)</td>\n",
       "      <td>Maestro</td>\n",
       "      <td>18.773001</td>\n",
       "      <td>4.684259</td>\n",
       "    </tr>\n",
       "    <tr>\n",
       "      <th>2</th>\n",
       "      <td>2</td>\n",
       "      <td>2019-01-01 00:00:51</td>\n",
       "      <td>38859492057661</td>\n",
       "      <td>Lind-Buckridge</td>\n",
       "      <td>entertainment</td>\n",
       "      <td>220.11</td>\n",
       "      <td>Edward</td>\n",
       "      <td>Sanchez</td>\n",
       "      <td>M</td>\n",
       "      <td>594 White Dale Suite 530</td>\n",
       "      <td>...</td>\n",
       "      <td>1.0</td>\n",
       "      <td>0.5</td>\n",
       "      <td>0.866025</td>\n",
       "      <td>0.781831</td>\n",
       "      <td>0.62349</td>\n",
       "      <td>63</td>\n",
       "      <td>Travel &amp; Entertainment (e.g., American Express...</td>\n",
       "      <td>Diners Club</td>\n",
       "      <td>67.236235</td>\n",
       "      <td>5.398660</td>\n",
       "    </tr>\n",
       "    <tr>\n",
       "      <th>3</th>\n",
       "      <td>3</td>\n",
       "      <td>2019-01-01 00:01:16</td>\n",
       "      <td>3534093764340240</td>\n",
       "      <td>Kutch, Hermiston and Farrell</td>\n",
       "      <td>gas_transport</td>\n",
       "      <td>45.00</td>\n",
       "      <td>Jeremy</td>\n",
       "      <td>White</td>\n",
       "      <td>M</td>\n",
       "      <td>9443 Cynthia Court Apt. 038</td>\n",
       "      <td>...</td>\n",
       "      <td>1.0</td>\n",
       "      <td>0.5</td>\n",
       "      <td>0.866025</td>\n",
       "      <td>0.781831</td>\n",
       "      <td>0.62349</td>\n",
       "      <td>58</td>\n",
       "      <td>Travel &amp; Entertainment (e.g., American Express...</td>\n",
       "      <td>JCB</td>\n",
       "      <td>59.448671</td>\n",
       "      <td>3.828641</td>\n",
       "    </tr>\n",
       "    <tr>\n",
       "      <th>4</th>\n",
       "      <td>4</td>\n",
       "      <td>2019-01-01 00:03:06</td>\n",
       "      <td>375534208663984</td>\n",
       "      <td>Keeling-Crist</td>\n",
       "      <td>misc_pos</td>\n",
       "      <td>41.96</td>\n",
       "      <td>Tyler</td>\n",
       "      <td>Garcia</td>\n",
       "      <td>M</td>\n",
       "      <td>408 Bradley Rest</td>\n",
       "      <td>...</td>\n",
       "      <td>1.0</td>\n",
       "      <td>0.5</td>\n",
       "      <td>0.866025</td>\n",
       "      <td>0.781831</td>\n",
       "      <td>0.62349</td>\n",
       "      <td>39</td>\n",
       "      <td>Travel &amp; Entertainment (e.g., American Express...</td>\n",
       "      <td>American Express</td>\n",
       "      <td>48.191592</td>\n",
       "      <td>3.760269</td>\n",
       "    </tr>\n",
       "  </tbody>\n",
       "</table>\n",
       "<p>5 rows × 41 columns</p>\n",
       "</div>"
      ],
      "text/plain": [
       "   Unnamed: 0 trans_date_trans_time            cc_num  \\\n",
       "0           0   2019-01-01 00:00:18  2703186189652095   \n",
       "1           1   2019-01-01 00:00:44      630423337322   \n",
       "2           2   2019-01-01 00:00:51    38859492057661   \n",
       "3           3   2019-01-01 00:01:16  3534093764340240   \n",
       "4           4   2019-01-01 00:03:06   375534208663984   \n",
       "\n",
       "                       merchant       category     amt      first     last  \\\n",
       "0          Rippin, Kub and Mann       misc_net    4.97   Jennifer    Banks   \n",
       "1     Heller, Gutmann and Zieme    grocery_pos  107.23  Stephanie     Gill   \n",
       "2                Lind-Buckridge  entertainment  220.11     Edward  Sanchez   \n",
       "3  Kutch, Hermiston and Farrell  gas_transport   45.00     Jeremy    White   \n",
       "4                 Keeling-Crist       misc_pos   41.96      Tyler   Garcia   \n",
       "\n",
       "  gender                        street  ... trans_hour_cos trans_month_sin  \\\n",
       "0      F                561 Perry Cove  ...            1.0             0.5   \n",
       "1      F  43039 Riley Greens Suite 393  ...            1.0             0.5   \n",
       "2      M      594 White Dale Suite 530  ...            1.0             0.5   \n",
       "3      M   9443 Cynthia Court Apt. 038  ...            1.0             0.5   \n",
       "4      M              408 Bradley Rest  ...            1.0             0.5   \n",
       "\n",
       "  trans_month_cos  trans_day_of_week_sin  trans_day_of_week_cos  age  \\\n",
       "0        0.866025               0.781831                0.62349   37   \n",
       "1        0.866025               0.781831                0.62349   47   \n",
       "2        0.866025               0.781831                0.62349   63   \n",
       "3        0.866025               0.781831                0.62349   58   \n",
       "4        0.866025               0.781831                0.62349   39   \n",
       "\n",
       "                                            industry        cc_network  \\\n",
       "0                               Airlines & Financial        Mastercard   \n",
       "1           Merchandising & Banking (e.g., Discover)           Maestro   \n",
       "2  Travel & Entertainment (e.g., American Express...       Diners Club   \n",
       "3  Travel & Entertainment (e.g., American Express...               JCB   \n",
       "4  Travel & Entertainment (e.g., American Express...  American Express   \n",
       "\n",
       "  store_distance   amt_log  \n",
       "0      48.838332  1.786747  \n",
       "1      18.773001  4.684259  \n",
       "2      67.236235  5.398660  \n",
       "3      59.448671  3.828641  \n",
       "4      48.191592  3.760269  \n",
       "\n",
       "[5 rows x 41 columns]"
      ]
     },
     "execution_count": 11,
     "metadata": {},
     "output_type": "execute_result"
    }
   ],
   "source": [
    "df.head()"
   ]
  },
  {
   "cell_type": "code",
   "execution_count": null,
   "id": "477ac6bb",
   "metadata": {},
   "outputs": [],
   "source": []
  },
  {
   "cell_type": "markdown",
   "id": "f2d9cbd9",
   "metadata": {},
   "source": [
    "## Visualization"
   ]
  },
  {
   "cell_type": "code",
   "execution_count": 12,
   "id": "b1457675",
   "metadata": {},
   "outputs": [
    {
     "name": "stdout",
     "output_type": "stream",
     "text": [
      "--- Chi-Square Test between 'trans_hour' and 'is_fraud' ---\n",
      "Contingency Table (Observed):\n",
      "is_fraud    0 (count)  1 (count)  0 (%)  1 (%)\n",
      "trans_hour                                    \n",
      "0               59832        823   3.25   8.53\n",
      "1               60503        827   3.28   8.57\n",
      "2               60003        793   3.26   8.22\n",
      "3               60165        803   3.26   8.32\n",
      "4               59877         61   3.25   0.63\n",
      "5               60008         80   3.26   0.83\n",
      "6               60352         54   3.28   0.56\n",
      "7               60229         72   3.27   0.75\n",
      "8               60439         59   3.28   0.61\n",
      "9               60170         61   3.27   0.63\n",
      "10              60268         52   3.27   0.54\n",
      "11              60111         59   3.26   0.61\n",
      "12              93210         84   5.06   0.87\n",
      "13              93398         94   5.07   0.97\n",
      "14              92989        100   5.05   1.04\n",
      "15              93339        100   5.07   1.04\n",
      "16              94192         97   5.11   1.01\n",
      "17              93420         94   5.07   0.97\n",
      "18              93941        111   5.10   1.15\n",
      "19              93328        105   5.06   1.09\n",
      "20              92983         98   5.05   1.02\n",
      "21              93637        101   5.08   1.05\n",
      "22              92889       2481   5.04  25.71\n",
      "23              93460       2442   5.07  25.30\n",
      "\n",
      "Expected Frequencies:\n",
      "is_fraud               0           1\n",
      "trans_hour                          \n",
      "0           60338.986557  316.013443\n",
      "1           61010.469797  319.530203\n",
      "2           60479.251945  316.748055\n",
      "3           60650.355823  317.644177\n",
      "4           59625.722138  312.277862\n",
      "5           59774.940636  313.059364\n",
      "6           60091.283851  314.716149\n",
      "7           59986.830903  314.169097\n",
      "8           60182.804530  315.195470\n",
      "9           59917.195604  313.804396\n",
      "10          60005.731912  314.268088\n",
      "11          59856.513415  313.486585\n",
      "12          92807.936887  486.063113\n",
      "13          93004.905304  487.094696\n",
      "14          92604.004940  484.995060\n",
      "15          92952.181435  486.818565\n",
      "16          93797.752922  491.247078\n",
      "17          93026.790684  487.209316\n",
      "18          93561.987696  490.012304\n",
      "19          92946.212695  486.787305\n",
      "20          92596.046620  484.953380\n",
      "21          93249.623641  488.376359\n",
      "22          94873.120897  496.879103\n",
      "23          95402.349169  499.650831\n",
      "\n",
      "Chi-square Statistic = 23393.3910\n",
      "Degrees of Freedom   = 23\n",
      "P-value              = 0.0000\n",
      "➡️ Statistically significant association (Reject Null Hypothesis)\n"
     ]
    },
    {
     "data": {
      "image/png": "[encoded data removed]",
      "text/plain": [
       "<Figure size 1000x600 with 1 Axes>"
      ]
     },
     "metadata": {},
     "output_type": "display_data"
    }
   ],
   "source": [
    "# Perform Chi-Square Test\n",
    "contingency_table_percent = st.chi_square_test(df, 'trans_hour', 'is_fraud')\n",
    "contingency_table_percent.plot(\n",
    "    kind='bar',\n",
    "    stacked=True,\n",
    "    figsize=(10, 6),\n",
    "    color=['#4c72b0', '#dd8452']  # Optional: custom colors for clarity\n",
    ")\n",
    "\n",
    "plt.ylabel('Percentage')\n",
    "plt.xlabel('Hour')\n",
    "plt.title('Percentage of Transactions by Hour and Fraud Status')\n",
    "plt.legend(['Not Fraud', 'Fraud'], title='Is Fraud')\n",
    "plt.xticks(rotation=0, ha='right')\n",
    "plt.tight_layout()\n",
    "plt.show()\n"
   ]
  },
  {
   "cell_type": "markdown",
   "id": "74a5678c",
   "metadata": {},
   "source": [
    "#### Summary\n",
    "- The Chi-Square test provides strong statistical evidence to conclude that there is a significant association between the hour of a transaction and whether or not it is fraudulent.\n",
    "- Fraudulent transactions are disproportionately higher during late-night and early-morning hours (00-03 and especially 22-23). For instance, 25.71% of all fraudulent transactions occur at 22:00, and 25.30% at 23:00, even though these hours account for only about 5% of non-fraudulent transactions.\n",
    "- Conversely, daytime hours (roughly 04:00 to 21:00) generally see a lower percentage of fraudulent transactions relative to non-fraudulent ones."
   ]
  },
  {
   "cell_type": "code",
   "execution_count": 13,
   "id": "970e0230",
   "metadata": {},
   "outputs": [
    {
     "name": "stdout",
     "output_type": "stream",
     "text": [
      "--- Chi-Square Test between 'trans_day_of_week' and 'is_fraud' ---\n",
      "Contingency Table (Observed):\n",
      "is_fraud           0 (count)  1 (count)  0 (%)  1 (%)\n",
      "trans_day_of_week                                    \n",
      "0                     367934       1484  19.97  15.38\n",
      "1                     269074       1266  14.60  13.12\n",
      "2                     182788       1125   9.92  11.66\n",
      "3                     205424       1317  11.15  13.65\n",
      "4                     213702       1376  11.60  14.26\n",
      "5                     261734       1493  14.20  15.47\n",
      "6                     342087       1590  18.56  16.47\n",
      "\n",
      "Expected Frequencies:\n",
      "is_fraud                       0            1\n",
      "trans_day_of_week                            \n",
      "0                  367493.326784  1924.673216\n",
      "1                  268931.524622  1408.475378\n",
      "2                  182954.810564   958.189436\n",
      "3                  205663.876348  1077.123652\n",
      "4                  213957.440455  1120.559545\n",
      "5                  261855.583456  1371.416544\n",
      "6                  341886.437772  1790.562228\n",
      "\n",
      "Chi-square Statistic = 290.7580\n",
      "Degrees of Freedom   = 6\n",
      "P-value              = 0.0000\n",
      "➡️ Statistically significant association (Reject Null Hypothesis)\n"
     ]
    },
    {
     "data": {
      "image/png": "[encoded data removed]",
      "text/plain": [
       "<Figure size 1000x600 with 1 Axes>"
      ]
     },
     "metadata": {},
     "output_type": "display_data"
    }
   ],
   "source": [
    "# Perform Chi-Square Test\n",
    "contingency_table_percent = st.chi_square_test(df, 'trans_day_of_week', 'is_fraud')\n",
    "contingency_table_percent.plot(\n",
    "    kind='bar',\n",
    "    stacked=True,\n",
    "    figsize=(10, 6),\n",
    "    color=['#4c72b0', '#dd8452']  # Optional: custom colors for clarity\n",
    ")\n",
    "\n",
    "plt.ylabel('Percentage')\n",
    "plt.xlabel('Day of the Week')\n",
    "plt.title('Percentage of Transactions by Day and Fraud Status')\n",
    "plt.legend(['Not Fraud', 'Fraud'], title='Is Fraud')\n",
    "plt.xticks(rotation=0, ha='right')\n",
    "plt.tight_layout()\n",
    "plt.show()"
   ]
  },
  {
   "cell_type": "markdown",
   "id": "98c6a847",
   "metadata": {},
   "source": [
    "#### Summary\n",
    "\n",
    "- There is a statistically significant relationship between the day of the week and whether a transaction is fraudulent.\n",
    "- This statistical significance supports the observation that fraudulent activity tends to be more concentrated toward the end of the week.\n",
    "    - Thursday and Friday have a higher share of fraudulent transactions (13.65% and 14.26% respectively) compared to their share of non-fraudulent transactions (11.15% and 11.60%). This suggests an elevated risk on these days.\n",
    "    - Monday and Sunday show a lower share of fraudulent transactions (15.38% and 16.47%) relative to their non-fraudulent volume (19.97% and 18.56%), indicating a comparatively lower risk.\n",
    "    - Saturday fraud is roughly proportionate to its transaction volume, with its share of fraudulent transactions (15.47%) being very close to its share of non-fraudulent transactions (14.20%).\n",
    "- Fraudulent activity tends to be more concentrated toward the end of the week, particularly on Thursday and Friday. This could reflect the behavioral patterns of fraudsters, who may exploit the end-of-week rush or reduced oversight. "
   ]
  },
  {
   "cell_type": "code",
   "execution_count": 14,
   "id": "6380617a",
   "metadata": {},
   "outputs": [
    {
     "name": "stdout",
     "output_type": "stream",
     "text": [
      "--- Chi-Square Test between 'trans_month' and 'is_fraud' ---\n",
      "Contingency Table (Observed):\n",
      "is_fraud     0 (count)  1 (count)  0 (%)  1 (%)\n",
      "trans_month                                    \n",
      "1               103878        849   5.64   8.80\n",
      "2                96804        853   5.25   8.84\n",
      "3               142851        938   7.75   9.72\n",
      "4               134292        678   7.29   7.03\n",
      "5               145940        935   7.92   9.69\n",
      "6               173048        821   9.39   8.51\n",
      "7               171792        652   9.32   6.76\n",
      "8               175321        797   9.51   8.26\n",
      "9               139427        758   7.57   7.85\n",
      "10              137268        838   7.45   8.68\n",
      "11              142374        682   7.73   7.07\n",
      "12              279748        850  15.18   8.81\n",
      "\n",
      "Expected Frequencies:\n",
      "is_fraud                 0            1\n",
      "trans_month                            \n",
      "1            104181.370789   545.629211\n",
      "2             97148.205593   508.794407\n",
      "3            143039.857194   749.142806\n",
      "4            134266.804314   703.195686\n",
      "5            146109.779089   765.220911\n",
      "6            172963.139951   905.860049\n",
      "7            171545.564222   898.435778\n",
      "8            175200.422628   917.577372\n",
      "9            139454.634087   730.365913\n",
      "10           137386.465708   719.534292\n",
      "11           142310.676135   745.323865\n",
      "12           279136.080291  1461.919709\n",
      "\n",
      "Chi-square Statistic = 865.6796\n",
      "Degrees of Freedom   = 11\n",
      "P-value              = 0.0000\n",
      "➡️ Statistically significant association (Reject Null Hypothesis)\n"
     ]
    },
    {
     "data": {
      "image/png": "[encoded data removed]",
      "text/plain": [
       "<Figure size 1000x600 with 1 Axes>"
      ]
     },
     "metadata": {},
     "output_type": "display_data"
    }
   ],
   "source": [
    "# Perform Chi-Square Test\n",
    "contingency_table_percent = st.chi_square_test(df, 'trans_month', 'is_fraud')\n",
    "contingency_table_percent.plot(\n",
    "    kind='bar',\n",
    "    stacked=True,\n",
    "    figsize=(10, 6),\n",
    "    color=['#4c72b0', '#dd8452']  # Optional: custom colors for clarity\n",
    ")\n",
    "\n",
    "plt.ylabel('Percentage')\n",
    "plt.xlabel('Month')\n",
    "plt.title('Percentage of Transactions by Month and Fraud Status')\n",
    "plt.legend(['Not Fraud', 'Fraud'], title='Is Fraud')\n",
    "plt.xticks(rotation=0, ha='right')\n",
    "plt.tight_layout()\n",
    "plt.show()"
   ]
  },
  {
   "cell_type": "markdown",
   "id": "f4fce8e9",
   "metadata": {},
   "source": [
    "#### Summary\n",
    "- The Chi-Square test provides strong statistical evidence to conclude that there is a significant association between the month of a transaction and whether or not it is fraudulent.\n",
    "- Some months, like January, February, March, and May, appear to have a relatively higher proportion of fraudulent transactions compared to their overall transaction volume.\n",
    "- Conversely, months like December, July, April, and November, show a comparatively lower proportion of fraud relative to their total transaction activity. December is particularly notable for its high volume of non-fraudulent transactions but a relatively lower percentage of fraud.\n",
    "- This finding suggests that the month of the year is a relevant factor in understanding and potentially predicting fraudulent activity. Further investigation into seasonal patterns, holidays, or specific events occurring in these months could provide deeper insights into the underlying reasons for these variations."
   ]
  },
  {
   "cell_type": "code",
   "execution_count": 15,
   "id": "3c340aa2",
   "metadata": {},
   "outputs": [
    {
     "name": "stdout",
     "output_type": "stream",
     "text": [
      "--- Chi-Square Test between 'category' and 'is_fraud' ---\n",
      "Contingency Table (Observed):\n",
      "is_fraud        0 (count)  1 (count)  0 (%)  1 (%)\n",
      "category                                          \n",
      "entertainment      133826        292   7.26   3.03\n",
      "food_dining        130524        205   7.08   2.12\n",
      "gas_transport      187257        772  10.16   8.00\n",
      "grocery_net         64703        175   3.51   1.81\n",
      "grocery_pos        173963       2228   9.44  23.09\n",
      "health_fitness     122368        185   6.64   1.92\n",
      "home               175195        265   9.51   2.75\n",
      "kids_pets          161423        304   8.76   3.15\n",
      "misc_net            89472       1182   4.86  12.25\n",
      "misc_pos           113907        322   6.18   3.34\n",
      "personal_care      129795        290   7.04   3.00\n",
      "shopping_net       137103       2219   7.44  22.99\n",
      "shopping_pos       165407       1056   8.98  10.94\n",
      "travel              57800        156   3.14   1.62\n",
      "\n",
      "Expected Frequencies:\n",
      "is_fraud                    0           1\n",
      "category                                 \n",
      "entertainment   133419.243246  698.756754\n",
      "food_dining     130047.899986  681.100014\n",
      "gas_transport   187049.366143  979.633857\n",
      "grocery_net      64539.984665  338.015335\n",
      "grocery_pos     175273.042297  917.957703\n",
      "health_fitness  121914.497066  638.502934\n",
      "home            174545.850818  914.149182\n",
      "kids_pets       160884.399950  842.600050\n",
      "misc_net         90181.691326  472.308674\n",
      "misc_pos        113633.865229  595.134771\n",
      "personal_care   129407.255236  677.744764\n",
      "shopping_net    138596.130330  725.869670\n",
      "shopping_pos    165595.725320  867.274680\n",
      "travel           57654.048387  301.951613\n",
      "\n",
      "Chi-square Statistic = 8329.1399\n",
      "Degrees of Freedom   = 13\n",
      "P-value              = 0.0000\n",
      "➡️ Statistically significant association (Reject Null Hypothesis)\n"
     ]
    },
    {
     "data": {
      "image/png": "[encoded data removed]",
      "text/plain": [
       "<Figure size 1000x600 with 1 Axes>"
      ]
     },
     "metadata": {},
     "output_type": "display_data"
    }
   ],
   "source": [
    "# Perform Chi-Square Test\n",
    "contingency_table_percent = st.chi_square_test(df, 'category', 'is_fraud')\n",
    "contingency_table_percent.plot(\n",
    "    kind='bar',\n",
    "    stacked=True,\n",
    "    figsize=(10, 6),\n",
    "    color=['#4c72b0', '#dd8452']  # Optional: custom colors for clarity\n",
    ")\n",
    "\n",
    "plt.ylabel('Percentage')\n",
    "plt.xlabel('Month')\n",
    "plt.title('Percentage of Transactions by Merchant and Fraud Status')\n",
    "plt.legend(['Not Fraud', 'Fraud'], title='Is Fraud')\n",
    "plt.xticks(rotation=45, ha='right')\n",
    "plt.tight_layout()\n",
    "plt.show()\n"
   ]
  },
  {
   "cell_type": "markdown",
   "id": "85cdc4b9",
   "metadata": {},
   "source": [
    "#### Summary\n",
    "- This Chi-Square test definitively shows strong statistical evidence that there is a significant association between the transaction 'category' and whether or not a transaction is fraudulent.\n",
    "- Fraud Risk by Category: Certain transaction categories, most notably 'grocery_pos', 'shopping_net', and 'misc_net', exhibit a significantly higher propensity for fraud compared to their overall transaction volume. These are critical areas for fraud detection and prevention efforts.\n",
    "- Lower Risk Categories: Conversely, categories like 'entertainment', 'food_dining', 'health_fitness', and 'home' appear to have a relatively lower fraud risk.\n",
    "- This information is highly valuable for building fraud detection models, implementing targeted fraud prevention rules, or designing specific monitoring for high-risk categories.\n",
    "    - High-Risk Categories:\n",
    "        - grocery_pos and shopping_net are top fraud targets, each accounting for 23% of fraud but much lower share of total transactions.\n",
    "        - misc_net also stands out with 12% of fraud from just 5% of transactions.\n",
    "    - Low-Risk Categories:\n",
    "        - Categories like entertainment, food_dining, health_fitness, and travel show significantly less fraud than expected.\\"
   ]
  },
  {
   "cell_type": "code",
   "execution_count": 16,
   "id": "0ee6cc36",
   "metadata": {},
   "outputs": [
    {
     "name": "stdout",
     "output_type": "stream",
     "text": [
      "--- Chi-Square Test between 'industry' and 'is_fraud' ---\n",
      "Contingency Table (Observed):\n",
      "is_fraud                                                      0 (count)  1 (count)  0 (%)  1 (%)\n",
      "industry                                                                                        \n",
      "Airlines                                                          56789        330   3.08   3.42\n",
      "Airlines & Financial                                             182050        889   9.88   9.21\n",
      "Banking & Financial (e.g., Mastercard)                            87385        529   4.74   5.48\n",
      "Banking & Financial (e.g., Visa)                                 595561       3082  32.32  31.93\n",
      "Merchandising & Banking (e.g., Discover)                         229365       1245  12.45  12.90\n",
      "Travel & Entertainment (e.g., American Express, Diners Club)     691593       3576  37.53  37.05\n",
      "\n",
      "Expected Frequencies:\n",
      "is_fraud                                                        0            1\n",
      "industry                                                                      \n",
      "Airlines                                             56821.409169   297.590831\n",
      "Airlines & Financial                                181985.885118   953.114882\n",
      "Banking & Financial (e.g., Mastercard)               87455.966766   458.033234\n",
      "Banking & Financial (e.g., Visa)                    595524.061160  3118.938840\n",
      "Merchandising & Banking (e.g., Discover)            229408.518506  1201.481494\n",
      "Travel & Entertainment (e.g., American Express,...  691547.159280  3621.840720\n",
      "\n",
      "Chi-square Statistic = 21.5441\n",
      "Degrees of Freedom   = 5\n",
      "P-value              = 0.0006\n",
      "➡️ Statistically significant association (Reject Null Hypothesis)\n"
     ]
    },
    {
     "data": {
      "image/png": "[encoded data removed]",
      "text/plain": [
       "<Figure size 1000x600 with 1 Axes>"
      ]
     },
     "metadata": {},
     "output_type": "display_data"
    }
   ],
   "source": [
    "# Perform Chi-Square Test\n",
    "contingency_table_percent = st.chi_square_test(df, 'industry', 'is_fraud')\n",
    "contingency_table_percent.plot(\n",
    "    kind='bar',\n",
    "    stacked=True,\n",
    "    figsize=(10, 6),\n",
    "    color=['#4c72b0', '#dd8452']  # Optional: custom colors for clarity\n",
    ")\n",
    "\n",
    "plt.ylabel('Percentage')\n",
    "plt.xlabel('Industry')\n",
    "plt.title('Percentage of Transactions by Industry and Fraud Status')\n",
    "plt.legend(['Not Fraud', 'Fraud'], title='Is Fraud')\n",
    "plt.xticks(rotation=45, ha='right')\n",
    "plt.tight_layout()\n",
    "plt.show()"
   ]
  },
  {
   "cell_type": "markdown",
   "id": "7c2e4dd9",
   "metadata": {},
   "source": [
    "#### Summary\n",
    "- The Chi-Square test provides statistically significant evidence that there is an association between the 'industry' and whether a transaction is fraudulent.\n",
    "- While some industries show very proportional fraud rates (like Visa and Amex/Diners Club due to their large overall volumes), others exhibit slight but statistically significant deviations. Specifically:\n",
    "    - Airlines and Banking & Financial (e.g., Mastercard) show a slightly higher percentage of fraudulent transactions compared to their overall transaction volume, suggesting a marginally elevated risk.\n",
    "    - Airlines & Financial shows a slightly lower percentage of fraudulent transactions.\n",
    "    - Although the proportional differences might seem small at first glance, the large number of observations (counts) gives the test enough power to detect these subtle but statistically significant variations. This means the distribution of fraud is not perfectly uniform across these industry types."
   ]
  },
  {
   "cell_type": "code",
   "execution_count": 17,
   "id": "2e3479f6",
   "metadata": {},
   "outputs": [
    {
     "name": "stdout",
     "output_type": "stream",
     "text": [
      "--- Chi-Square Test between 'cc_network' and 'is_fraud' ---\n",
      "Contingency Table (Observed):\n",
      "is_fraud          0 (count)  1 (count)  0 (%)  1 (%)\n",
      "cc_network                                          \n",
      "American Express     176191        898   9.56   9.30\n",
      "Diners Club          179127        847   9.72   8.78\n",
      "Discover             149308        776   8.10   8.04\n",
      "JCB                  208949       1201  11.34  12.44\n",
      "Maestro              138312        819   7.51   8.49\n",
      "Mastercard           136917        761   7.43   7.89\n",
      "Unknown              258378       1267  14.02  13.13\n",
      "Visa                 595561       3082  32.32  31.93\n",
      "\n",
      "Expected Frequencies:\n",
      "is_fraud                      0            1\n",
      "cc_network                                  \n",
      "American Express  176166.363704   922.636296\n",
      "Diners Club       179036.332811   937.667189\n",
      "Discover          149302.060151   781.939849\n",
      "JCB               209055.115407  1094.884593\n",
      "Maestro           138406.125443   724.874557\n",
      "Mastercard        136960.695594   717.304406\n",
      "Unknown           258292.245729  1352.754271\n",
      "Visa              595524.061160  3118.938840\n",
      "\n",
      "Chi-square Statistic = 40.7244\n",
      "Degrees of Freedom   = 7\n",
      "P-value              = 0.0000\n",
      "➡️ Statistically significant association (Reject Null Hypothesis)\n"
     ]
    },
    {
     "data": {
      "image/png": "[encoded data removed]",
      "text/plain": [
       "<Figure size 1000x600 with 1 Axes>"
      ]
     },
     "metadata": {},
     "output_type": "display_data"
    }
   ],
   "source": [
    "# Perform Chi-Square Test\n",
    "contingency_table_percent = st.chi_square_test(df, 'cc_network', 'is_fraud')\n",
    "contingency_table_percent.plot(\n",
    "    kind='bar',\n",
    "    stacked=True,\n",
    "    figsize=(10, 6),\n",
    "    color=['#4c72b0', '#dd8452']  # Optional: custom colors for clarity\n",
    ")\n",
    "\n",
    "plt.ylabel('Percentage')\n",
    "plt.xlabel('CC Network')\n",
    "plt.title('Percentage of Transactions by CC Network and Fraud Status')\n",
    "plt.legend(['Not Fraud', 'Fraud'], title='Is Fraud')\n",
    "plt.xticks(rotation=45, ha='right')\n",
    "plt.tight_layout()\n",
    "plt.show()"
   ]
  },
  {
   "cell_type": "markdown",
   "id": "d1b79b12",
   "metadata": {},
   "source": [
    "#### Summary\n",
    "- The Chi-Square test provides strong statistical evidence that there is a significant association between the credit card network used for a transaction and whether or not that transaction is fraudulent.\n",
    "- While some networks like Visa and Discover show very proportional fraud rates (meaning their share of fraud is similar to their share of overall transactions), the statistical significance arises from the deviations seen in other networks:\n",
    "- JCB and Maestro appear to be slightly overrepresented in fraudulent transactions (meaning a higher percentage of total fraud involves these networks than their percentage of total non-fraudulent transactions).\n",
    "- Diners Club appears to be slightly underrepresented in fraudulent transactions.\n",
    "- These differences, although sometimes appearing small in percentage points, are consistently strong enough across the large dataset to be considered statistically significant, meaning they are unlikely due to random chance. This indicates that the credit card network can be a relevant factor in fraud analysis and detection."
   ]
  },
  {
   "cell_type": "code",
   "execution_count": 18,
   "id": "adf5f8b8",
   "metadata": {},
   "outputs": [
    {
     "name": "stdout",
     "output_type": "stream",
     "text": [
      "--- Chi-Square Test between 'gender' and 'is_fraud' ---\n",
      "Contingency Table (Observed):\n",
      "is_fraud  0 (count)  1 (count)  0 (%)  1 (%)\n",
      "gender                                      \n",
      "F           1009850       4899  54.80  50.76\n",
      "M            832893       4752  45.20  49.24\n",
      "\n",
      "Expected Frequencies:\n",
      "is_fraud             0            1\n",
      "gender                             \n",
      "F         1.009462e+06  5286.857223\n",
      "M         8.332809e+05  4364.142777\n",
      "\n",
      "Chi-square Statistic = 63.0910\n",
      "Degrees of Freedom   = 1\n",
      "P-value              = 0.0000\n",
      "➡️ Statistically significant association (Reject Null Hypothesis)\n"
     ]
    },
    {
     "data": {
      "image/png": "[encoded data removed]",
      "text/plain": [
       "<Figure size 1000x600 with 1 Axes>"
      ]
     },
     "metadata": {},
     "output_type": "display_data"
    }
   ],
   "source": [
    "# Perform Chi-Square Test\n",
    "contingency_table_percent = st.chi_square_test(df, 'gender', 'is_fraud')\n",
    "contingency_table_percent.plot(\n",
    "    kind='bar',\n",
    "    stacked=True,\n",
    "    figsize=(10, 6),\n",
    "    color=['#4c72b0', '#dd8452']  # Optional: custom colors for clarity\n",
    ")\n",
    "\n",
    "plt.ylabel('Percentage')\n",
    "plt.xlabel('Gender')\n",
    "plt.title('Percentage of Transactions by Gender and Fraud Status')\n",
    "plt.legend(['Not Fraud', 'Fraud'], title='Is Fraud')\n",
    "plt.xticks(rotation=0, ha='right')\n",
    "plt.tight_layout()\n",
    "plt.show()"
   ]
  },
  {
   "cell_type": "markdown",
   "id": "2fe63b89",
   "metadata": {},
   "source": [
    "#### Summary\n",
    "- The Chi-Square test provides strong statistical evidence that there is a significant association between 'gender' and whether or not a transaction is fraudulent.\n",
    "- Although the percentage differences might seem small (e.g., 54.80% vs 50.76% for females), the extremely large sample size allows even these subtle variations to be statistically significant.\n",
    "- While females account for a larger share of overall transactions, they are slightly less likely to be involved in fraudulent transactions when compared to their overall transaction volume.\n",
    "- Conversely, males account for a smaller share of overall transactions, but are slightly more likely to be involved in fraudulent transactions when compared to their overall transaction volume.\n",
    "- This doesn't mean that one gender is inherently \"more fraudulent\" than the other, but rather that there's a detectable pattern in how fraud manifests across gender categories within this dataset. This insight could be used to inform fraud detection models or risk assessment strategies, as gender appears to be a statistically relevant feature."
   ]
  },
  {
   "cell_type": "code",
   "execution_count": 19,
   "id": "17312c66",
   "metadata": {},
   "outputs": [
    {
     "data": {
      "image/png": "[encoded data removed]",
      "text/plain": [
       "<Figure size 1000x600 with 1 Axes>"
      ]
     },
     "metadata": {},
     "output_type": "display_data"
    }
   ],
   "source": [
    "pf.plot_violin_by_binary_category(df, 'is_fraud', 'age')"
   ]
  },
  {
   "cell_type": "code",
   "execution_count": 20,
   "id": "a533b93a",
   "metadata": {},
   "outputs": [
    {
     "data": {
      "image/png": "[encoded data removed]",
      "text/plain": [
       "<Figure size 1000x600 with 1 Axes>"
      ]
     },
     "metadata": {},
     "output_type": "display_data"
    }
   ],
   "source": [
    "pf.plot_violin_by_binary_category(df, 'is_fraud', 'amt_log')"
   ]
  },
  {
   "cell_type": "code",
   "execution_count": 21,
   "id": "7154e178",
   "metadata": {},
   "outputs": [
    {
     "data": {
      "image/png": "[encoded data removed]",
      "text/plain": [
       "<Figure size 1400x600 with 2 Axes>"
      ]
     },
     "metadata": {},
     "output_type": "display_data"
    }
   ],
   "source": [
    "pf.plot_distribution(df, 'age', 'is_fraud', log_scale=False, bins=50)"
   ]
  },
  {
   "cell_type": "code",
   "execution_count": 22,
   "id": "8fe49eb7",
   "metadata": {},
   "outputs": [
    {
     "name": "stdout",
     "output_type": "stream",
     "text": [
      "<class 'pandas.core.frame.DataFrame'>\n",
      "RangeIndex: 1852394 entries, 0 to 1852393\n",
      "Data columns (total 41 columns):\n",
      " #   Column                 Dtype         \n",
      "---  ------                 -----         \n",
      " 0   Unnamed: 0             int64         \n",
      " 1   trans_date_trans_time  datetime64[ns]\n",
      " 2   cc_num                 int64         \n",
      " 3   merchant               category      \n",
      " 4   category               category      \n",
      " 5   amt                    float64       \n",
      " 6   first                  object        \n",
      " 7   last                   object        \n",
      " 8   gender                 category      \n",
      " 9   street                 object        \n",
      " 10  city                   category      \n",
      " 11  state                  category      \n",
      " 12  zip                    category      \n",
      " 13  lat                    float64       \n",
      " 14  long                   float64       \n",
      " 15  city_pop               int64         \n",
      " 16  job                    category      \n",
      " 17  dob                    datetime64[ns]\n",
      " 18  trans_num              object        \n",
      " 19  unix_time              int64         \n",
      " 20  merch_lat              float64       \n",
      " 21  merch_long             float64       \n",
      " 22  is_fraud               category      \n",
      " 23  trans_qtr              category      \n",
      " 24  trans_month            category      \n",
      " 25  trans_day              category      \n",
      " 26  trans_day_of_week      category      \n",
      " 27  trans_hour             category      \n",
      " 28  trans_week_of_year     category      \n",
      " 29  is_weekend             bool          \n",
      " 30  trans_hour_sin         float64       \n",
      " 31  trans_hour_cos         float64       \n",
      " 32  trans_month_sin        float64       \n",
      " 33  trans_month_cos        float64       \n",
      " 34  trans_day_of_week_sin  float64       \n",
      " 35  trans_day_of_week_cos  float64       \n",
      " 36  age                    int64         \n",
      " 37  industry               category      \n",
      " 38  cc_network             category      \n",
      " 39  store_distance         float64       \n",
      " 40  amt_log                float64       \n",
      "dtypes: bool(1), category(16), datetime64[ns](2), float64(13), int64(5), object(4)\n",
      "memory usage: 376.4+ MB\n"
     ]
    }
   ],
   "source": [
    "df.info()"
   ]
  },
  {
   "cell_type": "code",
   "execution_count": null,
   "id": "d38d0303",
   "metadata": {},
   "outputs": [],
   "source": []
  }
 ],
 "metadata": {
  "kernelspec": {
   "display_name": "Project",
   "language": "python",
   "name": "python3"
  },
  "language_info": {
   "codemirror_mode": {
    "name": "ipython",
    "version": 3
   },
   "file_extension": ".py",
   "mimetype": "text/x-python",
   "name": "python",
   "nbconvert_exporter": "python",
   "pygments_lexer": "ipython3",
   "version": "3.13.5"
  }
 },
 "nbformat": 4,
 "nbformat_minor": 5
}
